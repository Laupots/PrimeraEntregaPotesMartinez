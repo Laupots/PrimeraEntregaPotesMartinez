{
  "nbformat": 4,
  "nbformat_minor": 0,
  "metadata": {
    "colab": {
      "provenance": [],
      "toc_visible": true,
      "authorship_tag": "ABX9TyPosCFJ3kgpBI8NsUlqYADH",
      "include_colab_link": true
    },
    "kernelspec": {
      "name": "python3",
      "display_name": "Python 3"
    },
    "language_info": {
      "name": "python"
    }
  },
  "cells": [
    {
      "cell_type": "markdown",
      "metadata": {
        "id": "view-in-github",
        "colab_type": "text"
      },
      "source": [
        "<a href=\"https://colab.research.google.com/github/Laupots/PrimeraEntregaPotesMartinez/blob/main/Proyecto_ParteIII_Potes_Martinez.ipynb\" target=\"_parent\"><img src=\"https://colab.research.google.com/assets/colab-badge.svg\" alt=\"Open In Colab\"/></a>"
      ]
    },
    {
      "cell_type": "markdown",
      "source": [
        "### PROYECTO DIVORCIO\n",
        "\n",
        "\n",
        "1.   **Abstracto:**\n",
        "\n",
        "En esta investigación, se utiliza un conjunto de datos obtenido del registro civil de la ciudad de Xalapa, México, el cual abarca un período de 15 años (2000-2015) y contiene registros de más de 4,900 divorcios. Este conjunto de datos es particularmente interesante, ya que incluye información sensible, como las fechas de nacimiento de los divorciados, que generalmente no se encuentra disponible en conjuntos de datos públicos.*texto en cursiva*\n",
        "\n",
        "**El objetivo principal** de esta investigación es analizar y predecir diferentes aspectos relacionados con los divorcios en la ciudad de Xalapa. Para ello, se plantean varias hipótesis que veremos mas adelante.\n",
        "\n",
        "Para llevar a cabo esta investigación, se aplicarán técnicas de análisis de datos y modelado estadístico al conjunto de datos disponible. Se analizarán las relaciones entre las variables y se buscarán patrones que permitan evaluar la validez de las hipótesis planteadas.\n",
        "\n",
        "Los resultados de esta investigación podrían tener implicaciones significativas en el diseño de políticas públicas y programas de apoyo a las parejas. También podrían contribuir al desarrollo de estrategias efectivas para promover la estabilidad matrimonial y prevenir el divorcio en la sociedad mexicana.\n",
        "\n",
        "En resumen, esta investigación utiliza un conjunto de datos único para explorar y predecir factores relacionados con los divorcios en la ciudad de Xalapa. A través del análisis de estas variables, se busca comprender mejor los factores que influyen en la tendencia al divorcio y proporcionar información valiosa para abordar este tema en la sociedad.\n",
        "\n",
        "2.   **Pregunta comercial:**\n",
        "\n",
        "¿Cuáles son los factores relacionados con los divorcios en la ciudad de Xalapa, México, y cómo influyen en la tendencia al divorcio?\n",
        "\n",
        "Esta pregunta problema busca identificar y comprender los diferentes factores que pueden influir en la ocurrencia de divorcios en la ciudad de Xalapa. Al analizar variables como la disparidad en los ingresos de hombres y mujeres, el nivel de ingresos y actividad laboral, el nivel de escolaridad, la presencia de hijos, entre otros, se pretende determinar qué factores están asociados con una mayor tendencia al divorcio en esta área geográfica.\n",
        "\n",
        "3.  **Hipótesis:**\n",
        "\n",
        "1) Existe una relación entre la disparidad en los ingresos de hombres y mujeres y la tendencia al divorcio.\n",
        "\n",
        "2) El nivel de ingresos y la actividad laboral pueden influir en la duración del matrimonio.\n",
        "\n",
        "3) El nivel de escolaridad puede influir en la tendencia al divorcio tanto en hombres como en mujeres.\n",
        "\n",
        "4) La presencia de hijos puede actuar como un factor de estabilidad en la relación de pareja y disminuir la probabilidad de divorcio.\n",
        "\n",
        "4.  **Contexto Comercial**\n",
        "\n",
        "En el contexto comercial y analítico del dataset de divorcios en Xalapa,\n",
        "México, hay varias variables que podrían resultar interesantes. Algunas variables potencialmente relevantes incluyen:\n",
        "\n",
        "Fecha de divorcio: Esta variable puede ser útil para analizar patrones de\n",
        "divorcio a lo largo del tiempo y detectar posibles tendencias o estacionalidades.\n",
        "\n",
        "Fechas de nacimiento de ambos cónyuges: Aunque esta información se considera sensible, tener acceso a las fechas de nacimiento puede permitir realizar análisis demográficos y generar insights sobre la relación entre la edad de los cónyuges y la probabilidad de divorcio.\n",
        "\n",
        "Nacionalidad de ambos cónyuges: Esta variable puede ser relevante para analizar las diferencias culturales y su impacto en la tasa de divorcio en la ciudad de Xalapa.\n",
        "\n",
        "Lugar de nacimiento y residencia de ambos cónyuges: Estas variables podrían ayudar a entender si hay alguna correlación entre la localización geográfica y las tasas de divorcio en la ciudad. También podrían ser útiles para investigar si hay diferencias significativas en las tasas de divorcio entre los residentes locales y los no locales.\n",
        "\n",
        "Ingreso mensual de ambos cónyuges: El nivel de ingresos podría ser un factor relevante en el análisis de divorcios, ya que los problemas económicos pueden contribuir a las tensiones en una relación.\n",
        "\n",
        "Ocupación de ambos cónyuges: La ocupación podría estar relacionada con el nivel socioeconómico y el estilo de vida, lo cual podría influir en las tasas de divorcio. Esta variable podría ser útil para explorar si ciertas ocupaciones están asociadas con mayores o menores probabilidades de divorcio.\n",
        "\n",
        "Fecha de matrimonio: Esta variable puede ser interesante para analizar la duración de los matrimonios antes de que ocurra el divorcio y detectar patrones o tendencias relacionadas.\n",
        "\n",
        "Nivel educativo de ambos cónyuges: El nivel de educación puede tener un impacto en las relaciones matrimoniales. Analizar esta variable podría proporcionar información sobre si hay alguna relación entre el nivel educativo y la tasa de divorcio.\n",
        "\n",
        "Estado laboral de ambos cónyuges: Esta variable puede ser relevante para investigar si el estado laboral, como el desempleo o la inestabilidad laboral, influye en las tasas de divorcio.\n",
        "\n",
        "Número de hijos y su custodia: Estas variables pueden proporcionar información sobre cómo los hijos y la custodia pueden afectar las decisiones de divorcio. Analizar esta información podría revelar patrones y factores relacionados con la custodia de los hijos.\n",
        "\n",
        "\n",
        "\n",
        "\n",
        "\n",
        "\n"
      ],
      "metadata": {
        "id": "vTQDjj_S9wW7"
      }
    },
    {
      "cell_type": "markdown",
      "source": [
        "\n",
        "## Analisis Exploratorio de Datos EDA\n",
        "\n",
        "---\n",
        "\n"
      ],
      "metadata": {
        "id": "d-8pUmP7CyHj"
      }
    },
    {
      "cell_type": "markdown",
      "source": [
        "Vamos a importar las librerias requeridas\n",
        "\n",
        "---\n",
        "\n",
        "\n"
      ],
      "metadata": {
        "id": "T7TFWspc67-t"
      }
    },
    {
      "cell_type": "code",
      "source": [
        "import pandas as pd"
      ],
      "metadata": {
        "id": "nk2z1HVU_KQl"
      },
      "execution_count": null,
      "outputs": []
    },
    {
      "cell_type": "code",
      "source": [
        "import matplotlib as mpl\n",
        "import numpy as np\n",
        "import seaborn as sns\n",
        "\n",
        "# Importando un módulo (subcarpeta) de la librería\n",
        "import matplotlib.pyplot as plt\n",
        "\n",
        "from   scipy import stats\n",
        "from datetime import datetime, timedelta\n",
        "from matplotlib import pyplot as plt\n",
        "from matplotlib import dates as mpl_dates\n",
        "from mpl_toolkits.mplot3d import Axes3D\n",
        "import statsmodels.formula.api as sm\n",
        "import statsmodels.api as sm\n",
        "import statsmodels.formula.api as smf\n",
        "from sklearn.decomposition import PCA\n",
        "from sklearn.model_selection import train_test_split\n",
        "from sklearn.linear_model import LinearRegression\n",
        "from sklearn.metrics import mean_squared_error\n",
        "# Standard\n",
        "from bokeh.io import output_notebook, show, reset_output\n",
        "# Other\n",
        "import bokeh\n",
        "from bokeh.plotting import figure"
      ],
      "metadata": {
        "id": "FnOfR9E41H88"
      },
      "execution_count": null,
      "outputs": []
    },
    {
      "cell_type": "code",
      "source": [
        "from google.colab import drive"
      ],
      "metadata": {
        "id": "ln8OZmPu7YKH"
      },
      "execution_count": null,
      "outputs": []
    },
    {
      "cell_type": "code",
      "source": [
        "drive.mount(\"mi_carpeta\")"
      ],
      "metadata": {
        "colab": {
          "base_uri": "https://localhost:8080/"
        },
        "id": "31qWjGbu9aNg",
        "outputId": "5a1e6d34-b9cd-42bc-fe97-d067f87a4808"
      },
      "execution_count": null,
      "outputs": [
        {
          "output_type": "stream",
          "name": "stdout",
          "text": [
            "Mounted at mi_carpeta\n"
          ]
        }
      ]
    },
    {
      "cell_type": "code",
      "source": [
        "%cd mi_carpeta"
      ],
      "metadata": {
        "colab": {
          "base_uri": "https://localhost:8080/"
        },
        "id": "CG72CIyJ9dio",
        "outputId": "f716dcb3-1088-4c1c-ae66-a670108b2a0c"
      },
      "execution_count": null,
      "outputs": [
        {
          "output_type": "stream",
          "name": "stdout",
          "text": [
            "/content/mi_carpeta\n"
          ]
        }
      ]
    },
    {
      "cell_type": "code",
      "source": [
        "%cd MyDrive"
      ],
      "metadata": {
        "colab": {
          "base_uri": "https://localhost:8080/"
        },
        "id": "NZecUu_A9p_f",
        "outputId": "9db83e11-dfac-46f9-a255-9299c8117268"
      },
      "execution_count": null,
      "outputs": [
        {
          "output_type": "stream",
          "name": "stdout",
          "text": [
            "/content/mi_carpeta/MyDrive\n"
          ]
        }
      ]
    },
    {
      "cell_type": "code",
      "source": [
        "%ls"
      ],
      "metadata": {
        "colab": {
          "base_uri": "https://localhost:8080/"
        },
        "id": "woiYItXw-L1p",
        "outputId": "ea366047-a30f-4834-e356-e5529fe8e22c"
      },
      "execution_count": null,
      "outputs": [
        {
          "output_type": "stream",
          "name": "stdout",
          "text": [
            " 10.Multicolinealidad.pdf\n",
            " 11.Specificacion.pdf\n",
            " 14.Correlacion_Serial.pdf\n",
            " 14.Normalidad.pdf\n",
            " 15.ST_Otros_Temas.pdf\n",
            " 17323487.xlsx\n",
            " 18.MV.pdf\n",
            "'1er parcial Maximización LHG-r.pdf'\n",
            " 20151028_145539.jpg\n",
            "'2016 Quickbooks Client List.xlsx'\n",
            " 958628025X_.pdf\n",
            " Afiche.gslides\n",
            "'Altura, Salúd y desarrollo.gslides'\n",
            " analisis.gdoc\n",
            " anticoncepcion.gdoc\n",
            " ATT00001.txt\n",
            " ATT00005.txt\n",
            "'Autorizacion de datos personales Full (1)ol.gdoc'\n",
            "'Autorizacion de datos personales Full.gdoc'\n",
            "'Bases CV.gdoc'\n",
            " boardingPass.pdf\n",
            "'BurgosPotes_trabajo decente y crecimiento economico..gdoc'\n",
            "'CAJA MENOR 2020.xlsx'\n",
            " Calculo_de_varias_variable_Stewart_6a_Edicion.zip\n",
            "'Carta de Motivación.gdoc'\n",
            "'Cartas retiro LAURA ERIKA POTES MARTINEZ.pdf'\n",
            "'Checklist (1).xlsx'\n",
            " Checklist.gsheet\n",
            " Checklist.xlsx\n",
            "'Choques de Oferta y Respuesta del BR_Anif.pdf'\n",
            "'citrics trunk.gdoc'\n",
            "' Client Contact List .gsheet'\n",
            "'clima frances.docx'\n",
            " \u001b[0m\u001b[01;34mCODERHOUSE\u001b[0m/\n",
            "\u001b[01;34m'Colab Notebooks'\u001b[0m/\n",
            " Comentario.gdoc\n",
            "'¿Como se ve afectada la felicidad de la mujer referente a la variación de los distintos factores sociales?.gslides'\n",
            "'Copia de Antecedentes Laura (1).pdf'\n",
            "'Copia de Antecedentes Laura.pdf'\n",
            "'Copia de Antecedentes Mary (1).pdf'\n",
            "'Copia de Antecedentes Mary.pdf'\n",
            "'Copia de Antecedentes Victor (1).pdf'\n",
            "'Copia de Antecedentes Victor.pdf'\n",
            "'Copia de BTCUSD_1hr.csv'\n",
            "'Copia de camara de comercio (1).pdf'\n",
            "'Copia de camara de comercio.pdf'\n",
            "'Copia de carne Fabian TRADUCIR (1).pdf'\n",
            "'Copia de carne Fabian TRADUCIR.pdf'\n",
            "'Copia de carne Laura (1).pdf'\n",
            "'Copia de carne Laura.pdf'\n",
            "'Copia de carne Mary (1).pdf'\n",
            "'Copia de carne Mary.pdf'\n",
            "'Copia de carne Victor (1) (1).pdf'\n",
            "'Copia de carne Victor (1).pdf'\n",
            "'Copia de cedula Nelsy (1).pdf'\n",
            "'Copia de cedula Nelsy.pdf'\n",
            "'Copia de CERTIFICACION PANTHER CONTADOR (1).pdf'\n",
            "'Copia de CERTIFICACION PANTHER CONTADOR.pdf'\n",
            "'Copia de Certificado Estudios (1).pdf'\n",
            "'Copia de Certificado Estudios.pdf'\n",
            "'Copia de Certificado Laboral Compensar Indefinido (1).pdf'\n",
            "'Copia de Certificado Laboral Compensar Indefinido.pdf'\n",
            "'Copia de CERTIFICADO LABORAL LAURA POTES BP (1).pdf'\n",
            "'Copia de CERTIFICADO LABORAL LAURA POTES BP.pdf'\n",
            "'Copia de CV Laura Potes Martinez.docx'\n",
            "'Copia de Declaración Renta 2020 (1).pdf'\n",
            "'Copia de Declaración Renta 2020.pdf'\n",
            "'Copia de DECLARACION RENTA PANTHER 2021 (1).pdf'\n",
            "'Copia de DECLARACION RENTA PANTHER 2021.pdf'\n",
            "'Copia de DIPLOMA (1).pdf'\n",
            "'Copia de DiplomaBachiller (1).pdf'\n",
            "'Copia de DiplomaBachiller.pdf'\n",
            "'Copia de DIPLOMA.pdf'\n",
            "'Copia de Econometría 1ra entrega.gslides'\n",
            "'Copia de Econometría 1ra entrega.pptx'\n",
            "'Copia de Econometría 1ra entrega.pptx.gslides'\n",
            "'Copia de Estado de Resultado Integral (1).pdf'\n",
            "'Copia de Estado de Resultado Integral.pdf'\n",
            "'Copia de Estado de Situacion financiera (1).pdf'\n",
            "'Copia de Estado de Situacion financiera.pdf'\n",
            "'Copia de GetFileAttachment'\n",
            "'Copia de INTERNSHIP CERTIFICATE (1).pdf'\n",
            "'Copia de INTERNSHIP CERTIFICATE.pdf'\n",
            "'Copia de lauraerikapotesmartinez-sign_14 (1).pdf'\n",
            "'Copia de lauraerikapotesmartinez-sign_14.pdf'\n",
            "'Copia de libertad y tradicion casa (1).pdf'\n",
            "'Copia de libertad y tradicion casa.pdf'\n",
            "'Copia de libertad y tradicion Fabrica (1).pdf'\n",
            "'Copia de libertad y tradicion Fabrica.pdf'\n",
            "'Copia de POLICE CERTIFICATE A TRADUCIR (1).pdf'\n",
            "'Copia de POLICE CERTIFICATE A TRADUCIR.pdf'\n",
            "'Copia de pune_1965_to_2002 (1).csv'\n",
            "'Copia de pune_1965_to_2002.csv'\n",
            "'Copia de QUADI (1).pdf'\n",
            "'Copia de QUADI.pdf'\n",
            "'Copia de RC Angelica (1).pdf'\n",
            "'Copia de RC Angelica.pdf'\n",
            "'Copia de RC Laura (1).pdf'\n",
            "'Copia de RC Laura.pdf'\n",
            "'Copia de RC Mary Luz (1).pdf'\n",
            "'Copia de RC Mary Luz.pdf'\n",
            "'Copia de RC TRADUCIR Fabian (1).pdf'\n",
            "'Copia de RC TRADUCIR Fabian.pdf'\n",
            "'Copia de RC Victor (1).pdf'\n",
            "'Copia de RC Victor.pdf'\n",
            "'Copia de RUT (1).pdf'\n",
            "'Copia de RUT.pdf'\n",
            "'Copia de TARJETA DE PROPIEDAD  CAMIONETA (1).pdf'\n",
            "'Copia de TARJETA DE PROPIEDAD  CAMIONETA.pdf'\n",
            "'Copia de tarjeta profesional Nelsy.pdf'\n",
            "'Copia de TARJETA PROFESIONAL.pdf'\n",
            "'COVER LETTER.gdoc'\n",
            "'cv CANADA - Gráfico de líneas 1.gsheet'\n",
            "'cv formación.gdoc'\n",
            " CV.gdoc\n",
            "'CV - Laura E. Potes.docx'\n",
            "'CV Laura E. Potes M..docx'\n",
            "'CV LAURA POTES .gdoc'\n",
            "'CV LAURA POTES.gdoc'\n",
            " dani.pptx\n",
            "'Documento sin título (1).gdoc'\n",
            "'Documento sin título (2).gdoc'\n",
            "'Documento sin título (3).gdoc'\n",
            "'Documento sin título (4).gdoc'\n",
            "'Documento sin título (5).gdoc'\n",
            "'Documento sin título (6).gdoc'\n",
            "'Documento sin título (7).gdoc'\n",
            "'Documento sin título.gdoc'\n",
            "'Dominar la econometria - Joshua D. Angrist y Jorn-Steffe (1).pdf'\n",
            "'Dominar la econometria - Joshua D. Angrist y Jorn-Steffe.pdf'\n",
            " Dossier.gslides\n",
            "'eaab_ec_nov_2008 (1).gsheet'\n",
            "'Econometría 1ra entrega.gslides'\n",
            " EJERCICIOS_OCT_22.docx\n",
            " Elizabeth.docx\n",
            "'Enero (1).zip'\n",
            " Enero.csv\n",
            " Enero.zip\n",
            " ensayo.gdoc\n",
            "\u001b[01;34m'ENTREGA KATHERINE'\u001b[0m/\n",
            "\u001b[01;36m'ENTREGA KATHERINE (1)'\u001b[0m@\n",
            " EPS008_Dispensacion_Cruz_Verde_MicroredSur_202207.xlsx\n",
            "'exposicion epidermis.docx'\n",
            "'Exterior Estimate Form.xlsx'\n",
            " FB_IMG_1428171596270.jpg\n",
            "'Febrero (1).zip'\n",
            " Febrero.zip\n",
            " \u001b[01;34mFiles\u001b[0m/\n",
            "'Formato Autocalificación.gsheet'\n",
            "'FORMATO DE SOLICITUD DE EMPLEO full.gsheet'\n",
            "'Formato hoja de vida.gdoc'\n",
            "'formato_p11_0   mision verificacion de la ONU en COLOMBIA.gdoc'\n",
            " Formulario.gsheet\n",
            "'Formulario sin título (Respuestas) (1).gsheet'\n",
            "'Formulario sin título (Respuestas) (2).gsheet'\n",
            "'Formulario sin título (Respuestas).gsheet'\n",
            "'fotos 1.pptx'\n",
            "'frances futuro.mp4'\n",
            " GetFileAttachment\n",
            "'Guía de Respuesta y autocalificación.gdoc'\n",
            "' HDV Laura Potes  .docx'\n",
            "'HDV LAURA POTES TP.gdoc'\n",
            "'HISTORIA COLOMBIANA DEBATE.gdoc'\n",
            " Historia.docx\n",
            " Historia.gdoc\n",
            "'Hoja de cálculo sin título.gsheet'\n",
            " Homework.gdoc\n",
            " homicidios-ven-col.xlsx\n",
            " Huella.gdoc\n",
            "'HV Laura Potes Martinez.docx'\n",
            " \u001b[01;34mInglés\u001b[0m/\n",
            "'Interior Estimate Form.xlsx'\n",
            "'intervención en el mercado de divisas de las EME.docx'\n",
            "'Joshua D. Angrist, Jörn-Steffen Pischke-Mastering '\\''Metrics_ The Path from Cause to Effect-Princeton University Press (2014).pdf'\n",
            "'la promesa de las instituciones globales.docx'\n",
            "'laura acta.xlsx'\n",
            "'LAURA E. POTES CV .gdoc'\n",
            "'Laura E. Potes M. (1).pdf'\n",
            "'Laura E. Potes M..docx'\n",
            "'Laura E. Potes M..pdf'\n",
            "\u001b[01;34m'LAURA ERIKA POTES MARTINEZ C-39955'\u001b[0m/\n",
            "\u001b[01;34m'LAURA ERIKA POTES MARTINEZ C- 42365'\u001b[0m/\n",
            "' Laura Potes 1 .docx'\n",
            "' Laura Potes (1).pdf'\n",
            "' Laura Potes (2).pdf'\n",
            "' Laura Potes (3).pdf'\n",
            "' Laura Potes (4).pdf'\n",
            "' Laura Potes (5).pdf'\n",
            "'Laura Potes-6.pdf'\n",
            "' Laura Potes .docx'\n",
            "'LAURA POTES.gdoc'\n",
            "'LAURA POTES INGLES.gdoc'\n",
            "'LAURA POTES MARTINEZ CV CA (1).gdoc'\n",
            "'LAURA POTES MARTINEZ CV CA.gdoc'\n",
            "'LAURA POTES MARTINEZ CV D.gdoc'\n",
            "'Laura Potes Martinez.gdoc'\n",
            "' Laura Potes.pdf'\n",
            "'Laura Potes.pdf'\n",
            "'Lista de chequeo para la buena comprensión.docx'\n",
            "'LISTA DE DOCUMENTOS PARA LA CONTRATACION.pdf'\n",
            "'Lista de tareas (1).gsheet'\n",
            "'Lista de tareas.gsheet'\n",
            "'ma famille.pptx'\n",
            "'mapa conceptual mujeres.pptx'\n",
            "'MARCO TEORICO.docx'\n",
            "'María Teresa Arizabaleta.gslides'\n",
            "'Marzo (1).zip'\n",
            " Marzo.zip\n",
            " Mercadeo.gslides\n",
            "'MET ANSWER SHEET (2).pdf'\n",
            "'Mexico pais en donde menos importa el bienestar de la mujer.pdf'\n",
            "'Mostly Harmless Econometrics.docx'\n",
            "'mujeres en la biblia.docx'\n",
            "'mujeres en la biblia.gdoc'\n",
            " onu.gdoc\n",
            " OUTLIERS.gslides\n",
            "'Pandemia como punto de inflexión del capitalismo.gdoc'\n",
            "'Participación de las mujeres nasa en los procesos de autonomía territorial y educación propia del Cauca, Colombia.gslides'\n",
            "'passion insect.gdoc'\n",
            "'PERFIL LAURA POTES.gdoc'\n",
            "'Permiso de Estudio Cuestionario.docx'\n",
            "'Permiso de Estudio Cuestionario.gdoc'\n",
            "'PODER DIVORCIO.docx'\n",
            "'PODER DIVORCIO.gdoc'\n",
            "'Políticas monetarias y cambiarias.docx'\n",
            "'PROFILE LAURA POTES.gdoc'\n",
            "'PROGRESS REPORT.gsheet'\n",
            "' PROPUESTA.gdoc'\n",
            " PRUEBA.gsheet\n",
            "'PRUEBA THINK SOCIAL.gdoc'\n",
            "'PVV 200505.gsheet'\n",
            "'PVV 200505.xlsx'\n",
            "'RESEÑA HISTORIA.gdoc'\n",
            " RESUMEN.gdoc\n",
            "'Selection on Observed and Unobserved Variables.docx'\n",
            "'Sim 1 Answer Key.pdf'\n",
            " tabaco.gdoc\n",
            " Tabaco.gslides\n",
            " taller1_2016-ll.pdf\n",
            " taller%20MANKIW%20ECONOMIA.docx\n",
            "'taller 3.gdoc'\n",
            "'TALLER 3.gdoc'\n",
            " TallerAplicaciones.pdf\n",
            "'Taller II 2016-2.pdf'\n",
            "'taylor español.docx'\n",
            "'The RAND Health Insurance Experiment.docx'\n",
            "'The  treatment of animals on farms or in research.gdoc'\n",
            "'TIR Potes.gsheet'\n",
            "'TORMENTAS ELECTRICAS E INUNDACIONES (1).gdoc'\n",
            "'TRABAJO FINAL.gsheet'\n",
            " trabajo.gsheet\n",
            " UR_HeCol_FichaAnteproyectos2018.gdoc\n",
            "'us_presidents 2.csv'\n",
            " VISA2.jpg\n"
          ]
        }
      ]
    },
    {
      "cell_type": "code",
      "source": [
        "%cd 'LAURA ERIKA POTES MARTINEZ C- 42365'"
      ],
      "metadata": {
        "colab": {
          "base_uri": "https://localhost:8080/"
        },
        "id": "BIkdH5m--jti",
        "outputId": "e0511faa-2924-4690-ace3-97b777dcf352"
      },
      "execution_count": null,
      "outputs": [
        {
          "output_type": "stream",
          "name": "stdout",
          "text": [
            "/content/mi_carpeta/MyDrive/LAURA ERIKA POTES MARTINEZ C- 42365\n"
          ]
        }
      ]
    },
    {
      "cell_type": "code",
      "source": [
        "%ls"
      ],
      "metadata": {
        "colab": {
          "base_uri": "https://localhost:8080/"
        },
        "id": "sJTCUkH-_RsP",
        "outputId": "8182fc1e-3a8d-48d2-c8ed-326a7eca7b83"
      },
      "execution_count": null,
      "outputs": [
        {
          "output_type": "stream",
          "name": "stdout",
          "text": [
            "\u001b[0m\u001b[01;34m'Cuarta Entrega'\u001b[0m/   \u001b[01;34m'Quinta Entrega'\u001b[0m/   \u001b[01;34m'Tercera Entrega'\u001b[0m/\n",
            "\u001b[01;34m'Primera Entrega'\u001b[0m/  \u001b[01;34m'Segunda Entrega'\u001b[0m/\n"
          ]
        }
      ]
    },
    {
      "cell_type": "code",
      "source": [
        "%cd 'Quinta Entrega'/"
      ],
      "metadata": {
        "colab": {
          "base_uri": "https://localhost:8080/"
        },
        "id": "9dS4knO4yLJZ",
        "outputId": "70d87b18-1f6b-4bd9-f5ae-72bb2b1e1fbd"
      },
      "execution_count": null,
      "outputs": [
        {
          "output_type": "stream",
          "name": "stdout",
          "text": [
            "/content/mi_carpeta/MyDrive/LAURA ERIKA POTES MARTINEZ C- 42365/Quinta Entrega\n"
          ]
        }
      ]
    },
    {
      "cell_type": "code",
      "source": [
        "%ls"
      ],
      "metadata": {
        "colab": {
          "base_uri": "https://localhost:8080/"
        },
        "id": "l5_DHpaEyT5K",
        "outputId": "18b9ad34-f8dd-4b3a-91c7-c7be030cda61"
      },
      "execution_count": null,
      "outputs": [
        {
          "output_type": "stream",
          "name": "stdout",
          "text": [
            " divorces_2000-2015_original.csv  'Proyecto_ParteIII_Potes Martinez.ipynb'\n"
          ]
        }
      ]
    },
    {
      "cell_type": "code",
      "source": [
        "Divorcio=pd.read_csv(\"divorces_2000-2015_original.csv\",delimiter=\";\")"
      ],
      "metadata": {
        "id": "_BJOaeqR-wYq"
      },
      "execution_count": null,
      "outputs": []
    },
    {
      "cell_type": "markdown",
      "source": [
        "Llamemos la base"
      ],
      "metadata": {
        "id": "j46xhS47Aq6M"
      }
    },
    {
      "cell_type": "code",
      "source": [
        "Divorcio"
      ],
      "metadata": {
        "colab": {
          "base_uri": "https://localhost:8080/",
          "height": 626
        },
        "id": "DswU_1SJ_tkG",
        "outputId": "baac74f0-812e-4f39-f965-997fe8c0b5a6"
      },
      "execution_count": null,
      "outputs": [
        {
          "output_type": "execute_result",
          "data": {
            "text/plain": [
              "     Fecha de Registro        Tipo Nacionalidad   F_Naci_Do  \\\n",
              "0            9/06/2006   Necesario     MEXICANA  18/12/1975   \n",
              "1            1/02/2000  Voluntario     MEXICANA         NaN   \n",
              "2            1/02/2005   Necesario     MEXICANA  22/02/1955   \n",
              "3            1/02/2006   Necesario     MEXICANA  20/01/1964   \n",
              "4            1/02/2006   Necesario     MEXICANA  30/10/1975   \n",
              "...                ...         ...          ...         ...   \n",
              "4918        31/10/2012  Voluntario     MEXICANA  29/10/1977   \n",
              "4919        31/10/2013  Voluntario     MEXICANA  10/11/1982   \n",
              "4920        31/10/2013  Voluntario     MEXICANA  28/10/1954   \n",
              "4921        31/12/2012  Voluntario     MEXICANA   7/02/1958   \n",
              "4922        31/12/2013  Voluntario     MEXICANA  22/06/1960   \n",
              "\n",
              "             LocNaci_Do  MpioNaci_Do EFedNaci_Do PaisNaci_Do  Edad  \\\n",
              "0     XALAPA - ENRIQUEZ       XALAPA    VERACRUZ      MEXICO  30.0   \n",
              "1                   NaN          NaN         NaN         NaN  47.0   \n",
              "2     XALAPA - ENRIQUEZ       XALAPA    VERACRUZ      MEXICO  49.0   \n",
              "3     XALAPA - ENRIQUEZ       XALAPA    VERACRUZ      MEXICO  42.0   \n",
              "4     XALAPA - ENRIQUEZ       XALAPA    VERACRUZ      MEXICO  30.0   \n",
              "...                 ...          ...         ...         ...   ...   \n",
              "4918            MORELIA      MORELIA   MICHOACAN      MEXICO  35.0   \n",
              "4919           VERACRUZ     VERACRUZ    VERACRUZ      MEXICO  30.0   \n",
              "4920  XALAPA - ENRIQUEZ       XALAPA    VERACRUZ      MEXICO  59.0   \n",
              "4921         TLAPACOYAN   TLAPACOYAN    VERACRUZ      MEXICO  54.0   \n",
              "4922        TLACOTALPAN  TLACOTALPAN    VERACRUZ      MEXICO  53.0   \n",
              "\n",
              "           MpioHab_Do  ...   Municipio Entidad Federativa  ElEscolaridad  \\\n",
              "0              XALAPA  ...      XALAPA           VERACRUZ     SECUNDARIA   \n",
              "1                 NaN  ...      XALAPA           VERACRUZ   PREPARATORIA   \n",
              "2                 NaN  ...      XALAPA           VERACRUZ   PREPARATORIA   \n",
              "3              XALAPA  ...      XALAPA           VERACRUZ    PROFESIONAL   \n",
              "4            COATEPEC  ...      XALAPA           VERACRUZ    PROFESIONAL   \n",
              "...               ...  ...         ...                ...            ...   \n",
              "4918          MORELIA  ...      XALAPA           VERACRUZ    PROFESIONAL   \n",
              "4919           XALAPA  ...      XALAPA           VERACRUZ    PROFESIONAL   \n",
              "4920  EMILIANO ZAPATA  ...      XALAPA           VERACRUZ    PROFESIONAL   \n",
              "4921           XALAPA  ...  TLAPACOYAN           VERACRUZ   PREPARATORIA   \n",
              "4922           XALAPA  ...    COATEPEC           VERACRUZ    PROFESIONAL   \n",
              "\n",
              "            ElTrabajo EllaEscolaridad  \\\n",
              "0              OBRERO      SECUNDARIA   \n",
              "1     ESTABLECIMIENTO    PREPARATORIA   \n",
              "2              OBRERO             NaN   \n",
              "3            EMPLEADO    PREPARATORIA   \n",
              "4            EMPLEADO    PREPARATORIA   \n",
              "...               ...             ...   \n",
              "4918         EMPLEADO     PROFESIONAL   \n",
              "4919         EMPLEADO     PROFESIONAL   \n",
              "4920         EMPLEADO     PROFESIONAL   \n",
              "4921              NaN        PRIMARIA   \n",
              "4922         EMPLEADO     PROFESIONAL   \n",
              "\n",
              "                                       EllaTrabajo Matri_A√±os Matri_Meses  \\\n",
              "0                                         EMPLEADO         5.0         NaN   \n",
              "1                                         EMPLEADO         NaN         NaN   \n",
              "2     TRABAJADOR POR CUENTA PROPIA EN VIA PUBLICA          NaN         NaN   \n",
              "3                                         EMPLEADO        18.0         NaN   \n",
              "4                                       NO TRABAJA         7.0         NaN   \n",
              "...                                            ...         ...         ...   \n",
              "4918                                      EMPLEADO         3.0        11.0   \n",
              "4919                                      EMPLEADO         1.0         NaN   \n",
              "4920                                      EMPLEADO        35.0         NaN   \n",
              "4921                                    NO TRABAJA        33.0         NaN   \n",
              "4922                                      EMPLEADO         4.0         NaN   \n",
              "\n",
              "     Num_Hijos Custodia  \n",
              "0          1.0      NaN  \n",
              "1          NaN      NaN  \n",
              "2          NaN      NaN  \n",
              "3          2.0    MADRE  \n",
              "4          2.0    MADRE  \n",
              "...        ...      ...  \n",
              "4918       NaN      NaN  \n",
              "4919       NaN      NaN  \n",
              "4920       2.0      NaN  \n",
              "4921       2.0      NaN  \n",
              "4922       NaN      NaN  \n",
              "\n",
              "[4923 rows x 41 columns]"
            ],
            "text/html": [
              "\n",
              "\n",
              "  <div id=\"df-e90df85d-24de-4524-9f14-2142669ec945\">\n",
              "    <div class=\"colab-df-container\">\n",
              "      <div>\n",
              "<style scoped>\n",
              "    .dataframe tbody tr th:only-of-type {\n",
              "        vertical-align: middle;\n",
              "    }\n",
              "\n",
              "    .dataframe tbody tr th {\n",
              "        vertical-align: top;\n",
              "    }\n",
              "\n",
              "    .dataframe thead th {\n",
              "        text-align: right;\n",
              "    }\n",
              "</style>\n",
              "<table border=\"1\" class=\"dataframe\">\n",
              "  <thead>\n",
              "    <tr style=\"text-align: right;\">\n",
              "      <th></th>\n",
              "      <th>Fecha de Registro</th>\n",
              "      <th>Tipo</th>\n",
              "      <th>Nacionalidad</th>\n",
              "      <th>F_Naci_Do</th>\n",
              "      <th>LocNaci_Do</th>\n",
              "      <th>MpioNaci_Do</th>\n",
              "      <th>EFedNaci_Do</th>\n",
              "      <th>PaisNaci_Do</th>\n",
              "      <th>Edad</th>\n",
              "      <th>MpioHab_Do</th>\n",
              "      <th>...</th>\n",
              "      <th>Municipio</th>\n",
              "      <th>Entidad Federativa</th>\n",
              "      <th>ElEscolaridad</th>\n",
              "      <th>ElTrabajo</th>\n",
              "      <th>EllaEscolaridad</th>\n",
              "      <th>EllaTrabajo</th>\n",
              "      <th>Matri_A√±os</th>\n",
              "      <th>Matri_Meses</th>\n",
              "      <th>Num_Hijos</th>\n",
              "      <th>Custodia</th>\n",
              "    </tr>\n",
              "  </thead>\n",
              "  <tbody>\n",
              "    <tr>\n",
              "      <th>0</th>\n",
              "      <td>9/06/2006</td>\n",
              "      <td>Necesario</td>\n",
              "      <td>MEXICANA</td>\n",
              "      <td>18/12/1975</td>\n",
              "      <td>XALAPA - ENRIQUEZ</td>\n",
              "      <td>XALAPA</td>\n",
              "      <td>VERACRUZ</td>\n",
              "      <td>MEXICO</td>\n",
              "      <td>30.0</td>\n",
              "      <td>XALAPA</td>\n",
              "      <td>...</td>\n",
              "      <td>XALAPA</td>\n",
              "      <td>VERACRUZ</td>\n",
              "      <td>SECUNDARIA</td>\n",
              "      <td>OBRERO</td>\n",
              "      <td>SECUNDARIA</td>\n",
              "      <td>EMPLEADO</td>\n",
              "      <td>5.0</td>\n",
              "      <td>NaN</td>\n",
              "      <td>1.0</td>\n",
              "      <td>NaN</td>\n",
              "    </tr>\n",
              "    <tr>\n",
              "      <th>1</th>\n",
              "      <td>1/02/2000</td>\n",
              "      <td>Voluntario</td>\n",
              "      <td>MEXICANA</td>\n",
              "      <td>NaN</td>\n",
              "      <td>NaN</td>\n",
              "      <td>NaN</td>\n",
              "      <td>NaN</td>\n",
              "      <td>NaN</td>\n",
              "      <td>47.0</td>\n",
              "      <td>NaN</td>\n",
              "      <td>...</td>\n",
              "      <td>XALAPA</td>\n",
              "      <td>VERACRUZ</td>\n",
              "      <td>PREPARATORIA</td>\n",
              "      <td>ESTABLECIMIENTO</td>\n",
              "      <td>PREPARATORIA</td>\n",
              "      <td>EMPLEADO</td>\n",
              "      <td>NaN</td>\n",
              "      <td>NaN</td>\n",
              "      <td>NaN</td>\n",
              "      <td>NaN</td>\n",
              "    </tr>\n",
              "    <tr>\n",
              "      <th>2</th>\n",
              "      <td>1/02/2005</td>\n",
              "      <td>Necesario</td>\n",
              "      <td>MEXICANA</td>\n",
              "      <td>22/02/1955</td>\n",
              "      <td>XALAPA - ENRIQUEZ</td>\n",
              "      <td>XALAPA</td>\n",
              "      <td>VERACRUZ</td>\n",
              "      <td>MEXICO</td>\n",
              "      <td>49.0</td>\n",
              "      <td>NaN</td>\n",
              "      <td>...</td>\n",
              "      <td>XALAPA</td>\n",
              "      <td>VERACRUZ</td>\n",
              "      <td>PREPARATORIA</td>\n",
              "      <td>OBRERO</td>\n",
              "      <td>NaN</td>\n",
              "      <td>TRABAJADOR POR CUENTA PROPIA EN VIA PUBLICA</td>\n",
              "      <td>NaN</td>\n",
              "      <td>NaN</td>\n",
              "      <td>NaN</td>\n",
              "      <td>NaN</td>\n",
              "    </tr>\n",
              "    <tr>\n",
              "      <th>3</th>\n",
              "      <td>1/02/2006</td>\n",
              "      <td>Necesario</td>\n",
              "      <td>MEXICANA</td>\n",
              "      <td>20/01/1964</td>\n",
              "      <td>XALAPA - ENRIQUEZ</td>\n",
              "      <td>XALAPA</td>\n",
              "      <td>VERACRUZ</td>\n",
              "      <td>MEXICO</td>\n",
              "      <td>42.0</td>\n",
              "      <td>XALAPA</td>\n",
              "      <td>...</td>\n",
              "      <td>XALAPA</td>\n",
              "      <td>VERACRUZ</td>\n",
              "      <td>PROFESIONAL</td>\n",
              "      <td>EMPLEADO</td>\n",
              "      <td>PREPARATORIA</td>\n",
              "      <td>EMPLEADO</td>\n",
              "      <td>18.0</td>\n",
              "      <td>NaN</td>\n",
              "      <td>2.0</td>\n",
              "      <td>MADRE</td>\n",
              "    </tr>\n",
              "    <tr>\n",
              "      <th>4</th>\n",
              "      <td>1/02/2006</td>\n",
              "      <td>Necesario</td>\n",
              "      <td>MEXICANA</td>\n",
              "      <td>30/10/1975</td>\n",
              "      <td>XALAPA - ENRIQUEZ</td>\n",
              "      <td>XALAPA</td>\n",
              "      <td>VERACRUZ</td>\n",
              "      <td>MEXICO</td>\n",
              "      <td>30.0</td>\n",
              "      <td>COATEPEC</td>\n",
              "      <td>...</td>\n",
              "      <td>XALAPA</td>\n",
              "      <td>VERACRUZ</td>\n",
              "      <td>PROFESIONAL</td>\n",
              "      <td>EMPLEADO</td>\n",
              "      <td>PREPARATORIA</td>\n",
              "      <td>NO TRABAJA</td>\n",
              "      <td>7.0</td>\n",
              "      <td>NaN</td>\n",
              "      <td>2.0</td>\n",
              "      <td>MADRE</td>\n",
              "    </tr>\n",
              "    <tr>\n",
              "      <th>...</th>\n",
              "      <td>...</td>\n",
              "      <td>...</td>\n",
              "      <td>...</td>\n",
              "      <td>...</td>\n",
              "      <td>...</td>\n",
              "      <td>...</td>\n",
              "      <td>...</td>\n",
              "      <td>...</td>\n",
              "      <td>...</td>\n",
              "      <td>...</td>\n",
              "      <td>...</td>\n",
              "      <td>...</td>\n",
              "      <td>...</td>\n",
              "      <td>...</td>\n",
              "      <td>...</td>\n",
              "      <td>...</td>\n",
              "      <td>...</td>\n",
              "      <td>...</td>\n",
              "      <td>...</td>\n",
              "      <td>...</td>\n",
              "      <td>...</td>\n",
              "    </tr>\n",
              "    <tr>\n",
              "      <th>4918</th>\n",
              "      <td>31/10/2012</td>\n",
              "      <td>Voluntario</td>\n",
              "      <td>MEXICANA</td>\n",
              "      <td>29/10/1977</td>\n",
              "      <td>MORELIA</td>\n",
              "      <td>MORELIA</td>\n",
              "      <td>MICHOACAN</td>\n",
              "      <td>MEXICO</td>\n",
              "      <td>35.0</td>\n",
              "      <td>MORELIA</td>\n",
              "      <td>...</td>\n",
              "      <td>XALAPA</td>\n",
              "      <td>VERACRUZ</td>\n",
              "      <td>PROFESIONAL</td>\n",
              "      <td>EMPLEADO</td>\n",
              "      <td>PROFESIONAL</td>\n",
              "      <td>EMPLEADO</td>\n",
              "      <td>3.0</td>\n",
              "      <td>11.0</td>\n",
              "      <td>NaN</td>\n",
              "      <td>NaN</td>\n",
              "    </tr>\n",
              "    <tr>\n",
              "      <th>4919</th>\n",
              "      <td>31/10/2013</td>\n",
              "      <td>Voluntario</td>\n",
              "      <td>MEXICANA</td>\n",
              "      <td>10/11/1982</td>\n",
              "      <td>VERACRUZ</td>\n",
              "      <td>VERACRUZ</td>\n",
              "      <td>VERACRUZ</td>\n",
              "      <td>MEXICO</td>\n",
              "      <td>30.0</td>\n",
              "      <td>XALAPA</td>\n",
              "      <td>...</td>\n",
              "      <td>XALAPA</td>\n",
              "      <td>VERACRUZ</td>\n",
              "      <td>PROFESIONAL</td>\n",
              "      <td>EMPLEADO</td>\n",
              "      <td>PROFESIONAL</td>\n",
              "      <td>EMPLEADO</td>\n",
              "      <td>1.0</td>\n",
              "      <td>NaN</td>\n",
              "      <td>NaN</td>\n",
              "      <td>NaN</td>\n",
              "    </tr>\n",
              "    <tr>\n",
              "      <th>4920</th>\n",
              "      <td>31/10/2013</td>\n",
              "      <td>Voluntario</td>\n",
              "      <td>MEXICANA</td>\n",
              "      <td>28/10/1954</td>\n",
              "      <td>XALAPA - ENRIQUEZ</td>\n",
              "      <td>XALAPA</td>\n",
              "      <td>VERACRUZ</td>\n",
              "      <td>MEXICO</td>\n",
              "      <td>59.0</td>\n",
              "      <td>EMILIANO ZAPATA</td>\n",
              "      <td>...</td>\n",
              "      <td>XALAPA</td>\n",
              "      <td>VERACRUZ</td>\n",
              "      <td>PROFESIONAL</td>\n",
              "      <td>EMPLEADO</td>\n",
              "      <td>PROFESIONAL</td>\n",
              "      <td>EMPLEADO</td>\n",
              "      <td>35.0</td>\n",
              "      <td>NaN</td>\n",
              "      <td>2.0</td>\n",
              "      <td>NaN</td>\n",
              "    </tr>\n",
              "    <tr>\n",
              "      <th>4921</th>\n",
              "      <td>31/12/2012</td>\n",
              "      <td>Voluntario</td>\n",
              "      <td>MEXICANA</td>\n",
              "      <td>7/02/1958</td>\n",
              "      <td>TLAPACOYAN</td>\n",
              "      <td>TLAPACOYAN</td>\n",
              "      <td>VERACRUZ</td>\n",
              "      <td>MEXICO</td>\n",
              "      <td>54.0</td>\n",
              "      <td>XALAPA</td>\n",
              "      <td>...</td>\n",
              "      <td>TLAPACOYAN</td>\n",
              "      <td>VERACRUZ</td>\n",
              "      <td>PREPARATORIA</td>\n",
              "      <td>NaN</td>\n",
              "      <td>PRIMARIA</td>\n",
              "      <td>NO TRABAJA</td>\n",
              "      <td>33.0</td>\n",
              "      <td>NaN</td>\n",
              "      <td>2.0</td>\n",
              "      <td>NaN</td>\n",
              "    </tr>\n",
              "    <tr>\n",
              "      <th>4922</th>\n",
              "      <td>31/12/2013</td>\n",
              "      <td>Voluntario</td>\n",
              "      <td>MEXICANA</td>\n",
              "      <td>22/06/1960</td>\n",
              "      <td>TLACOTALPAN</td>\n",
              "      <td>TLACOTALPAN</td>\n",
              "      <td>VERACRUZ</td>\n",
              "      <td>MEXICO</td>\n",
              "      <td>53.0</td>\n",
              "      <td>XALAPA</td>\n",
              "      <td>...</td>\n",
              "      <td>COATEPEC</td>\n",
              "      <td>VERACRUZ</td>\n",
              "      <td>PROFESIONAL</td>\n",
              "      <td>EMPLEADO</td>\n",
              "      <td>PROFESIONAL</td>\n",
              "      <td>EMPLEADO</td>\n",
              "      <td>4.0</td>\n",
              "      <td>NaN</td>\n",
              "      <td>NaN</td>\n",
              "      <td>NaN</td>\n",
              "    </tr>\n",
              "  </tbody>\n",
              "</table>\n",
              "<p>4923 rows × 41 columns</p>\n",
              "</div>\n",
              "      <button class=\"colab-df-convert\" onclick=\"convertToInteractive('df-e90df85d-24de-4524-9f14-2142669ec945')\"\n",
              "              title=\"Convert this dataframe to an interactive table.\"\n",
              "              style=\"display:none;\">\n",
              "\n",
              "  <svg xmlns=\"http://www.w3.org/2000/svg\" height=\"24px\"viewBox=\"0 0 24 24\"\n",
              "       width=\"24px\">\n",
              "    <path d=\"M0 0h24v24H0V0z\" fill=\"none\"/>\n",
              "    <path d=\"M18.56 5.44l.94 2.06.94-2.06 2.06-.94-2.06-.94-.94-2.06-.94 2.06-2.06.94zm-11 1L8.5 8.5l.94-2.06 2.06-.94-2.06-.94L8.5 2.5l-.94 2.06-2.06.94zm10 10l.94 2.06.94-2.06 2.06-.94-2.06-.94-.94-2.06-.94 2.06-2.06.94z\"/><path d=\"M17.41 7.96l-1.37-1.37c-.4-.4-.92-.59-1.43-.59-.52 0-1.04.2-1.43.59L10.3 9.45l-7.72 7.72c-.78.78-.78 2.05 0 2.83L4 21.41c.39.39.9.59 1.41.59.51 0 1.02-.2 1.41-.59l7.78-7.78 2.81-2.81c.8-.78.8-2.07 0-2.86zM5.41 20L4 18.59l7.72-7.72 1.47 1.35L5.41 20z\"/>\n",
              "  </svg>\n",
              "      </button>\n",
              "\n",
              "\n",
              "\n",
              "    <div id=\"df-73df1521-0f60-4715-ae7b-74864951e655\">\n",
              "      <button class=\"colab-df-quickchart\" onclick=\"quickchart('df-73df1521-0f60-4715-ae7b-74864951e655')\"\n",
              "              title=\"Suggest charts.\"\n",
              "              style=\"display:none;\">\n",
              "\n",
              "<svg xmlns=\"http://www.w3.org/2000/svg\" height=\"24px\"viewBox=\"0 0 24 24\"\n",
              "     width=\"24px\">\n",
              "    <g>\n",
              "        <path d=\"M19 3H5c-1.1 0-2 .9-2 2v14c0 1.1.9 2 2 2h14c1.1 0 2-.9 2-2V5c0-1.1-.9-2-2-2zM9 17H7v-7h2v7zm4 0h-2V7h2v10zm4 0h-2v-4h2v4z\"/>\n",
              "    </g>\n",
              "</svg>\n",
              "      </button>\n",
              "    </div>\n",
              "\n",
              "<style>\n",
              "  .colab-df-quickchart {\n",
              "    background-color: #E8F0FE;\n",
              "    border: none;\n",
              "    border-radius: 50%;\n",
              "    cursor: pointer;\n",
              "    display: none;\n",
              "    fill: #1967D2;\n",
              "    height: 32px;\n",
              "    padding: 0 0 0 0;\n",
              "    width: 32px;\n",
              "  }\n",
              "\n",
              "  .colab-df-quickchart:hover {\n",
              "    background-color: #E2EBFA;\n",
              "    box-shadow: 0px 1px 2px rgba(60, 64, 67, 0.3), 0px 1px 3px 1px rgba(60, 64, 67, 0.15);\n",
              "    fill: #174EA6;\n",
              "  }\n",
              "\n",
              "  [theme=dark] .colab-df-quickchart {\n",
              "    background-color: #3B4455;\n",
              "    fill: #D2E3FC;\n",
              "  }\n",
              "\n",
              "  [theme=dark] .colab-df-quickchart:hover {\n",
              "    background-color: #434B5C;\n",
              "    box-shadow: 0px 1px 3px 1px rgba(0, 0, 0, 0.15);\n",
              "    filter: drop-shadow(0px 1px 2px rgba(0, 0, 0, 0.3));\n",
              "    fill: #FFFFFF;\n",
              "  }\n",
              "</style>\n",
              "\n",
              "    <script>\n",
              "      async function quickchart(key) {\n",
              "        const containerElement = document.querySelector('#' + key);\n",
              "        const charts = await google.colab.kernel.invokeFunction(\n",
              "            'suggestCharts', [key], {});\n",
              "      }\n",
              "    </script>\n",
              "\n",
              "      <script>\n",
              "\n",
              "function displayQuickchartButton(domScope) {\n",
              "  let quickchartButtonEl =\n",
              "    domScope.querySelector('#df-73df1521-0f60-4715-ae7b-74864951e655 button.colab-df-quickchart');\n",
              "  quickchartButtonEl.style.display =\n",
              "    google.colab.kernel.accessAllowed ? 'block' : 'none';\n",
              "}\n",
              "\n",
              "        displayQuickchartButton(document);\n",
              "      </script>\n",
              "      <style>\n",
              "    .colab-df-container {\n",
              "      display:flex;\n",
              "      flex-wrap:wrap;\n",
              "      gap: 12px;\n",
              "    }\n",
              "\n",
              "    .colab-df-convert {\n",
              "      background-color: #E8F0FE;\n",
              "      border: none;\n",
              "      border-radius: 50%;\n",
              "      cursor: pointer;\n",
              "      display: none;\n",
              "      fill: #1967D2;\n",
              "      height: 32px;\n",
              "      padding: 0 0 0 0;\n",
              "      width: 32px;\n",
              "    }\n",
              "\n",
              "    .colab-df-convert:hover {\n",
              "      background-color: #E2EBFA;\n",
              "      box-shadow: 0px 1px 2px rgba(60, 64, 67, 0.3), 0px 1px 3px 1px rgba(60, 64, 67, 0.15);\n",
              "      fill: #174EA6;\n",
              "    }\n",
              "\n",
              "    [theme=dark] .colab-df-convert {\n",
              "      background-color: #3B4455;\n",
              "      fill: #D2E3FC;\n",
              "    }\n",
              "\n",
              "    [theme=dark] .colab-df-convert:hover {\n",
              "      background-color: #434B5C;\n",
              "      box-shadow: 0px 1px 3px 1px rgba(0, 0, 0, 0.15);\n",
              "      filter: drop-shadow(0px 1px 2px rgba(0, 0, 0, 0.3));\n",
              "      fill: #FFFFFF;\n",
              "    }\n",
              "  </style>\n",
              "\n",
              "      <script>\n",
              "        const buttonEl =\n",
              "          document.querySelector('#df-e90df85d-24de-4524-9f14-2142669ec945 button.colab-df-convert');\n",
              "        buttonEl.style.display =\n",
              "          google.colab.kernel.accessAllowed ? 'block' : 'none';\n",
              "\n",
              "        async function convertToInteractive(key) {\n",
              "          const element = document.querySelector('#df-e90df85d-24de-4524-9f14-2142669ec945');\n",
              "          const dataTable =\n",
              "            await google.colab.kernel.invokeFunction('convertToInteractive',\n",
              "                                                     [key], {});\n",
              "          if (!dataTable) return;\n",
              "\n",
              "          const docLinkHtml = 'Like what you see? Visit the ' +\n",
              "            '<a target=\"_blank\" href=https://colab.research.google.com/notebooks/data_table.ipynb>data table notebook</a>'\n",
              "            + ' to learn more about interactive tables.';\n",
              "          element.innerHTML = '';\n",
              "          dataTable['output_type'] = 'display_data';\n",
              "          await google.colab.output.renderOutput(dataTable, element);\n",
              "          const docLink = document.createElement('div');\n",
              "          docLink.innerHTML = docLinkHtml;\n",
              "          element.appendChild(docLink);\n",
              "        }\n",
              "      </script>\n",
              "    </div>\n",
              "  </div>\n"
            ]
          },
          "metadata": {},
          "execution_count": 13
        }
      ]
    },
    {
      "cell_type": "markdown",
      "source": [
        "Aca vemos el estado actual de la base\n"
      ],
      "metadata": {
        "id": "4wFyjmoFAvZC"
      }
    },
    {
      "cell_type": "code",
      "source": [
        "Divorcio.isnull()"
      ],
      "metadata": {
        "colab": {
          "base_uri": "https://localhost:8080/",
          "height": 505
        },
        "id": "aiv-5ie6iWCw",
        "outputId": "0d4c89b3-6f7c-4125-acd7-97226f17644f"
      },
      "execution_count": null,
      "outputs": [
        {
          "output_type": "execute_result",
          "data": {
            "text/plain": [
              "      Fecha de Registro   Tipo  Nacionalidad  F_Naci_Do  LocNaci_Do  \\\n",
              "0                 False  False         False      False       False   \n",
              "1                 False  False         False       True        True   \n",
              "2                 False  False         False      False       False   \n",
              "3                 False  False         False      False       False   \n",
              "4                 False  False         False      False       False   \n",
              "...                 ...    ...           ...        ...         ...   \n",
              "4918              False  False         False      False       False   \n",
              "4919              False  False         False      False       False   \n",
              "4920              False  False         False      False       False   \n",
              "4921              False  False         False      False       False   \n",
              "4922              False  False         False      False       False   \n",
              "\n",
              "      MpioNaci_Do  EFedNaci_Do  PaisNaci_Do   Edad  MpioHab_Do  ...  \\\n",
              "0           False        False        False  False       False  ...   \n",
              "1            True         True         True  False        True  ...   \n",
              "2           False        False        False  False        True  ...   \n",
              "3           False        False        False  False       False  ...   \n",
              "4           False        False        False  False       False  ...   \n",
              "...           ...          ...          ...    ...         ...  ...   \n",
              "4918        False        False        False  False       False  ...   \n",
              "4919        False        False        False  False       False  ...   \n",
              "4920        False        False        False  False       False  ...   \n",
              "4921        False        False        False  False       False  ...   \n",
              "4922        False        False        False  False       False  ...   \n",
              "\n",
              "      Municipio  Entidad Federativa  ElEscolaridad  ElTrabajo  \\\n",
              "0         False               False          False      False   \n",
              "1         False               False          False      False   \n",
              "2         False               False          False      False   \n",
              "3         False               False          False      False   \n",
              "4         False               False          False      False   \n",
              "...         ...                 ...            ...        ...   \n",
              "4918      False               False          False      False   \n",
              "4919      False               False          False      False   \n",
              "4920      False               False          False      False   \n",
              "4921      False               False          False       True   \n",
              "4922      False               False          False      False   \n",
              "\n",
              "      EllaEscolaridad  EllaTrabajo  Matri_A√±os  Matri_Meses  Num_Hijos  \\\n",
              "0               False        False        False         True      False   \n",
              "1               False        False         True         True       True   \n",
              "2                True        False         True         True       True   \n",
              "3               False        False        False         True      False   \n",
              "4               False        False        False         True      False   \n",
              "...               ...          ...          ...          ...        ...   \n",
              "4918            False        False        False        False       True   \n",
              "4919            False        False        False         True       True   \n",
              "4920            False        False        False         True      False   \n",
              "4921            False        False        False         True      False   \n",
              "4922            False        False        False         True       True   \n",
              "\n",
              "      Custodia  \n",
              "0         True  \n",
              "1         True  \n",
              "2         True  \n",
              "3        False  \n",
              "4        False  \n",
              "...        ...  \n",
              "4918      True  \n",
              "4919      True  \n",
              "4920      True  \n",
              "4921      True  \n",
              "4922      True  \n",
              "\n",
              "[4923 rows x 41 columns]"
            ],
            "text/html": [
              "\n",
              "\n",
              "  <div id=\"df-8afadb3e-09ed-4446-a853-d67cacefb15b\">\n",
              "    <div class=\"colab-df-container\">\n",
              "      <div>\n",
              "<style scoped>\n",
              "    .dataframe tbody tr th:only-of-type {\n",
              "        vertical-align: middle;\n",
              "    }\n",
              "\n",
              "    .dataframe tbody tr th {\n",
              "        vertical-align: top;\n",
              "    }\n",
              "\n",
              "    .dataframe thead th {\n",
              "        text-align: right;\n",
              "    }\n",
              "</style>\n",
              "<table border=\"1\" class=\"dataframe\">\n",
              "  <thead>\n",
              "    <tr style=\"text-align: right;\">\n",
              "      <th></th>\n",
              "      <th>Fecha de Registro</th>\n",
              "      <th>Tipo</th>\n",
              "      <th>Nacionalidad</th>\n",
              "      <th>F_Naci_Do</th>\n",
              "      <th>LocNaci_Do</th>\n",
              "      <th>MpioNaci_Do</th>\n",
              "      <th>EFedNaci_Do</th>\n",
              "      <th>PaisNaci_Do</th>\n",
              "      <th>Edad</th>\n",
              "      <th>MpioHab_Do</th>\n",
              "      <th>...</th>\n",
              "      <th>Municipio</th>\n",
              "      <th>Entidad Federativa</th>\n",
              "      <th>ElEscolaridad</th>\n",
              "      <th>ElTrabajo</th>\n",
              "      <th>EllaEscolaridad</th>\n",
              "      <th>EllaTrabajo</th>\n",
              "      <th>Matri_A√±os</th>\n",
              "      <th>Matri_Meses</th>\n",
              "      <th>Num_Hijos</th>\n",
              "      <th>Custodia</th>\n",
              "    </tr>\n",
              "  </thead>\n",
              "  <tbody>\n",
              "    <tr>\n",
              "      <th>0</th>\n",
              "      <td>False</td>\n",
              "      <td>False</td>\n",
              "      <td>False</td>\n",
              "      <td>False</td>\n",
              "      <td>False</td>\n",
              "      <td>False</td>\n",
              "      <td>False</td>\n",
              "      <td>False</td>\n",
              "      <td>False</td>\n",
              "      <td>False</td>\n",
              "      <td>...</td>\n",
              "      <td>False</td>\n",
              "      <td>False</td>\n",
              "      <td>False</td>\n",
              "      <td>False</td>\n",
              "      <td>False</td>\n",
              "      <td>False</td>\n",
              "      <td>False</td>\n",
              "      <td>True</td>\n",
              "      <td>False</td>\n",
              "      <td>True</td>\n",
              "    </tr>\n",
              "    <tr>\n",
              "      <th>1</th>\n",
              "      <td>False</td>\n",
              "      <td>False</td>\n",
              "      <td>False</td>\n",
              "      <td>True</td>\n",
              "      <td>True</td>\n",
              "      <td>True</td>\n",
              "      <td>True</td>\n",
              "      <td>True</td>\n",
              "      <td>False</td>\n",
              "      <td>True</td>\n",
              "      <td>...</td>\n",
              "      <td>False</td>\n",
              "      <td>False</td>\n",
              "      <td>False</td>\n",
              "      <td>False</td>\n",
              "      <td>False</td>\n",
              "      <td>False</td>\n",
              "      <td>True</td>\n",
              "      <td>True</td>\n",
              "      <td>True</td>\n",
              "      <td>True</td>\n",
              "    </tr>\n",
              "    <tr>\n",
              "      <th>2</th>\n",
              "      <td>False</td>\n",
              "      <td>False</td>\n",
              "      <td>False</td>\n",
              "      <td>False</td>\n",
              "      <td>False</td>\n",
              "      <td>False</td>\n",
              "      <td>False</td>\n",
              "      <td>False</td>\n",
              "      <td>False</td>\n",
              "      <td>True</td>\n",
              "      <td>...</td>\n",
              "      <td>False</td>\n",
              "      <td>False</td>\n",
              "      <td>False</td>\n",
              "      <td>False</td>\n",
              "      <td>True</td>\n",
              "      <td>False</td>\n",
              "      <td>True</td>\n",
              "      <td>True</td>\n",
              "      <td>True</td>\n",
              "      <td>True</td>\n",
              "    </tr>\n",
              "    <tr>\n",
              "      <th>3</th>\n",
              "      <td>False</td>\n",
              "      <td>False</td>\n",
              "      <td>False</td>\n",
              "      <td>False</td>\n",
              "      <td>False</td>\n",
              "      <td>False</td>\n",
              "      <td>False</td>\n",
              "      <td>False</td>\n",
              "      <td>False</td>\n",
              "      <td>False</td>\n",
              "      <td>...</td>\n",
              "      <td>False</td>\n",
              "      <td>False</td>\n",
              "      <td>False</td>\n",
              "      <td>False</td>\n",
              "      <td>False</td>\n",
              "      <td>False</td>\n",
              "      <td>False</td>\n",
              "      <td>True</td>\n",
              "      <td>False</td>\n",
              "      <td>False</td>\n",
              "    </tr>\n",
              "    <tr>\n",
              "      <th>4</th>\n",
              "      <td>False</td>\n",
              "      <td>False</td>\n",
              "      <td>False</td>\n",
              "      <td>False</td>\n",
              "      <td>False</td>\n",
              "      <td>False</td>\n",
              "      <td>False</td>\n",
              "      <td>False</td>\n",
              "      <td>False</td>\n",
              "      <td>False</td>\n",
              "      <td>...</td>\n",
              "      <td>False</td>\n",
              "      <td>False</td>\n",
              "      <td>False</td>\n",
              "      <td>False</td>\n",
              "      <td>False</td>\n",
              "      <td>False</td>\n",
              "      <td>False</td>\n",
              "      <td>True</td>\n",
              "      <td>False</td>\n",
              "      <td>False</td>\n",
              "    </tr>\n",
              "    <tr>\n",
              "      <th>...</th>\n",
              "      <td>...</td>\n",
              "      <td>...</td>\n",
              "      <td>...</td>\n",
              "      <td>...</td>\n",
              "      <td>...</td>\n",
              "      <td>...</td>\n",
              "      <td>...</td>\n",
              "      <td>...</td>\n",
              "      <td>...</td>\n",
              "      <td>...</td>\n",
              "      <td>...</td>\n",
              "      <td>...</td>\n",
              "      <td>...</td>\n",
              "      <td>...</td>\n",
              "      <td>...</td>\n",
              "      <td>...</td>\n",
              "      <td>...</td>\n",
              "      <td>...</td>\n",
              "      <td>...</td>\n",
              "      <td>...</td>\n",
              "      <td>...</td>\n",
              "    </tr>\n",
              "    <tr>\n",
              "      <th>4918</th>\n",
              "      <td>False</td>\n",
              "      <td>False</td>\n",
              "      <td>False</td>\n",
              "      <td>False</td>\n",
              "      <td>False</td>\n",
              "      <td>False</td>\n",
              "      <td>False</td>\n",
              "      <td>False</td>\n",
              "      <td>False</td>\n",
              "      <td>False</td>\n",
              "      <td>...</td>\n",
              "      <td>False</td>\n",
              "      <td>False</td>\n",
              "      <td>False</td>\n",
              "      <td>False</td>\n",
              "      <td>False</td>\n",
              "      <td>False</td>\n",
              "      <td>False</td>\n",
              "      <td>False</td>\n",
              "      <td>True</td>\n",
              "      <td>True</td>\n",
              "    </tr>\n",
              "    <tr>\n",
              "      <th>4919</th>\n",
              "      <td>False</td>\n",
              "      <td>False</td>\n",
              "      <td>False</td>\n",
              "      <td>False</td>\n",
              "      <td>False</td>\n",
              "      <td>False</td>\n",
              "      <td>False</td>\n",
              "      <td>False</td>\n",
              "      <td>False</td>\n",
              "      <td>False</td>\n",
              "      <td>...</td>\n",
              "      <td>False</td>\n",
              "      <td>False</td>\n",
              "      <td>False</td>\n",
              "      <td>False</td>\n",
              "      <td>False</td>\n",
              "      <td>False</td>\n",
              "      <td>False</td>\n",
              "      <td>True</td>\n",
              "      <td>True</td>\n",
              "      <td>True</td>\n",
              "    </tr>\n",
              "    <tr>\n",
              "      <th>4920</th>\n",
              "      <td>False</td>\n",
              "      <td>False</td>\n",
              "      <td>False</td>\n",
              "      <td>False</td>\n",
              "      <td>False</td>\n",
              "      <td>False</td>\n",
              "      <td>False</td>\n",
              "      <td>False</td>\n",
              "      <td>False</td>\n",
              "      <td>False</td>\n",
              "      <td>...</td>\n",
              "      <td>False</td>\n",
              "      <td>False</td>\n",
              "      <td>False</td>\n",
              "      <td>False</td>\n",
              "      <td>False</td>\n",
              "      <td>False</td>\n",
              "      <td>False</td>\n",
              "      <td>True</td>\n",
              "      <td>False</td>\n",
              "      <td>True</td>\n",
              "    </tr>\n",
              "    <tr>\n",
              "      <th>4921</th>\n",
              "      <td>False</td>\n",
              "      <td>False</td>\n",
              "      <td>False</td>\n",
              "      <td>False</td>\n",
              "      <td>False</td>\n",
              "      <td>False</td>\n",
              "      <td>False</td>\n",
              "      <td>False</td>\n",
              "      <td>False</td>\n",
              "      <td>False</td>\n",
              "      <td>...</td>\n",
              "      <td>False</td>\n",
              "      <td>False</td>\n",
              "      <td>False</td>\n",
              "      <td>True</td>\n",
              "      <td>False</td>\n",
              "      <td>False</td>\n",
              "      <td>False</td>\n",
              "      <td>True</td>\n",
              "      <td>False</td>\n",
              "      <td>True</td>\n",
              "    </tr>\n",
              "    <tr>\n",
              "      <th>4922</th>\n",
              "      <td>False</td>\n",
              "      <td>False</td>\n",
              "      <td>False</td>\n",
              "      <td>False</td>\n",
              "      <td>False</td>\n",
              "      <td>False</td>\n",
              "      <td>False</td>\n",
              "      <td>False</td>\n",
              "      <td>False</td>\n",
              "      <td>False</td>\n",
              "      <td>...</td>\n",
              "      <td>False</td>\n",
              "      <td>False</td>\n",
              "      <td>False</td>\n",
              "      <td>False</td>\n",
              "      <td>False</td>\n",
              "      <td>False</td>\n",
              "      <td>False</td>\n",
              "      <td>True</td>\n",
              "      <td>True</td>\n",
              "      <td>True</td>\n",
              "    </tr>\n",
              "  </tbody>\n",
              "</table>\n",
              "<p>4923 rows × 41 columns</p>\n",
              "</div>\n",
              "      <button class=\"colab-df-convert\" onclick=\"convertToInteractive('df-8afadb3e-09ed-4446-a853-d67cacefb15b')\"\n",
              "              title=\"Convert this dataframe to an interactive table.\"\n",
              "              style=\"display:none;\">\n",
              "\n",
              "  <svg xmlns=\"http://www.w3.org/2000/svg\" height=\"24px\"viewBox=\"0 0 24 24\"\n",
              "       width=\"24px\">\n",
              "    <path d=\"M0 0h24v24H0V0z\" fill=\"none\"/>\n",
              "    <path d=\"M18.56 5.44l.94 2.06.94-2.06 2.06-.94-2.06-.94-.94-2.06-.94 2.06-2.06.94zm-11 1L8.5 8.5l.94-2.06 2.06-.94-2.06-.94L8.5 2.5l-.94 2.06-2.06.94zm10 10l.94 2.06.94-2.06 2.06-.94-2.06-.94-.94-2.06-.94 2.06-2.06.94z\"/><path d=\"M17.41 7.96l-1.37-1.37c-.4-.4-.92-.59-1.43-.59-.52 0-1.04.2-1.43.59L10.3 9.45l-7.72 7.72c-.78.78-.78 2.05 0 2.83L4 21.41c.39.39.9.59 1.41.59.51 0 1.02-.2 1.41-.59l7.78-7.78 2.81-2.81c.8-.78.8-2.07 0-2.86zM5.41 20L4 18.59l7.72-7.72 1.47 1.35L5.41 20z\"/>\n",
              "  </svg>\n",
              "      </button>\n",
              "\n",
              "\n",
              "\n",
              "    <div id=\"df-2906a400-0145-4594-896a-1a0c517d115d\">\n",
              "      <button class=\"colab-df-quickchart\" onclick=\"quickchart('df-2906a400-0145-4594-896a-1a0c517d115d')\"\n",
              "              title=\"Suggest charts.\"\n",
              "              style=\"display:none;\">\n",
              "\n",
              "<svg xmlns=\"http://www.w3.org/2000/svg\" height=\"24px\"viewBox=\"0 0 24 24\"\n",
              "     width=\"24px\">\n",
              "    <g>\n",
              "        <path d=\"M19 3H5c-1.1 0-2 .9-2 2v14c0 1.1.9 2 2 2h14c1.1 0 2-.9 2-2V5c0-1.1-.9-2-2-2zM9 17H7v-7h2v7zm4 0h-2V7h2v10zm4 0h-2v-4h2v4z\"/>\n",
              "    </g>\n",
              "</svg>\n",
              "      </button>\n",
              "    </div>\n",
              "\n",
              "<style>\n",
              "  .colab-df-quickchart {\n",
              "    background-color: #E8F0FE;\n",
              "    border: none;\n",
              "    border-radius: 50%;\n",
              "    cursor: pointer;\n",
              "    display: none;\n",
              "    fill: #1967D2;\n",
              "    height: 32px;\n",
              "    padding: 0 0 0 0;\n",
              "    width: 32px;\n",
              "  }\n",
              "\n",
              "  .colab-df-quickchart:hover {\n",
              "    background-color: #E2EBFA;\n",
              "    box-shadow: 0px 1px 2px rgba(60, 64, 67, 0.3), 0px 1px 3px 1px rgba(60, 64, 67, 0.15);\n",
              "    fill: #174EA6;\n",
              "  }\n",
              "\n",
              "  [theme=dark] .colab-df-quickchart {\n",
              "    background-color: #3B4455;\n",
              "    fill: #D2E3FC;\n",
              "  }\n",
              "\n",
              "  [theme=dark] .colab-df-quickchart:hover {\n",
              "    background-color: #434B5C;\n",
              "    box-shadow: 0px 1px 3px 1px rgba(0, 0, 0, 0.15);\n",
              "    filter: drop-shadow(0px 1px 2px rgba(0, 0, 0, 0.3));\n",
              "    fill: #FFFFFF;\n",
              "  }\n",
              "</style>\n",
              "\n",
              "    <script>\n",
              "      async function quickchart(key) {\n",
              "        const containerElement = document.querySelector('#' + key);\n",
              "        const charts = await google.colab.kernel.invokeFunction(\n",
              "            'suggestCharts', [key], {});\n",
              "      }\n",
              "    </script>\n",
              "\n",
              "      <script>\n",
              "\n",
              "function displayQuickchartButton(domScope) {\n",
              "  let quickchartButtonEl =\n",
              "    domScope.querySelector('#df-2906a400-0145-4594-896a-1a0c517d115d button.colab-df-quickchart');\n",
              "  quickchartButtonEl.style.display =\n",
              "    google.colab.kernel.accessAllowed ? 'block' : 'none';\n",
              "}\n",
              "\n",
              "        displayQuickchartButton(document);\n",
              "      </script>\n",
              "      <style>\n",
              "    .colab-df-container {\n",
              "      display:flex;\n",
              "      flex-wrap:wrap;\n",
              "      gap: 12px;\n",
              "    }\n",
              "\n",
              "    .colab-df-convert {\n",
              "      background-color: #E8F0FE;\n",
              "      border: none;\n",
              "      border-radius: 50%;\n",
              "      cursor: pointer;\n",
              "      display: none;\n",
              "      fill: #1967D2;\n",
              "      height: 32px;\n",
              "      padding: 0 0 0 0;\n",
              "      width: 32px;\n",
              "    }\n",
              "\n",
              "    .colab-df-convert:hover {\n",
              "      background-color: #E2EBFA;\n",
              "      box-shadow: 0px 1px 2px rgba(60, 64, 67, 0.3), 0px 1px 3px 1px rgba(60, 64, 67, 0.15);\n",
              "      fill: #174EA6;\n",
              "    }\n",
              "\n",
              "    [theme=dark] .colab-df-convert {\n",
              "      background-color: #3B4455;\n",
              "      fill: #D2E3FC;\n",
              "    }\n",
              "\n",
              "    [theme=dark] .colab-df-convert:hover {\n",
              "      background-color: #434B5C;\n",
              "      box-shadow: 0px 1px 3px 1px rgba(0, 0, 0, 0.15);\n",
              "      filter: drop-shadow(0px 1px 2px rgba(0, 0, 0, 0.3));\n",
              "      fill: #FFFFFF;\n",
              "    }\n",
              "  </style>\n",
              "\n",
              "      <script>\n",
              "        const buttonEl =\n",
              "          document.querySelector('#df-8afadb3e-09ed-4446-a853-d67cacefb15b button.colab-df-convert');\n",
              "        buttonEl.style.display =\n",
              "          google.colab.kernel.accessAllowed ? 'block' : 'none';\n",
              "\n",
              "        async function convertToInteractive(key) {\n",
              "          const element = document.querySelector('#df-8afadb3e-09ed-4446-a853-d67cacefb15b');\n",
              "          const dataTable =\n",
              "            await google.colab.kernel.invokeFunction('convertToInteractive',\n",
              "                                                     [key], {});\n",
              "          if (!dataTable) return;\n",
              "\n",
              "          const docLinkHtml = 'Like what you see? Visit the ' +\n",
              "            '<a target=\"_blank\" href=https://colab.research.google.com/notebooks/data_table.ipynb>data table notebook</a>'\n",
              "            + ' to learn more about interactive tables.';\n",
              "          element.innerHTML = '';\n",
              "          dataTable['output_type'] = 'display_data';\n",
              "          await google.colab.output.renderOutput(dataTable, element);\n",
              "          const docLink = document.createElement('div');\n",
              "          docLink.innerHTML = docLinkHtml;\n",
              "          element.appendChild(docLink);\n",
              "        }\n",
              "      </script>\n",
              "    </div>\n",
              "  </div>\n"
            ]
          },
          "metadata": {},
          "execution_count": 14
        }
      ]
    },
    {
      "cell_type": "markdown",
      "source": [
        "Arreglaremos la base"
      ],
      "metadata": {
        "id": "O0W2hZ-aA2ev"
      }
    },
    {
      "cell_type": "code",
      "source": [
        "#cuantos vacios hay en cada columna\n",
        "Divorcio.isnull().sum(axis=0)"
      ],
      "metadata": {
        "colab": {
          "base_uri": "https://localhost:8080/"
        },
        "id": "thVhmVpBin96",
        "outputId": "eca2c1b1-4d06-41ea-9c01-dac1a6638fbf"
      },
      "execution_count": null,
      "outputs": [
        {
          "output_type": "execute_result",
          "data": {
            "text/plain": [
              "Fecha de Registro         0\n",
              "Tipo                      0\n",
              "Nacionalidad              1\n",
              "F_Naci_Do               381\n",
              "LocNaci_Do              126\n",
              "MpioNaci_Do             129\n",
              "EFedNaci_Do             128\n",
              "PaisNaci_Do             127\n",
              "Edad                    107\n",
              "MpioHab_Do              324\n",
              "EFedHab_Do              323\n",
              "PaisHab_Do              324\n",
              "ElIngreso              1419\n",
              "Ocupaci√≥n_Do           529\n",
              "LocHabi_Do              321\n",
              "Nacionalidad2             3\n",
              "F_Naci_Da               452\n",
              "Fecha de Registro 2    2679\n",
              "LocNaci_Da              140\n",
              "MpioNaci_Da             139\n",
              "EFedNaci_Da             140\n",
              "PaisNaci_Da             139\n",
              "Edad2                   151\n",
              "LocHabi_Da              307\n",
              "MpioHab_Da              307\n",
              "EFedHab_Da              305\n",
              "PaisHab_Da              305\n",
              "Ocupaci√≥n_Da           578\n",
              "EllaIngreso            2119\n",
              "Fecha                     0\n",
              "Localidad                 0\n",
              "Municipio                 0\n",
              "Entidad Federativa        0\n",
              "ElEscolaridad           304\n",
              "ElTrabajo               356\n",
              "EllaEscolaridad         380\n",
              "EllaTrabajo             417\n",
              "Matri_A√±os             235\n",
              "Matri_Meses            3368\n",
              "Num_Hijos              1912\n",
              "Custodia               2851\n",
              "dtype: int64"
            ]
          },
          "metadata": {},
          "execution_count": 15
        }
      ]
    },
    {
      "cell_type": "code",
      "source": [
        "Divorcio.dtypes"
      ],
      "metadata": {
        "colab": {
          "base_uri": "https://localhost:8080/"
        },
        "id": "3IoBWZTGjGxy",
        "outputId": "0f2d78b8-e27d-4570-854f-296351005b18"
      },
      "execution_count": null,
      "outputs": [
        {
          "output_type": "execute_result",
          "data": {
            "text/plain": [
              "Fecha de Registro       object\n",
              "Tipo                    object\n",
              "Nacionalidad            object\n",
              "F_Naci_Do               object\n",
              "LocNaci_Do              object\n",
              "MpioNaci_Do             object\n",
              "EFedNaci_Do             object\n",
              "PaisNaci_Do             object\n",
              "Edad                   float64\n",
              "MpioHab_Do              object\n",
              "EFedHab_Do              object\n",
              "PaisHab_Do              object\n",
              "ElIngreso              float64\n",
              "Ocupaci√≥n_Do           object\n",
              "LocHabi_Do              object\n",
              "Nacionalidad2           object\n",
              "F_Naci_Da               object\n",
              "Fecha de Registro 2     object\n",
              "LocNaci_Da              object\n",
              "MpioNaci_Da             object\n",
              "EFedNaci_Da             object\n",
              "PaisNaci_Da             object\n",
              "Edad2                  float64\n",
              "LocHabi_Da              object\n",
              "MpioHab_Da              object\n",
              "EFedHab_Da              object\n",
              "PaisHab_Da              object\n",
              "Ocupaci√≥n_Da           object\n",
              "EllaIngreso            float64\n",
              "Fecha                   object\n",
              "Localidad               object\n",
              "Municipio               object\n",
              "Entidad Federativa      object\n",
              "ElEscolaridad           object\n",
              "ElTrabajo               object\n",
              "EllaEscolaridad         object\n",
              "EllaTrabajo             object\n",
              "Matri_A√±os            float64\n",
              "Matri_Meses            float64\n",
              "Num_Hijos              float64\n",
              "Custodia                object\n",
              "dtype: object"
            ]
          },
          "metadata": {},
          "execution_count": 16
        }
      ]
    },
    {
      "cell_type": "code",
      "source": [
        "#arreglamos la base campos string\n",
        "Divorcio[\"Nacionalidad\"]=Divorcio[\"Nacionalidad\"].replace(np.nan,\"NO CONOCIDO\")\n",
        "Divorcio[\"F_Naci_Do\"]=Divorcio[\"F_Naci_Do\"].replace(np.nan,\"NO CONOCIDO\")\n",
        "Divorcio[\"LocNaci_Do\"]=Divorcio[\"LocNaci_Do\"].replace(np.nan,\"NO CONOCIDO\")\n",
        "Divorcio[\"MpioNaci_Do\"]=Divorcio[\"MpioNaci_Do\"].replace(np.nan,\"NO CONOCIDO\")\n",
        "Divorcio[\"EFedNaci_Do\"]=Divorcio[\"EFedNaci_Do\"].replace(np.nan,\"NO CONOCIDO\")\n",
        "Divorcio[\"PaisNaci_Do\"]=Divorcio[\"PaisNaci_Do\"].replace(np.nan,\"NO CONOCIDO\")\n",
        "Divorcio[\"MpioHab_Do\"]=Divorcio[\"MpioHab_Do\"].replace(np.nan,\"NO CONOCIDO\")\n",
        "Divorcio[\"EFedHab_Do\"]=Divorcio[\"EFedHab_Do\"].replace(np.nan,\"NO CONOCIDO\")\n",
        "Divorcio[\"PaisHab_Do\"]=Divorcio[\"PaisHab_Do\"].replace(np.nan,\"NO CONOCIDO\")\n",
        "Divorcio[\"Ocupaci√≥n_Do\"]=Divorcio[\"Ocupaci√≥n_Do\"].replace(np.nan,\"NO CONOCIDO\")\n",
        "Divorcio[\"LocHabi_Do\"]=Divorcio[\"LocHabi_Do\"].replace(np.nan,\"NO CONOCIDO\")\n",
        "Divorcio[\"Nacionalidad2\"]=Divorcio[\"Nacionalidad2\"].replace(np.nan,\"NO CONOCIDO\")\n",
        "Divorcio[\"F_Naci_Da\"]=Divorcio[\"F_Naci_Da\"].replace(np.nan,\"NO CONOCIDO\")\n",
        "Divorcio[\"Fecha de Registro 2\"]=Divorcio[\"Fecha de Registro 2\"].replace(np.nan,\"NO CONOCIDO\")\n",
        "Divorcio[\"LocNaci_Da\"]=Divorcio[\"LocNaci_Da\"].replace(np.nan,\"NO CONOCIDO\")\n",
        "Divorcio[\"MpioNaci_Da\"]=Divorcio[\"MpioNaci_Da\"].replace(np.nan,\"NO CONOCIDO\")\n",
        "Divorcio[\"EFedNaci_Da\"]=Divorcio[\"EFedNaci_Da\"].replace(np.nan,\"NO CONOCIDO\")\n",
        "Divorcio[\"PaisNaci_Da\"]=Divorcio[\"PaisNaci_Da\"].replace(np.nan,\"NO CONOCIDO\")\n",
        "Divorcio[\"LocHabi_Da\"]=Divorcio[\"LocHabi_Da\"].replace(np.nan,\"NO CONOCIDO\")\n",
        "Divorcio[\"MpioHab_Da\"]=Divorcio[\"MpioHab_Da\"].replace(np.nan,\"NO CONOCIDO\")\n",
        "Divorcio[\"EFedHab_Da\"]=Divorcio[\"EFedHab_Da\"].replace(np.nan,\"NO CONOCIDO\")\n",
        "Divorcio[\"PaisHab_Da\"]=Divorcio[\"PaisHab_Da\"].replace(np.nan,\"NO CONOCIDO\")\n",
        "Divorcio[\"Ocupaci√≥n_Da\"]=Divorcio[\"Ocupaci√≥n_Da\"].replace(np.nan,\"NO CONOCIDO\")\n",
        "Divorcio[\"ElEscolaridad\"]=Divorcio[\"ElEscolaridad\"].replace(np.nan,\"NO CONOCIDO\")\n",
        "Divorcio[\"ElTrabajo\"]=Divorcio[\"ElTrabajo\"].replace(np.nan,\"NO CONOCIDO\")\n",
        "Divorcio[\"EllaEscolaridad\"]=Divorcio[\"EllaEscolaridad\"].replace(np.nan,\"NO CONOCIDO\")\n",
        "Divorcio[\"EllaTrabajo\"]=Divorcio[\"EllaTrabajo\"].replace(np.nan,\"NO CONOCIDO\")\n",
        "Divorcio[\"Custodia\"]=Divorcio[\"Custodia\"].replace(np.nan,\"NO CONOCIDO\")\n",
        "\n"
      ],
      "metadata": {
        "id": "vSqaaD4-pY4P"
      },
      "execution_count": null,
      "outputs": []
    },
    {
      "cell_type": "code",
      "source": [
        "Divorcio"
      ],
      "metadata": {
        "colab": {
          "base_uri": "https://localhost:8080/",
          "height": 713
        },
        "id": "MlZZBK8-1j3t",
        "outputId": "7b55d401-7fa4-43c3-f468-65647da90c0e"
      },
      "execution_count": null,
      "outputs": [
        {
          "output_type": "execute_result",
          "data": {
            "text/plain": [
              "     Fecha de Registro        Tipo Nacionalidad    F_Naci_Do  \\\n",
              "0            9/06/2006   Necesario     MEXICANA   18/12/1975   \n",
              "1            1/02/2000  Voluntario     MEXICANA  NO CONOCIDO   \n",
              "2            1/02/2005   Necesario     MEXICANA   22/02/1955   \n",
              "3            1/02/2006   Necesario     MEXICANA   20/01/1964   \n",
              "4            1/02/2006   Necesario     MEXICANA   30/10/1975   \n",
              "...                ...         ...          ...          ...   \n",
              "4918        31/10/2012  Voluntario     MEXICANA   29/10/1977   \n",
              "4919        31/10/2013  Voluntario     MEXICANA   10/11/1982   \n",
              "4920        31/10/2013  Voluntario     MEXICANA   28/10/1954   \n",
              "4921        31/12/2012  Voluntario     MEXICANA    7/02/1958   \n",
              "4922        31/12/2013  Voluntario     MEXICANA   22/06/1960   \n",
              "\n",
              "             LocNaci_Do  MpioNaci_Do  EFedNaci_Do  PaisNaci_Do  Edad  \\\n",
              "0     XALAPA - ENRIQUEZ       XALAPA     VERACRUZ       MEXICO  30.0   \n",
              "1           NO CONOCIDO  NO CONOCIDO  NO CONOCIDO  NO CONOCIDO  47.0   \n",
              "2     XALAPA - ENRIQUEZ       XALAPA     VERACRUZ       MEXICO  49.0   \n",
              "3     XALAPA - ENRIQUEZ       XALAPA     VERACRUZ       MEXICO  42.0   \n",
              "4     XALAPA - ENRIQUEZ       XALAPA     VERACRUZ       MEXICO  30.0   \n",
              "...                 ...          ...          ...          ...   ...   \n",
              "4918            MORELIA      MORELIA    MICHOACAN       MEXICO  35.0   \n",
              "4919           VERACRUZ     VERACRUZ     VERACRUZ       MEXICO  30.0   \n",
              "4920  XALAPA - ENRIQUEZ       XALAPA     VERACRUZ       MEXICO  59.0   \n",
              "4921         TLAPACOYAN   TLAPACOYAN     VERACRUZ       MEXICO  54.0   \n",
              "4922        TLACOTALPAN  TLACOTALPAN     VERACRUZ       MEXICO  53.0   \n",
              "\n",
              "           MpioHab_Do  ...   Municipio Entidad Federativa  ElEscolaridad  \\\n",
              "0              XALAPA  ...      XALAPA           VERACRUZ     SECUNDARIA   \n",
              "1         NO CONOCIDO  ...      XALAPA           VERACRUZ   PREPARATORIA   \n",
              "2         NO CONOCIDO  ...      XALAPA           VERACRUZ   PREPARATORIA   \n",
              "3              XALAPA  ...      XALAPA           VERACRUZ    PROFESIONAL   \n",
              "4            COATEPEC  ...      XALAPA           VERACRUZ    PROFESIONAL   \n",
              "...               ...  ...         ...                ...            ...   \n",
              "4918          MORELIA  ...      XALAPA           VERACRUZ    PROFESIONAL   \n",
              "4919           XALAPA  ...      XALAPA           VERACRUZ    PROFESIONAL   \n",
              "4920  EMILIANO ZAPATA  ...      XALAPA           VERACRUZ    PROFESIONAL   \n",
              "4921           XALAPA  ...  TLAPACOYAN           VERACRUZ   PREPARATORIA   \n",
              "4922           XALAPA  ...    COATEPEC           VERACRUZ    PROFESIONAL   \n",
              "\n",
              "            ElTrabajo EllaEscolaridad  \\\n",
              "0              OBRERO      SECUNDARIA   \n",
              "1     ESTABLECIMIENTO    PREPARATORIA   \n",
              "2              OBRERO     NO CONOCIDO   \n",
              "3            EMPLEADO    PREPARATORIA   \n",
              "4            EMPLEADO    PREPARATORIA   \n",
              "...               ...             ...   \n",
              "4918         EMPLEADO     PROFESIONAL   \n",
              "4919         EMPLEADO     PROFESIONAL   \n",
              "4920         EMPLEADO     PROFESIONAL   \n",
              "4921      NO CONOCIDO        PRIMARIA   \n",
              "4922         EMPLEADO     PROFESIONAL   \n",
              "\n",
              "                                       EllaTrabajo Matri_A√±os Matri_Meses  \\\n",
              "0                                         EMPLEADO         5.0         NaN   \n",
              "1                                         EMPLEADO         NaN         NaN   \n",
              "2     TRABAJADOR POR CUENTA PROPIA EN VIA PUBLICA          NaN         NaN   \n",
              "3                                         EMPLEADO        18.0         NaN   \n",
              "4                                       NO TRABAJA         7.0         NaN   \n",
              "...                                            ...         ...         ...   \n",
              "4918                                      EMPLEADO         3.0        11.0   \n",
              "4919                                      EMPLEADO         1.0         NaN   \n",
              "4920                                      EMPLEADO        35.0         NaN   \n",
              "4921                                    NO TRABAJA        33.0         NaN   \n",
              "4922                                      EMPLEADO         4.0         NaN   \n",
              "\n",
              "     Num_Hijos     Custodia  \n",
              "0          1.0  NO CONOCIDO  \n",
              "1          NaN  NO CONOCIDO  \n",
              "2          NaN  NO CONOCIDO  \n",
              "3          2.0        MADRE  \n",
              "4          2.0        MADRE  \n",
              "...        ...          ...  \n",
              "4918       NaN  NO CONOCIDO  \n",
              "4919       NaN  NO CONOCIDO  \n",
              "4920       2.0  NO CONOCIDO  \n",
              "4921       2.0  NO CONOCIDO  \n",
              "4922       NaN  NO CONOCIDO  \n",
              "\n",
              "[4923 rows x 41 columns]"
            ],
            "text/html": [
              "\n",
              "\n",
              "  <div id=\"df-328b329e-a1d5-4268-8568-4e7e71e70147\">\n",
              "    <div class=\"colab-df-container\">\n",
              "      <div>\n",
              "<style scoped>\n",
              "    .dataframe tbody tr th:only-of-type {\n",
              "        vertical-align: middle;\n",
              "    }\n",
              "\n",
              "    .dataframe tbody tr th {\n",
              "        vertical-align: top;\n",
              "    }\n",
              "\n",
              "    .dataframe thead th {\n",
              "        text-align: right;\n",
              "    }\n",
              "</style>\n",
              "<table border=\"1\" class=\"dataframe\">\n",
              "  <thead>\n",
              "    <tr style=\"text-align: right;\">\n",
              "      <th></th>\n",
              "      <th>Fecha de Registro</th>\n",
              "      <th>Tipo</th>\n",
              "      <th>Nacionalidad</th>\n",
              "      <th>F_Naci_Do</th>\n",
              "      <th>LocNaci_Do</th>\n",
              "      <th>MpioNaci_Do</th>\n",
              "      <th>EFedNaci_Do</th>\n",
              "      <th>PaisNaci_Do</th>\n",
              "      <th>Edad</th>\n",
              "      <th>MpioHab_Do</th>\n",
              "      <th>...</th>\n",
              "      <th>Municipio</th>\n",
              "      <th>Entidad Federativa</th>\n",
              "      <th>ElEscolaridad</th>\n",
              "      <th>ElTrabajo</th>\n",
              "      <th>EllaEscolaridad</th>\n",
              "      <th>EllaTrabajo</th>\n",
              "      <th>Matri_A√±os</th>\n",
              "      <th>Matri_Meses</th>\n",
              "      <th>Num_Hijos</th>\n",
              "      <th>Custodia</th>\n",
              "    </tr>\n",
              "  </thead>\n",
              "  <tbody>\n",
              "    <tr>\n",
              "      <th>0</th>\n",
              "      <td>9/06/2006</td>\n",
              "      <td>Necesario</td>\n",
              "      <td>MEXICANA</td>\n",
              "      <td>18/12/1975</td>\n",
              "      <td>XALAPA - ENRIQUEZ</td>\n",
              "      <td>XALAPA</td>\n",
              "      <td>VERACRUZ</td>\n",
              "      <td>MEXICO</td>\n",
              "      <td>30.0</td>\n",
              "      <td>XALAPA</td>\n",
              "      <td>...</td>\n",
              "      <td>XALAPA</td>\n",
              "      <td>VERACRUZ</td>\n",
              "      <td>SECUNDARIA</td>\n",
              "      <td>OBRERO</td>\n",
              "      <td>SECUNDARIA</td>\n",
              "      <td>EMPLEADO</td>\n",
              "      <td>5.0</td>\n",
              "      <td>NaN</td>\n",
              "      <td>1.0</td>\n",
              "      <td>NO CONOCIDO</td>\n",
              "    </tr>\n",
              "    <tr>\n",
              "      <th>1</th>\n",
              "      <td>1/02/2000</td>\n",
              "      <td>Voluntario</td>\n",
              "      <td>MEXICANA</td>\n",
              "      <td>NO CONOCIDO</td>\n",
              "      <td>NO CONOCIDO</td>\n",
              "      <td>NO CONOCIDO</td>\n",
              "      <td>NO CONOCIDO</td>\n",
              "      <td>NO CONOCIDO</td>\n",
              "      <td>47.0</td>\n",
              "      <td>NO CONOCIDO</td>\n",
              "      <td>...</td>\n",
              "      <td>XALAPA</td>\n",
              "      <td>VERACRUZ</td>\n",
              "      <td>PREPARATORIA</td>\n",
              "      <td>ESTABLECIMIENTO</td>\n",
              "      <td>PREPARATORIA</td>\n",
              "      <td>EMPLEADO</td>\n",
              "      <td>NaN</td>\n",
              "      <td>NaN</td>\n",
              "      <td>NaN</td>\n",
              "      <td>NO CONOCIDO</td>\n",
              "    </tr>\n",
              "    <tr>\n",
              "      <th>2</th>\n",
              "      <td>1/02/2005</td>\n",
              "      <td>Necesario</td>\n",
              "      <td>MEXICANA</td>\n",
              "      <td>22/02/1955</td>\n",
              "      <td>XALAPA - ENRIQUEZ</td>\n",
              "      <td>XALAPA</td>\n",
              "      <td>VERACRUZ</td>\n",
              "      <td>MEXICO</td>\n",
              "      <td>49.0</td>\n",
              "      <td>NO CONOCIDO</td>\n",
              "      <td>...</td>\n",
              "      <td>XALAPA</td>\n",
              "      <td>VERACRUZ</td>\n",
              "      <td>PREPARATORIA</td>\n",
              "      <td>OBRERO</td>\n",
              "      <td>NO CONOCIDO</td>\n",
              "      <td>TRABAJADOR POR CUENTA PROPIA EN VIA PUBLICA</td>\n",
              "      <td>NaN</td>\n",
              "      <td>NaN</td>\n",
              "      <td>NaN</td>\n",
              "      <td>NO CONOCIDO</td>\n",
              "    </tr>\n",
              "    <tr>\n",
              "      <th>3</th>\n",
              "      <td>1/02/2006</td>\n",
              "      <td>Necesario</td>\n",
              "      <td>MEXICANA</td>\n",
              "      <td>20/01/1964</td>\n",
              "      <td>XALAPA - ENRIQUEZ</td>\n",
              "      <td>XALAPA</td>\n",
              "      <td>VERACRUZ</td>\n",
              "      <td>MEXICO</td>\n",
              "      <td>42.0</td>\n",
              "      <td>XALAPA</td>\n",
              "      <td>...</td>\n",
              "      <td>XALAPA</td>\n",
              "      <td>VERACRUZ</td>\n",
              "      <td>PROFESIONAL</td>\n",
              "      <td>EMPLEADO</td>\n",
              "      <td>PREPARATORIA</td>\n",
              "      <td>EMPLEADO</td>\n",
              "      <td>18.0</td>\n",
              "      <td>NaN</td>\n",
              "      <td>2.0</td>\n",
              "      <td>MADRE</td>\n",
              "    </tr>\n",
              "    <tr>\n",
              "      <th>4</th>\n",
              "      <td>1/02/2006</td>\n",
              "      <td>Necesario</td>\n",
              "      <td>MEXICANA</td>\n",
              "      <td>30/10/1975</td>\n",
              "      <td>XALAPA - ENRIQUEZ</td>\n",
              "      <td>XALAPA</td>\n",
              "      <td>VERACRUZ</td>\n",
              "      <td>MEXICO</td>\n",
              "      <td>30.0</td>\n",
              "      <td>COATEPEC</td>\n",
              "      <td>...</td>\n",
              "      <td>XALAPA</td>\n",
              "      <td>VERACRUZ</td>\n",
              "      <td>PROFESIONAL</td>\n",
              "      <td>EMPLEADO</td>\n",
              "      <td>PREPARATORIA</td>\n",
              "      <td>NO TRABAJA</td>\n",
              "      <td>7.0</td>\n",
              "      <td>NaN</td>\n",
              "      <td>2.0</td>\n",
              "      <td>MADRE</td>\n",
              "    </tr>\n",
              "    <tr>\n",
              "      <th>...</th>\n",
              "      <td>...</td>\n",
              "      <td>...</td>\n",
              "      <td>...</td>\n",
              "      <td>...</td>\n",
              "      <td>...</td>\n",
              "      <td>...</td>\n",
              "      <td>...</td>\n",
              "      <td>...</td>\n",
              "      <td>...</td>\n",
              "      <td>...</td>\n",
              "      <td>...</td>\n",
              "      <td>...</td>\n",
              "      <td>...</td>\n",
              "      <td>...</td>\n",
              "      <td>...</td>\n",
              "      <td>...</td>\n",
              "      <td>...</td>\n",
              "      <td>...</td>\n",
              "      <td>...</td>\n",
              "      <td>...</td>\n",
              "      <td>...</td>\n",
              "    </tr>\n",
              "    <tr>\n",
              "      <th>4918</th>\n",
              "      <td>31/10/2012</td>\n",
              "      <td>Voluntario</td>\n",
              "      <td>MEXICANA</td>\n",
              "      <td>29/10/1977</td>\n",
              "      <td>MORELIA</td>\n",
              "      <td>MORELIA</td>\n",
              "      <td>MICHOACAN</td>\n",
              "      <td>MEXICO</td>\n",
              "      <td>35.0</td>\n",
              "      <td>MORELIA</td>\n",
              "      <td>...</td>\n",
              "      <td>XALAPA</td>\n",
              "      <td>VERACRUZ</td>\n",
              "      <td>PROFESIONAL</td>\n",
              "      <td>EMPLEADO</td>\n",
              "      <td>PROFESIONAL</td>\n",
              "      <td>EMPLEADO</td>\n",
              "      <td>3.0</td>\n",
              "      <td>11.0</td>\n",
              "      <td>NaN</td>\n",
              "      <td>NO CONOCIDO</td>\n",
              "    </tr>\n",
              "    <tr>\n",
              "      <th>4919</th>\n",
              "      <td>31/10/2013</td>\n",
              "      <td>Voluntario</td>\n",
              "      <td>MEXICANA</td>\n",
              "      <td>10/11/1982</td>\n",
              "      <td>VERACRUZ</td>\n",
              "      <td>VERACRUZ</td>\n",
              "      <td>VERACRUZ</td>\n",
              "      <td>MEXICO</td>\n",
              "      <td>30.0</td>\n",
              "      <td>XALAPA</td>\n",
              "      <td>...</td>\n",
              "      <td>XALAPA</td>\n",
              "      <td>VERACRUZ</td>\n",
              "      <td>PROFESIONAL</td>\n",
              "      <td>EMPLEADO</td>\n",
              "      <td>PROFESIONAL</td>\n",
              "      <td>EMPLEADO</td>\n",
              "      <td>1.0</td>\n",
              "      <td>NaN</td>\n",
              "      <td>NaN</td>\n",
              "      <td>NO CONOCIDO</td>\n",
              "    </tr>\n",
              "    <tr>\n",
              "      <th>4920</th>\n",
              "      <td>31/10/2013</td>\n",
              "      <td>Voluntario</td>\n",
              "      <td>MEXICANA</td>\n",
              "      <td>28/10/1954</td>\n",
              "      <td>XALAPA - ENRIQUEZ</td>\n",
              "      <td>XALAPA</td>\n",
              "      <td>VERACRUZ</td>\n",
              "      <td>MEXICO</td>\n",
              "      <td>59.0</td>\n",
              "      <td>EMILIANO ZAPATA</td>\n",
              "      <td>...</td>\n",
              "      <td>XALAPA</td>\n",
              "      <td>VERACRUZ</td>\n",
              "      <td>PROFESIONAL</td>\n",
              "      <td>EMPLEADO</td>\n",
              "      <td>PROFESIONAL</td>\n",
              "      <td>EMPLEADO</td>\n",
              "      <td>35.0</td>\n",
              "      <td>NaN</td>\n",
              "      <td>2.0</td>\n",
              "      <td>NO CONOCIDO</td>\n",
              "    </tr>\n",
              "    <tr>\n",
              "      <th>4921</th>\n",
              "      <td>31/12/2012</td>\n",
              "      <td>Voluntario</td>\n",
              "      <td>MEXICANA</td>\n",
              "      <td>7/02/1958</td>\n",
              "      <td>TLAPACOYAN</td>\n",
              "      <td>TLAPACOYAN</td>\n",
              "      <td>VERACRUZ</td>\n",
              "      <td>MEXICO</td>\n",
              "      <td>54.0</td>\n",
              "      <td>XALAPA</td>\n",
              "      <td>...</td>\n",
              "      <td>TLAPACOYAN</td>\n",
              "      <td>VERACRUZ</td>\n",
              "      <td>PREPARATORIA</td>\n",
              "      <td>NO CONOCIDO</td>\n",
              "      <td>PRIMARIA</td>\n",
              "      <td>NO TRABAJA</td>\n",
              "      <td>33.0</td>\n",
              "      <td>NaN</td>\n",
              "      <td>2.0</td>\n",
              "      <td>NO CONOCIDO</td>\n",
              "    </tr>\n",
              "    <tr>\n",
              "      <th>4922</th>\n",
              "      <td>31/12/2013</td>\n",
              "      <td>Voluntario</td>\n",
              "      <td>MEXICANA</td>\n",
              "      <td>22/06/1960</td>\n",
              "      <td>TLACOTALPAN</td>\n",
              "      <td>TLACOTALPAN</td>\n",
              "      <td>VERACRUZ</td>\n",
              "      <td>MEXICO</td>\n",
              "      <td>53.0</td>\n",
              "      <td>XALAPA</td>\n",
              "      <td>...</td>\n",
              "      <td>COATEPEC</td>\n",
              "      <td>VERACRUZ</td>\n",
              "      <td>PROFESIONAL</td>\n",
              "      <td>EMPLEADO</td>\n",
              "      <td>PROFESIONAL</td>\n",
              "      <td>EMPLEADO</td>\n",
              "      <td>4.0</td>\n",
              "      <td>NaN</td>\n",
              "      <td>NaN</td>\n",
              "      <td>NO CONOCIDO</td>\n",
              "    </tr>\n",
              "  </tbody>\n",
              "</table>\n",
              "<p>4923 rows × 41 columns</p>\n",
              "</div>\n",
              "      <button class=\"colab-df-convert\" onclick=\"convertToInteractive('df-328b329e-a1d5-4268-8568-4e7e71e70147')\"\n",
              "              title=\"Convert this dataframe to an interactive table.\"\n",
              "              style=\"display:none;\">\n",
              "\n",
              "  <svg xmlns=\"http://www.w3.org/2000/svg\" height=\"24px\"viewBox=\"0 0 24 24\"\n",
              "       width=\"24px\">\n",
              "    <path d=\"M0 0h24v24H0V0z\" fill=\"none\"/>\n",
              "    <path d=\"M18.56 5.44l.94 2.06.94-2.06 2.06-.94-2.06-.94-.94-2.06-.94 2.06-2.06.94zm-11 1L8.5 8.5l.94-2.06 2.06-.94-2.06-.94L8.5 2.5l-.94 2.06-2.06.94zm10 10l.94 2.06.94-2.06 2.06-.94-2.06-.94-.94-2.06-.94 2.06-2.06.94z\"/><path d=\"M17.41 7.96l-1.37-1.37c-.4-.4-.92-.59-1.43-.59-.52 0-1.04.2-1.43.59L10.3 9.45l-7.72 7.72c-.78.78-.78 2.05 0 2.83L4 21.41c.39.39.9.59 1.41.59.51 0 1.02-.2 1.41-.59l7.78-7.78 2.81-2.81c.8-.78.8-2.07 0-2.86zM5.41 20L4 18.59l7.72-7.72 1.47 1.35L5.41 20z\"/>\n",
              "  </svg>\n",
              "      </button>\n",
              "\n",
              "\n",
              "\n",
              "    <div id=\"df-7d521fef-e166-468d-ac88-c143b9165f03\">\n",
              "      <button class=\"colab-df-quickchart\" onclick=\"quickchart('df-7d521fef-e166-468d-ac88-c143b9165f03')\"\n",
              "              title=\"Suggest charts.\"\n",
              "              style=\"display:none;\">\n",
              "\n",
              "<svg xmlns=\"http://www.w3.org/2000/svg\" height=\"24px\"viewBox=\"0 0 24 24\"\n",
              "     width=\"24px\">\n",
              "    <g>\n",
              "        <path d=\"M19 3H5c-1.1 0-2 .9-2 2v14c0 1.1.9 2 2 2h14c1.1 0 2-.9 2-2V5c0-1.1-.9-2-2-2zM9 17H7v-7h2v7zm4 0h-2V7h2v10zm4 0h-2v-4h2v4z\"/>\n",
              "    </g>\n",
              "</svg>\n",
              "      </button>\n",
              "    </div>\n",
              "\n",
              "<style>\n",
              "  .colab-df-quickchart {\n",
              "    background-color: #E8F0FE;\n",
              "    border: none;\n",
              "    border-radius: 50%;\n",
              "    cursor: pointer;\n",
              "    display: none;\n",
              "    fill: #1967D2;\n",
              "    height: 32px;\n",
              "    padding: 0 0 0 0;\n",
              "    width: 32px;\n",
              "  }\n",
              "\n",
              "  .colab-df-quickchart:hover {\n",
              "    background-color: #E2EBFA;\n",
              "    box-shadow: 0px 1px 2px rgba(60, 64, 67, 0.3), 0px 1px 3px 1px rgba(60, 64, 67, 0.15);\n",
              "    fill: #174EA6;\n",
              "  }\n",
              "\n",
              "  [theme=dark] .colab-df-quickchart {\n",
              "    background-color: #3B4455;\n",
              "    fill: #D2E3FC;\n",
              "  }\n",
              "\n",
              "  [theme=dark] .colab-df-quickchart:hover {\n",
              "    background-color: #434B5C;\n",
              "    box-shadow: 0px 1px 3px 1px rgba(0, 0, 0, 0.15);\n",
              "    filter: drop-shadow(0px 1px 2px rgba(0, 0, 0, 0.3));\n",
              "    fill: #FFFFFF;\n",
              "  }\n",
              "</style>\n",
              "\n",
              "    <script>\n",
              "      async function quickchart(key) {\n",
              "        const containerElement = document.querySelector('#' + key);\n",
              "        const charts = await google.colab.kernel.invokeFunction(\n",
              "            'suggestCharts', [key], {});\n",
              "      }\n",
              "    </script>\n",
              "\n",
              "      <script>\n",
              "\n",
              "function displayQuickchartButton(domScope) {\n",
              "  let quickchartButtonEl =\n",
              "    domScope.querySelector('#df-7d521fef-e166-468d-ac88-c143b9165f03 button.colab-df-quickchart');\n",
              "  quickchartButtonEl.style.display =\n",
              "    google.colab.kernel.accessAllowed ? 'block' : 'none';\n",
              "}\n",
              "\n",
              "        displayQuickchartButton(document);\n",
              "      </script>\n",
              "      <style>\n",
              "    .colab-df-container {\n",
              "      display:flex;\n",
              "      flex-wrap:wrap;\n",
              "      gap: 12px;\n",
              "    }\n",
              "\n",
              "    .colab-df-convert {\n",
              "      background-color: #E8F0FE;\n",
              "      border: none;\n",
              "      border-radius: 50%;\n",
              "      cursor: pointer;\n",
              "      display: none;\n",
              "      fill: #1967D2;\n",
              "      height: 32px;\n",
              "      padding: 0 0 0 0;\n",
              "      width: 32px;\n",
              "    }\n",
              "\n",
              "    .colab-df-convert:hover {\n",
              "      background-color: #E2EBFA;\n",
              "      box-shadow: 0px 1px 2px rgba(60, 64, 67, 0.3), 0px 1px 3px 1px rgba(60, 64, 67, 0.15);\n",
              "      fill: #174EA6;\n",
              "    }\n",
              "\n",
              "    [theme=dark] .colab-df-convert {\n",
              "      background-color: #3B4455;\n",
              "      fill: #D2E3FC;\n",
              "    }\n",
              "\n",
              "    [theme=dark] .colab-df-convert:hover {\n",
              "      background-color: #434B5C;\n",
              "      box-shadow: 0px 1px 3px 1px rgba(0, 0, 0, 0.15);\n",
              "      filter: drop-shadow(0px 1px 2px rgba(0, 0, 0, 0.3));\n",
              "      fill: #FFFFFF;\n",
              "    }\n",
              "  </style>\n",
              "\n",
              "      <script>\n",
              "        const buttonEl =\n",
              "          document.querySelector('#df-328b329e-a1d5-4268-8568-4e7e71e70147 button.colab-df-convert');\n",
              "        buttonEl.style.display =\n",
              "          google.colab.kernel.accessAllowed ? 'block' : 'none';\n",
              "\n",
              "        async function convertToInteractive(key) {\n",
              "          const element = document.querySelector('#df-328b329e-a1d5-4268-8568-4e7e71e70147');\n",
              "          const dataTable =\n",
              "            await google.colab.kernel.invokeFunction('convertToInteractive',\n",
              "                                                     [key], {});\n",
              "          if (!dataTable) return;\n",
              "\n",
              "          const docLinkHtml = 'Like what you see? Visit the ' +\n",
              "            '<a target=\"_blank\" href=https://colab.research.google.com/notebooks/data_table.ipynb>data table notebook</a>'\n",
              "            + ' to learn more about interactive tables.';\n",
              "          element.innerHTML = '';\n",
              "          dataTable['output_type'] = 'display_data';\n",
              "          await google.colab.output.renderOutput(dataTable, element);\n",
              "          const docLink = document.createElement('div');\n",
              "          docLink.innerHTML = docLinkHtml;\n",
              "          element.appendChild(docLink);\n",
              "        }\n",
              "      </script>\n",
              "    </div>\n",
              "  </div>\n"
            ]
          },
          "metadata": {},
          "execution_count": 18
        }
      ]
    },
    {
      "cell_type": "code",
      "source": [
        "#promedios para campos int\n",
        "prom_Edad= Divorcio[\"Edad\"].mean()\n",
        "prom_ElIngreso= Divorcio[\"ElIngreso\"].mean()\n",
        "prom_Edad2= Divorcio[\"Edad2\"].mean()\n",
        "prom_EllaIngreso= Divorcio[\"EllaIngreso\"].mean()\n",
        "prom_Matri_A= Divorcio[\"Matri_A√±os\"].mean()\n",
        "prom_Matri_Meses= Divorcio[\"Matri_Meses\"].mean()\n",
        "#prom_Num_Hijos= Divorcio[\"Num_Hijos\"].mean()\n"
      ],
      "metadata": {
        "id": "k0iWMf3k3DeU"
      },
      "execution_count": null,
      "outputs": []
    },
    {
      "cell_type": "code",
      "source": [
        "#llenados campos vacios con promedios\n",
        "Divorcio[\"Edad\"]=Divorcio[\"Edad\"].replace(np.nan,prom_Edad)\n",
        "Divorcio[\"ElIngreso\"]=Divorcio[\"ElIngreso\"].replace(np.nan,prom_ElIngreso)\n",
        "Divorcio[\"Edad2\"]=Divorcio[\"Edad2\"].replace(np.nan,prom_Edad2)\n",
        "Divorcio[\"EllaIngreso\"]=Divorcio[\"EllaIngreso\"].replace(np.nan,prom_EllaIngreso)\n",
        "Divorcio[\"Matri_A√±os\"]=Divorcio[\"Matri_A√±os\"].replace(np.nan,prom_Matri_A)\n",
        "Divorcio[\"Matri_Meses\"]=Divorcio[\"Matri_Meses\"].replace(np.nan,prom_Matri_Meses)\n",
        "#Divorcio[\"Num_Hijos\"]=Divorcio[\"Num_Hijos\"].replace(np.nan,prom_Num_Hijos)\n",
        "Divorcio[\"Num_Hijos\"] = Divorcio[\"Num_Hijos\"].fillna(0)\n",
        "\n"
      ],
      "metadata": {
        "id": "jA_YsSCQ42A1"
      },
      "execution_count": null,
      "outputs": []
    },
    {
      "cell_type": "code",
      "source": [
        "#cuantos vacios hay en cada columna\n",
        "Divorcio.isnull().sum(axis=0)"
      ],
      "metadata": {
        "colab": {
          "base_uri": "https://localhost:8080/"
        },
        "id": "cYb_NykB7Xgh",
        "outputId": "42eb8651-32ca-4d4f-e676-f407821cb074"
      },
      "execution_count": null,
      "outputs": [
        {
          "output_type": "execute_result",
          "data": {
            "text/plain": [
              "Fecha de Registro      0\n",
              "Tipo                   0\n",
              "Nacionalidad           0\n",
              "F_Naci_Do              0\n",
              "LocNaci_Do             0\n",
              "MpioNaci_Do            0\n",
              "EFedNaci_Do            0\n",
              "PaisNaci_Do            0\n",
              "Edad                   0\n",
              "MpioHab_Do             0\n",
              "EFedHab_Do             0\n",
              "PaisHab_Do             0\n",
              "ElIngreso              0\n",
              "Ocupaci√≥n_Do          0\n",
              "LocHabi_Do             0\n",
              "Nacionalidad2          0\n",
              "F_Naci_Da              0\n",
              "Fecha de Registro 2    0\n",
              "LocNaci_Da             0\n",
              "MpioNaci_Da            0\n",
              "EFedNaci_Da            0\n",
              "PaisNaci_Da            0\n",
              "Edad2                  0\n",
              "LocHabi_Da             0\n",
              "MpioHab_Da             0\n",
              "EFedHab_Da             0\n",
              "PaisHab_Da             0\n",
              "Ocupaci√≥n_Da          0\n",
              "EllaIngreso            0\n",
              "Fecha                  0\n",
              "Localidad              0\n",
              "Municipio              0\n",
              "Entidad Federativa     0\n",
              "ElEscolaridad          0\n",
              "ElTrabajo              0\n",
              "EllaEscolaridad        0\n",
              "EllaTrabajo            0\n",
              "Matri_A√±os            0\n",
              "Matri_Meses            0\n",
              "Num_Hijos              0\n",
              "Custodia               0\n",
              "dtype: int64"
            ]
          },
          "metadata": {},
          "execution_count": 21
        }
      ]
    },
    {
      "cell_type": "code",
      "source": [
        "Divorcio"
      ],
      "metadata": {
        "colab": {
          "base_uri": "https://localhost:8080/",
          "height": 713
        },
        "id": "Uhm0Gyz3Byny",
        "outputId": "2fdc8695-2501-4a48-ecad-76fe5f4536f1"
      },
      "execution_count": null,
      "outputs": [
        {
          "output_type": "execute_result",
          "data": {
            "text/plain": [
              "     Fecha de Registro        Tipo Nacionalidad    F_Naci_Do  \\\n",
              "0            9/06/2006   Necesario     MEXICANA   18/12/1975   \n",
              "1            1/02/2000  Voluntario     MEXICANA  NO CONOCIDO   \n",
              "2            1/02/2005   Necesario     MEXICANA   22/02/1955   \n",
              "3            1/02/2006   Necesario     MEXICANA   20/01/1964   \n",
              "4            1/02/2006   Necesario     MEXICANA   30/10/1975   \n",
              "...                ...         ...          ...          ...   \n",
              "4918        31/10/2012  Voluntario     MEXICANA   29/10/1977   \n",
              "4919        31/10/2013  Voluntario     MEXICANA   10/11/1982   \n",
              "4920        31/10/2013  Voluntario     MEXICANA   28/10/1954   \n",
              "4921        31/12/2012  Voluntario     MEXICANA    7/02/1958   \n",
              "4922        31/12/2013  Voluntario     MEXICANA   22/06/1960   \n",
              "\n",
              "             LocNaci_Do  MpioNaci_Do  EFedNaci_Do  PaisNaci_Do  Edad  \\\n",
              "0     XALAPA - ENRIQUEZ       XALAPA     VERACRUZ       MEXICO  30.0   \n",
              "1           NO CONOCIDO  NO CONOCIDO  NO CONOCIDO  NO CONOCIDO  47.0   \n",
              "2     XALAPA - ENRIQUEZ       XALAPA     VERACRUZ       MEXICO  49.0   \n",
              "3     XALAPA - ENRIQUEZ       XALAPA     VERACRUZ       MEXICO  42.0   \n",
              "4     XALAPA - ENRIQUEZ       XALAPA     VERACRUZ       MEXICO  30.0   \n",
              "...                 ...          ...          ...          ...   ...   \n",
              "4918            MORELIA      MORELIA    MICHOACAN       MEXICO  35.0   \n",
              "4919           VERACRUZ     VERACRUZ     VERACRUZ       MEXICO  30.0   \n",
              "4920  XALAPA - ENRIQUEZ       XALAPA     VERACRUZ       MEXICO  59.0   \n",
              "4921         TLAPACOYAN   TLAPACOYAN     VERACRUZ       MEXICO  54.0   \n",
              "4922        TLACOTALPAN  TLACOTALPAN     VERACRUZ       MEXICO  53.0   \n",
              "\n",
              "           MpioHab_Do  ...   Municipio Entidad Federativa  ElEscolaridad  \\\n",
              "0              XALAPA  ...      XALAPA           VERACRUZ     SECUNDARIA   \n",
              "1         NO CONOCIDO  ...      XALAPA           VERACRUZ   PREPARATORIA   \n",
              "2         NO CONOCIDO  ...      XALAPA           VERACRUZ   PREPARATORIA   \n",
              "3              XALAPA  ...      XALAPA           VERACRUZ    PROFESIONAL   \n",
              "4            COATEPEC  ...      XALAPA           VERACRUZ    PROFESIONAL   \n",
              "...               ...  ...         ...                ...            ...   \n",
              "4918          MORELIA  ...      XALAPA           VERACRUZ    PROFESIONAL   \n",
              "4919           XALAPA  ...      XALAPA           VERACRUZ    PROFESIONAL   \n",
              "4920  EMILIANO ZAPATA  ...      XALAPA           VERACRUZ    PROFESIONAL   \n",
              "4921           XALAPA  ...  TLAPACOYAN           VERACRUZ   PREPARATORIA   \n",
              "4922           XALAPA  ...    COATEPEC           VERACRUZ    PROFESIONAL   \n",
              "\n",
              "            ElTrabajo EllaEscolaridad  \\\n",
              "0              OBRERO      SECUNDARIA   \n",
              "1     ESTABLECIMIENTO    PREPARATORIA   \n",
              "2              OBRERO     NO CONOCIDO   \n",
              "3            EMPLEADO    PREPARATORIA   \n",
              "4            EMPLEADO    PREPARATORIA   \n",
              "...               ...             ...   \n",
              "4918         EMPLEADO     PROFESIONAL   \n",
              "4919         EMPLEADO     PROFESIONAL   \n",
              "4920         EMPLEADO     PROFESIONAL   \n",
              "4921      NO CONOCIDO        PRIMARIA   \n",
              "4922         EMPLEADO     PROFESIONAL   \n",
              "\n",
              "                                       EllaTrabajo Matri_A√±os Matri_Meses  \\\n",
              "0                                         EMPLEADO    5.000000    6.293891   \n",
              "1                                         EMPLEADO   11.723549    6.293891   \n",
              "2     TRABAJADOR POR CUENTA PROPIA EN VIA PUBLICA    11.723549    6.293891   \n",
              "3                                         EMPLEADO   18.000000    6.293891   \n",
              "4                                       NO TRABAJA    7.000000    6.293891   \n",
              "...                                            ...         ...         ...   \n",
              "4918                                      EMPLEADO    3.000000   11.000000   \n",
              "4919                                      EMPLEADO    1.000000    6.293891   \n",
              "4920                                      EMPLEADO   35.000000    6.293891   \n",
              "4921                                    NO TRABAJA   33.000000    6.293891   \n",
              "4922                                      EMPLEADO    4.000000    6.293891   \n",
              "\n",
              "     Num_Hijos     Custodia  \n",
              "0          1.0  NO CONOCIDO  \n",
              "1          0.0  NO CONOCIDO  \n",
              "2          0.0  NO CONOCIDO  \n",
              "3          2.0        MADRE  \n",
              "4          2.0        MADRE  \n",
              "...        ...          ...  \n",
              "4918       0.0  NO CONOCIDO  \n",
              "4919       0.0  NO CONOCIDO  \n",
              "4920       2.0  NO CONOCIDO  \n",
              "4921       2.0  NO CONOCIDO  \n",
              "4922       0.0  NO CONOCIDO  \n",
              "\n",
              "[4923 rows x 41 columns]"
            ],
            "text/html": [
              "\n",
              "\n",
              "  <div id=\"df-6ebbb1ae-416b-4b27-953b-e2f2e5f748f6\">\n",
              "    <div class=\"colab-df-container\">\n",
              "      <div>\n",
              "<style scoped>\n",
              "    .dataframe tbody tr th:only-of-type {\n",
              "        vertical-align: middle;\n",
              "    }\n",
              "\n",
              "    .dataframe tbody tr th {\n",
              "        vertical-align: top;\n",
              "    }\n",
              "\n",
              "    .dataframe thead th {\n",
              "        text-align: right;\n",
              "    }\n",
              "</style>\n",
              "<table border=\"1\" class=\"dataframe\">\n",
              "  <thead>\n",
              "    <tr style=\"text-align: right;\">\n",
              "      <th></th>\n",
              "      <th>Fecha de Registro</th>\n",
              "      <th>Tipo</th>\n",
              "      <th>Nacionalidad</th>\n",
              "      <th>F_Naci_Do</th>\n",
              "      <th>LocNaci_Do</th>\n",
              "      <th>MpioNaci_Do</th>\n",
              "      <th>EFedNaci_Do</th>\n",
              "      <th>PaisNaci_Do</th>\n",
              "      <th>Edad</th>\n",
              "      <th>MpioHab_Do</th>\n",
              "      <th>...</th>\n",
              "      <th>Municipio</th>\n",
              "      <th>Entidad Federativa</th>\n",
              "      <th>ElEscolaridad</th>\n",
              "      <th>ElTrabajo</th>\n",
              "      <th>EllaEscolaridad</th>\n",
              "      <th>EllaTrabajo</th>\n",
              "      <th>Matri_A√±os</th>\n",
              "      <th>Matri_Meses</th>\n",
              "      <th>Num_Hijos</th>\n",
              "      <th>Custodia</th>\n",
              "    </tr>\n",
              "  </thead>\n",
              "  <tbody>\n",
              "    <tr>\n",
              "      <th>0</th>\n",
              "      <td>9/06/2006</td>\n",
              "      <td>Necesario</td>\n",
              "      <td>MEXICANA</td>\n",
              "      <td>18/12/1975</td>\n",
              "      <td>XALAPA - ENRIQUEZ</td>\n",
              "      <td>XALAPA</td>\n",
              "      <td>VERACRUZ</td>\n",
              "      <td>MEXICO</td>\n",
              "      <td>30.0</td>\n",
              "      <td>XALAPA</td>\n",
              "      <td>...</td>\n",
              "      <td>XALAPA</td>\n",
              "      <td>VERACRUZ</td>\n",
              "      <td>SECUNDARIA</td>\n",
              "      <td>OBRERO</td>\n",
              "      <td>SECUNDARIA</td>\n",
              "      <td>EMPLEADO</td>\n",
              "      <td>5.000000</td>\n",
              "      <td>6.293891</td>\n",
              "      <td>1.0</td>\n",
              "      <td>NO CONOCIDO</td>\n",
              "    </tr>\n",
              "    <tr>\n",
              "      <th>1</th>\n",
              "      <td>1/02/2000</td>\n",
              "      <td>Voluntario</td>\n",
              "      <td>MEXICANA</td>\n",
              "      <td>NO CONOCIDO</td>\n",
              "      <td>NO CONOCIDO</td>\n",
              "      <td>NO CONOCIDO</td>\n",
              "      <td>NO CONOCIDO</td>\n",
              "      <td>NO CONOCIDO</td>\n",
              "      <td>47.0</td>\n",
              "      <td>NO CONOCIDO</td>\n",
              "      <td>...</td>\n",
              "      <td>XALAPA</td>\n",
              "      <td>VERACRUZ</td>\n",
              "      <td>PREPARATORIA</td>\n",
              "      <td>ESTABLECIMIENTO</td>\n",
              "      <td>PREPARATORIA</td>\n",
              "      <td>EMPLEADO</td>\n",
              "      <td>11.723549</td>\n",
              "      <td>6.293891</td>\n",
              "      <td>0.0</td>\n",
              "      <td>NO CONOCIDO</td>\n",
              "    </tr>\n",
              "    <tr>\n",
              "      <th>2</th>\n",
              "      <td>1/02/2005</td>\n",
              "      <td>Necesario</td>\n",
              "      <td>MEXICANA</td>\n",
              "      <td>22/02/1955</td>\n",
              "      <td>XALAPA - ENRIQUEZ</td>\n",
              "      <td>XALAPA</td>\n",
              "      <td>VERACRUZ</td>\n",
              "      <td>MEXICO</td>\n",
              "      <td>49.0</td>\n",
              "      <td>NO CONOCIDO</td>\n",
              "      <td>...</td>\n",
              "      <td>XALAPA</td>\n",
              "      <td>VERACRUZ</td>\n",
              "      <td>PREPARATORIA</td>\n",
              "      <td>OBRERO</td>\n",
              "      <td>NO CONOCIDO</td>\n",
              "      <td>TRABAJADOR POR CUENTA PROPIA EN VIA PUBLICA</td>\n",
              "      <td>11.723549</td>\n",
              "      <td>6.293891</td>\n",
              "      <td>0.0</td>\n",
              "      <td>NO CONOCIDO</td>\n",
              "    </tr>\n",
              "    <tr>\n",
              "      <th>3</th>\n",
              "      <td>1/02/2006</td>\n",
              "      <td>Necesario</td>\n",
              "      <td>MEXICANA</td>\n",
              "      <td>20/01/1964</td>\n",
              "      <td>XALAPA - ENRIQUEZ</td>\n",
              "      <td>XALAPA</td>\n",
              "      <td>VERACRUZ</td>\n",
              "      <td>MEXICO</td>\n",
              "      <td>42.0</td>\n",
              "      <td>XALAPA</td>\n",
              "      <td>...</td>\n",
              "      <td>XALAPA</td>\n",
              "      <td>VERACRUZ</td>\n",
              "      <td>PROFESIONAL</td>\n",
              "      <td>EMPLEADO</td>\n",
              "      <td>PREPARATORIA</td>\n",
              "      <td>EMPLEADO</td>\n",
              "      <td>18.000000</td>\n",
              "      <td>6.293891</td>\n",
              "      <td>2.0</td>\n",
              "      <td>MADRE</td>\n",
              "    </tr>\n",
              "    <tr>\n",
              "      <th>4</th>\n",
              "      <td>1/02/2006</td>\n",
              "      <td>Necesario</td>\n",
              "      <td>MEXICANA</td>\n",
              "      <td>30/10/1975</td>\n",
              "      <td>XALAPA - ENRIQUEZ</td>\n",
              "      <td>XALAPA</td>\n",
              "      <td>VERACRUZ</td>\n",
              "      <td>MEXICO</td>\n",
              "      <td>30.0</td>\n",
              "      <td>COATEPEC</td>\n",
              "      <td>...</td>\n",
              "      <td>XALAPA</td>\n",
              "      <td>VERACRUZ</td>\n",
              "      <td>PROFESIONAL</td>\n",
              "      <td>EMPLEADO</td>\n",
              "      <td>PREPARATORIA</td>\n",
              "      <td>NO TRABAJA</td>\n",
              "      <td>7.000000</td>\n",
              "      <td>6.293891</td>\n",
              "      <td>2.0</td>\n",
              "      <td>MADRE</td>\n",
              "    </tr>\n",
              "    <tr>\n",
              "      <th>...</th>\n",
              "      <td>...</td>\n",
              "      <td>...</td>\n",
              "      <td>...</td>\n",
              "      <td>...</td>\n",
              "      <td>...</td>\n",
              "      <td>...</td>\n",
              "      <td>...</td>\n",
              "      <td>...</td>\n",
              "      <td>...</td>\n",
              "      <td>...</td>\n",
              "      <td>...</td>\n",
              "      <td>...</td>\n",
              "      <td>...</td>\n",
              "      <td>...</td>\n",
              "      <td>...</td>\n",
              "      <td>...</td>\n",
              "      <td>...</td>\n",
              "      <td>...</td>\n",
              "      <td>...</td>\n",
              "      <td>...</td>\n",
              "      <td>...</td>\n",
              "    </tr>\n",
              "    <tr>\n",
              "      <th>4918</th>\n",
              "      <td>31/10/2012</td>\n",
              "      <td>Voluntario</td>\n",
              "      <td>MEXICANA</td>\n",
              "      <td>29/10/1977</td>\n",
              "      <td>MORELIA</td>\n",
              "      <td>MORELIA</td>\n",
              "      <td>MICHOACAN</td>\n",
              "      <td>MEXICO</td>\n",
              "      <td>35.0</td>\n",
              "      <td>MORELIA</td>\n",
              "      <td>...</td>\n",
              "      <td>XALAPA</td>\n",
              "      <td>VERACRUZ</td>\n",
              "      <td>PROFESIONAL</td>\n",
              "      <td>EMPLEADO</td>\n",
              "      <td>PROFESIONAL</td>\n",
              "      <td>EMPLEADO</td>\n",
              "      <td>3.000000</td>\n",
              "      <td>11.000000</td>\n",
              "      <td>0.0</td>\n",
              "      <td>NO CONOCIDO</td>\n",
              "    </tr>\n",
              "    <tr>\n",
              "      <th>4919</th>\n",
              "      <td>31/10/2013</td>\n",
              "      <td>Voluntario</td>\n",
              "      <td>MEXICANA</td>\n",
              "      <td>10/11/1982</td>\n",
              "      <td>VERACRUZ</td>\n",
              "      <td>VERACRUZ</td>\n",
              "      <td>VERACRUZ</td>\n",
              "      <td>MEXICO</td>\n",
              "      <td>30.0</td>\n",
              "      <td>XALAPA</td>\n",
              "      <td>...</td>\n",
              "      <td>XALAPA</td>\n",
              "      <td>VERACRUZ</td>\n",
              "      <td>PROFESIONAL</td>\n",
              "      <td>EMPLEADO</td>\n",
              "      <td>PROFESIONAL</td>\n",
              "      <td>EMPLEADO</td>\n",
              "      <td>1.000000</td>\n",
              "      <td>6.293891</td>\n",
              "      <td>0.0</td>\n",
              "      <td>NO CONOCIDO</td>\n",
              "    </tr>\n",
              "    <tr>\n",
              "      <th>4920</th>\n",
              "      <td>31/10/2013</td>\n",
              "      <td>Voluntario</td>\n",
              "      <td>MEXICANA</td>\n",
              "      <td>28/10/1954</td>\n",
              "      <td>XALAPA - ENRIQUEZ</td>\n",
              "      <td>XALAPA</td>\n",
              "      <td>VERACRUZ</td>\n",
              "      <td>MEXICO</td>\n",
              "      <td>59.0</td>\n",
              "      <td>EMILIANO ZAPATA</td>\n",
              "      <td>...</td>\n",
              "      <td>XALAPA</td>\n",
              "      <td>VERACRUZ</td>\n",
              "      <td>PROFESIONAL</td>\n",
              "      <td>EMPLEADO</td>\n",
              "      <td>PROFESIONAL</td>\n",
              "      <td>EMPLEADO</td>\n",
              "      <td>35.000000</td>\n",
              "      <td>6.293891</td>\n",
              "      <td>2.0</td>\n",
              "      <td>NO CONOCIDO</td>\n",
              "    </tr>\n",
              "    <tr>\n",
              "      <th>4921</th>\n",
              "      <td>31/12/2012</td>\n",
              "      <td>Voluntario</td>\n",
              "      <td>MEXICANA</td>\n",
              "      <td>7/02/1958</td>\n",
              "      <td>TLAPACOYAN</td>\n",
              "      <td>TLAPACOYAN</td>\n",
              "      <td>VERACRUZ</td>\n",
              "      <td>MEXICO</td>\n",
              "      <td>54.0</td>\n",
              "      <td>XALAPA</td>\n",
              "      <td>...</td>\n",
              "      <td>TLAPACOYAN</td>\n",
              "      <td>VERACRUZ</td>\n",
              "      <td>PREPARATORIA</td>\n",
              "      <td>NO CONOCIDO</td>\n",
              "      <td>PRIMARIA</td>\n",
              "      <td>NO TRABAJA</td>\n",
              "      <td>33.000000</td>\n",
              "      <td>6.293891</td>\n",
              "      <td>2.0</td>\n",
              "      <td>NO CONOCIDO</td>\n",
              "    </tr>\n",
              "    <tr>\n",
              "      <th>4922</th>\n",
              "      <td>31/12/2013</td>\n",
              "      <td>Voluntario</td>\n",
              "      <td>MEXICANA</td>\n",
              "      <td>22/06/1960</td>\n",
              "      <td>TLACOTALPAN</td>\n",
              "      <td>TLACOTALPAN</td>\n",
              "      <td>VERACRUZ</td>\n",
              "      <td>MEXICO</td>\n",
              "      <td>53.0</td>\n",
              "      <td>XALAPA</td>\n",
              "      <td>...</td>\n",
              "      <td>COATEPEC</td>\n",
              "      <td>VERACRUZ</td>\n",
              "      <td>PROFESIONAL</td>\n",
              "      <td>EMPLEADO</td>\n",
              "      <td>PROFESIONAL</td>\n",
              "      <td>EMPLEADO</td>\n",
              "      <td>4.000000</td>\n",
              "      <td>6.293891</td>\n",
              "      <td>0.0</td>\n",
              "      <td>NO CONOCIDO</td>\n",
              "    </tr>\n",
              "  </tbody>\n",
              "</table>\n",
              "<p>4923 rows × 41 columns</p>\n",
              "</div>\n",
              "      <button class=\"colab-df-convert\" onclick=\"convertToInteractive('df-6ebbb1ae-416b-4b27-953b-e2f2e5f748f6')\"\n",
              "              title=\"Convert this dataframe to an interactive table.\"\n",
              "              style=\"display:none;\">\n",
              "\n",
              "  <svg xmlns=\"http://www.w3.org/2000/svg\" height=\"24px\"viewBox=\"0 0 24 24\"\n",
              "       width=\"24px\">\n",
              "    <path d=\"M0 0h24v24H0V0z\" fill=\"none\"/>\n",
              "    <path d=\"M18.56 5.44l.94 2.06.94-2.06 2.06-.94-2.06-.94-.94-2.06-.94 2.06-2.06.94zm-11 1L8.5 8.5l.94-2.06 2.06-.94-2.06-.94L8.5 2.5l-.94 2.06-2.06.94zm10 10l.94 2.06.94-2.06 2.06-.94-2.06-.94-.94-2.06-.94 2.06-2.06.94z\"/><path d=\"M17.41 7.96l-1.37-1.37c-.4-.4-.92-.59-1.43-.59-.52 0-1.04.2-1.43.59L10.3 9.45l-7.72 7.72c-.78.78-.78 2.05 0 2.83L4 21.41c.39.39.9.59 1.41.59.51 0 1.02-.2 1.41-.59l7.78-7.78 2.81-2.81c.8-.78.8-2.07 0-2.86zM5.41 20L4 18.59l7.72-7.72 1.47 1.35L5.41 20z\"/>\n",
              "  </svg>\n",
              "      </button>\n",
              "\n",
              "\n",
              "\n",
              "    <div id=\"df-ba2c7dc7-399f-4876-8e18-dcbb336eb684\">\n",
              "      <button class=\"colab-df-quickchart\" onclick=\"quickchart('df-ba2c7dc7-399f-4876-8e18-dcbb336eb684')\"\n",
              "              title=\"Suggest charts.\"\n",
              "              style=\"display:none;\">\n",
              "\n",
              "<svg xmlns=\"http://www.w3.org/2000/svg\" height=\"24px\"viewBox=\"0 0 24 24\"\n",
              "     width=\"24px\">\n",
              "    <g>\n",
              "        <path d=\"M19 3H5c-1.1 0-2 .9-2 2v14c0 1.1.9 2 2 2h14c1.1 0 2-.9 2-2V5c0-1.1-.9-2-2-2zM9 17H7v-7h2v7zm4 0h-2V7h2v10zm4 0h-2v-4h2v4z\"/>\n",
              "    </g>\n",
              "</svg>\n",
              "      </button>\n",
              "    </div>\n",
              "\n",
              "<style>\n",
              "  .colab-df-quickchart {\n",
              "    background-color: #E8F0FE;\n",
              "    border: none;\n",
              "    border-radius: 50%;\n",
              "    cursor: pointer;\n",
              "    display: none;\n",
              "    fill: #1967D2;\n",
              "    height: 32px;\n",
              "    padding: 0 0 0 0;\n",
              "    width: 32px;\n",
              "  }\n",
              "\n",
              "  .colab-df-quickchart:hover {\n",
              "    background-color: #E2EBFA;\n",
              "    box-shadow: 0px 1px 2px rgba(60, 64, 67, 0.3), 0px 1px 3px 1px rgba(60, 64, 67, 0.15);\n",
              "    fill: #174EA6;\n",
              "  }\n",
              "\n",
              "  [theme=dark] .colab-df-quickchart {\n",
              "    background-color: #3B4455;\n",
              "    fill: #D2E3FC;\n",
              "  }\n",
              "\n",
              "  [theme=dark] .colab-df-quickchart:hover {\n",
              "    background-color: #434B5C;\n",
              "    box-shadow: 0px 1px 3px 1px rgba(0, 0, 0, 0.15);\n",
              "    filter: drop-shadow(0px 1px 2px rgba(0, 0, 0, 0.3));\n",
              "    fill: #FFFFFF;\n",
              "  }\n",
              "</style>\n",
              "\n",
              "    <script>\n",
              "      async function quickchart(key) {\n",
              "        const containerElement = document.querySelector('#' + key);\n",
              "        const charts = await google.colab.kernel.invokeFunction(\n",
              "            'suggestCharts', [key], {});\n",
              "      }\n",
              "    </script>\n",
              "\n",
              "      <script>\n",
              "\n",
              "function displayQuickchartButton(domScope) {\n",
              "  let quickchartButtonEl =\n",
              "    domScope.querySelector('#df-ba2c7dc7-399f-4876-8e18-dcbb336eb684 button.colab-df-quickchart');\n",
              "  quickchartButtonEl.style.display =\n",
              "    google.colab.kernel.accessAllowed ? 'block' : 'none';\n",
              "}\n",
              "\n",
              "        displayQuickchartButton(document);\n",
              "      </script>\n",
              "      <style>\n",
              "    .colab-df-container {\n",
              "      display:flex;\n",
              "      flex-wrap:wrap;\n",
              "      gap: 12px;\n",
              "    }\n",
              "\n",
              "    .colab-df-convert {\n",
              "      background-color: #E8F0FE;\n",
              "      border: none;\n",
              "      border-radius: 50%;\n",
              "      cursor: pointer;\n",
              "      display: none;\n",
              "      fill: #1967D2;\n",
              "      height: 32px;\n",
              "      padding: 0 0 0 0;\n",
              "      width: 32px;\n",
              "    }\n",
              "\n",
              "    .colab-df-convert:hover {\n",
              "      background-color: #E2EBFA;\n",
              "      box-shadow: 0px 1px 2px rgba(60, 64, 67, 0.3), 0px 1px 3px 1px rgba(60, 64, 67, 0.15);\n",
              "      fill: #174EA6;\n",
              "    }\n",
              "\n",
              "    [theme=dark] .colab-df-convert {\n",
              "      background-color: #3B4455;\n",
              "      fill: #D2E3FC;\n",
              "    }\n",
              "\n",
              "    [theme=dark] .colab-df-convert:hover {\n",
              "      background-color: #434B5C;\n",
              "      box-shadow: 0px 1px 3px 1px rgba(0, 0, 0, 0.15);\n",
              "      filter: drop-shadow(0px 1px 2px rgba(0, 0, 0, 0.3));\n",
              "      fill: #FFFFFF;\n",
              "    }\n",
              "  </style>\n",
              "\n",
              "      <script>\n",
              "        const buttonEl =\n",
              "          document.querySelector('#df-6ebbb1ae-416b-4b27-953b-e2f2e5f748f6 button.colab-df-convert');\n",
              "        buttonEl.style.display =\n",
              "          google.colab.kernel.accessAllowed ? 'block' : 'none';\n",
              "\n",
              "        async function convertToInteractive(key) {\n",
              "          const element = document.querySelector('#df-6ebbb1ae-416b-4b27-953b-e2f2e5f748f6');\n",
              "          const dataTable =\n",
              "            await google.colab.kernel.invokeFunction('convertToInteractive',\n",
              "                                                     [key], {});\n",
              "          if (!dataTable) return;\n",
              "\n",
              "          const docLinkHtml = 'Like what you see? Visit the ' +\n",
              "            '<a target=\"_blank\" href=https://colab.research.google.com/notebooks/data_table.ipynb>data table notebook</a>'\n",
              "            + ' to learn more about interactive tables.';\n",
              "          element.innerHTML = '';\n",
              "          dataTable['output_type'] = 'display_data';\n",
              "          await google.colab.output.renderOutput(dataTable, element);\n",
              "          const docLink = document.createElement('div');\n",
              "          docLink.innerHTML = docLinkHtml;\n",
              "          element.appendChild(docLink);\n",
              "        }\n",
              "      </script>\n",
              "    </div>\n",
              "  </div>\n"
            ]
          },
          "metadata": {},
          "execution_count": 22
        }
      ]
    },
    {
      "cell_type": "markdown",
      "source": [
        "# GRAFICOS   MATPLOTLIB\n"
      ],
      "metadata": {
        "id": "FpWeRnBRzPhC"
      }
    },
    {
      "cell_type": "code",
      "source": [
        "from datetime import datetime"
      ],
      "metadata": {
        "id": "kX_xOUqpC3C9"
      },
      "execution_count": null,
      "outputs": []
    },
    {
      "cell_type": "code",
      "source": [
        "Divorcio['Fecha de Divorcio'] = pd.to_datetime(Divorcio['Fecha de Registro'], format='%d/%m/%Y')"
      ],
      "metadata": {
        "id": "z3Jr_swaYDi4"
      },
      "execution_count": null,
      "outputs": []
    },
    {
      "cell_type": "code",
      "source": [
        "ingreso_por_año = Divorcio.groupby(Divorcio['Fecha de Divorcio'].dt.year)['ElIngreso'].mean()\n",
        "ingreso_por_año_m = Divorcio.groupby(Divorcio['Fecha de Divorcio'].dt.year)['EllaIngreso'].mean()"
      ],
      "metadata": {
        "id": "21nzPjmOZA6A"
      },
      "execution_count": null,
      "outputs": []
    },
    {
      "cell_type": "code",
      "source": [
        "plt.figure(figsize=(10, 6))\n",
        "plt.plot(ingreso_por_año.index, ingreso_por_año.values, marker='o')\n",
        "plt.plot(ingreso_por_año_m.index, ingreso_por_año_m.values, marker='o', color='pink')\n",
        "plt.xlabel('Año de divorcio')\n",
        "plt.ylabel('Nivel de ingreso de hombre y mujer')\n",
        "plt.title('Nivel de ingreso promedio por año')\n",
        "plt.grid(True)\n",
        "plt.show()\n"
      ],
      "metadata": {
        "colab": {
          "base_uri": "https://localhost:8080/",
          "height": 564
        },
        "id": "GbJmx_mHZ64h",
        "outputId": "a3d1f834-82f3-4af5-d5c0-a8aa17126249"
      },
      "execution_count": null,
      "outputs": [
        {
          "output_type": "display_data",
          "data": {
            "text/plain": [
              "<Figure size 1000x600 with 1 Axes>"
            ],
            "image/png": "[encoded data removed]"
          },
          "metadata": {}
        }
      ]
    },
    {
      "cell_type": "markdown",
      "source": [
        "La gráfica lineal del nivel de ingreso de hombres y mujeres por años nos permite analizar si el ingreso tuvo algún impacto en el momento del divorcio, así como identificar posibles tendencias. Al observar la gráfica, notamos que en la mayoría de los años el ingreso de los hombres fue mayor que el de las mujeres, a excepción de los años posteriores a 2014. Esto sugiere que puede haber ocurrido un cambio en la dinámica de ingresos entre hombres y mujeres en ese periodo.\n",
        "\n",
        "\n"
      ],
      "metadata": {
        "id": "qKvYm2sYcExK"
      }
    },
    {
      "cell_type": "code",
      "source": [
        "Divorcio['Fecha de Matrimonio'] = pd.to_datetime(Divorcio['Fecha'], format='%d/%m/%Y')"
      ],
      "metadata": {
        "id": "GOha7A1pc5zK"
      },
      "execution_count": null,
      "outputs": []
    },
    {
      "cell_type": "code",
      "source": [
        "ingreso_por_año_hm = Divorcio.groupby(Divorcio['Fecha de Matrimonio'].dt.year)['ElIngreso'].mean()\n",
        "ingreso_por_año_mm = Divorcio.groupby(Divorcio['Fecha de Matrimonio'].dt.year)['EllaIngreso'].mean()"
      ],
      "metadata": {
        "id": "AVttNsdFdM5Y"
      },
      "execution_count": null,
      "outputs": []
    },
    {
      "cell_type": "code",
      "source": [
        "plt.figure(figsize=(10, 6))\n",
        "plt.plot(ingreso_por_año_hm.index, ingreso_por_año_hm.values, marker='o', color='red')\n",
        "plt.plot(ingreso_por_año_mm.index, ingreso_por_año_mm.values, marker='o', color='green')\n",
        "plt.xlabel('Año de Matrimonio')\n",
        "plt.ylabel('Nivel de ingreso de hombre y mujer')\n",
        "plt.title('Nivel de ingreso promedio por año')\n",
        "plt.grid(True)\n",
        "plt.show()"
      ],
      "metadata": {
        "colab": {
          "base_uri": "https://localhost:8080/",
          "height": 564
        },
        "id": "MQ_Qm7sgdXW6",
        "outputId": "4563dc3e-3bac-467b-cdd4-b8e696b143a1"
      },
      "execution_count": null,
      "outputs": [
        {
          "output_type": "display_data",
          "data": {
            "text/plain": [
              "<Figure size 1000x600 with 1 Axes>"
            ],
            "image/png": "[encoded data removed]"
          },
          "metadata": {}
        }
      ]
    },
    {
      "cell_type": "markdown",
      "source": [
        "Cuando graficamos el nivel de ingresos de hombres y mujeres en los años en que contrajeron matrimonio, podemos observar que los niveles de ingresos son más similares en comparación con la gráfica anterior del momento del divorcio. Esta similitud en los ingresos sugiere que al inicio del matrimonio, hombres y mujeres tienen niveles de ingresos más cercanos.\n",
        "\n",
        "Sin embargo, a medida que transcurre el tiempo, podemos notar que la brecha entre los niveles de ingresos va aumentando, lo cual puede indicar que esta disparidad creciente en los ingresos puede tener una influencia en la tendencia al divorcio."
      ],
      "metadata": {
        "id": "rtBkiuiaf8qR"
      }
    },
    {
      "cell_type": "code",
      "source": [
        "Conteo = Divorcio.groupby(Divorcio['Fecha de Divorcio'].dt.year)['Tipo'].count()"
      ],
      "metadata": {
        "id": "JYcG2S6tiQFC"
      },
      "execution_count": null,
      "outputs": []
    },
    {
      "cell_type": "code",
      "source": [
        "Conteo"
      ],
      "metadata": {
        "colab": {
          "base_uri": "https://localhost:8080/"
        },
        "id": "SzVgu79ujKKk",
        "outputId": "a87aba35-372e-4c24-ce04-9c19996550d0"
      },
      "execution_count": null,
      "outputs": [
        {
          "output_type": "execute_result",
          "data": {
            "text/plain": [
              "Fecha de Divorcio\n",
              "2000    318\n",
              "2001    325\n",
              "2002    344\n",
              "2003    321\n",
              "2004    305\n",
              "2005    274\n",
              "2006    304\n",
              "2007    342\n",
              "2008    367\n",
              "2009    358\n",
              "2010    290\n",
              "2011    408\n",
              "2012    401\n",
              "2013    325\n",
              "2014    211\n",
              "2015     30\n",
              "Name: Tipo, dtype: int64"
            ]
          },
          "metadata": {},
          "execution_count": 31
        }
      ]
    },
    {
      "cell_type": "code",
      "source": [
        "fig, ax = plt.subplots(figsize=(10, 5))\n",
        "ax.bar(Conteo.index, Conteo.values, color='orange')\n",
        "ax.set_xlabel('Años')\n",
        "ax.set_ylabel('Cantidad')\n",
        "ax.set_title('Cantidad de divorcios por  año')"
      ],
      "metadata": {
        "colab": {
          "base_uri": "https://localhost:8080/",
          "height": 505
        },
        "id": "DM3xC_wDGZEq",
        "outputId": "c8ea00e4-d48c-40fc-cba4-be4d88a77e0d"
      },
      "execution_count": null,
      "outputs": [
        {
          "output_type": "execute_result",
          "data": {
            "text/plain": [
              "Text(0.5, 1.0, 'Cantidad de divorcios por  año')"
            ]
          },
          "metadata": {},
          "execution_count": 32
        },
        {
          "output_type": "display_data",
          "data": {
            "text/plain": [
              "<Figure size 1000x500 with 1 Axes>"
            ],
            "image/png": "[encoded data removed]"
          },
          "metadata": {}
        }
      ]
    },
    {
      "cell_type": "markdown",
      "source": [
        "Al analizar la gráfica de la cantidad de divorcios por año, podemos observar patrones interesantes. Entre los años 2010 y 2012, se produjo un aumento significativo en el número de divorcios. Sin embargo, en los años siguientes, hubo un descenso abrupto en la cantidad de divorcios. Es posible que este cambio esté relacionado con una situación concreta que pudo haber frenado los divorcios.\n",
        "\n",
        "Una posible explicación para esta disminución podría ser la crisis económica que comenzó en 2008 y continuó afectando la economía mundial en el año 2013. Durante períodos de crisis económica, es común que las parejas enfrenten dificultades financieras y decidan posponer o evitar el proceso costoso de divorcio. Esto podría explicar la disminución brusca en el número de divorcios en ese año en particular.\n",
        "\n",
        "Estos hallazgos resaltan cómo los factores económicos pueden influir en las decisiones de divorcio y cómo la estabilidad financiera puede tener un impacto significativo en las relaciones de pareja."
      ],
      "metadata": {
        "id": "xeJf9a83nGUd"
      }
    },
    {
      "cell_type": "markdown",
      "source": [
        "## GRAFICOS SEABORN\n",
        "\n"
      ],
      "metadata": {
        "id": "tcNySL25omNi"
      }
    },
    {
      "cell_type": "code",
      "source": [
        "plt.figure(figsize=(10, 6))\n",
        "sns.scatterplot(data=Divorcio, x=\"EllaIngreso\", y=\"Matri_A√±os\", hue=\"EllaTrabajo\")\n",
        "plt.ylabel('Años de matrimonio')\n",
        "plt.xlabel('Ingreso de ella')\n",
        "plt.title('Gráfico de dispersión: Ingreso de ella vs. Años de matrimonio')\n"
      ],
      "metadata": {
        "colab": {
          "base_uri": "https://localhost:8080/",
          "height": 583
        },
        "id": "0n4WAiqkwgSZ",
        "outputId": "633fcca4-72be-4dcb-b6fd-cedbe191072a"
      },
      "execution_count": null,
      "outputs": [
        {
          "output_type": "execute_result",
          "data": {
            "text/plain": [
              "Text(0.5, 1.0, 'Gráfico de dispersión: Ingreso de ella vs. Años de matrimonio')"
            ]
          },
          "metadata": {},
          "execution_count": 33
        },
        {
          "output_type": "display_data",
          "data": {
            "text/plain": [
              "<Figure size 1000x600 with 1 Axes>"
            ],
            "image/png": "[encoded data removed]"
          },
          "metadata": {}
        }
      ]
    },
    {
      "cell_type": "markdown",
      "source": [
        "Al observar el gráfico de dispersión, podemos identificar algunas tendencias interesantes. En primer lugar, la mayoría de las mujeres en la base de datos tienen un salario en el rango de 0 a 50000. Esto indica que hay una concentración de mujeres con ingresos en ese intervalo.\n",
        "\n",
        "Además, podemos notar que los años de matrimonio tienden a aumentar cuando las mujeres no trabajan o trabajan desde su hogar. Esto podría indicar que aquellas mujeres que no tienen empleo remunerado o que desempeñan actividades laborales desde casa tienden a tener matrimonios más duraderos.\n",
        "\n",
        "Por otro lado, si una mujer es empleada o empresaria, la tendencia es que tenga menos años de matrimonio. Esto podría estar relacionado con las demandas y responsabilidades asociadas al trabajo fuera del hogar, que podrían afectar la estabilidad de la relación matrimonial.\n",
        "\n",
        "Estos hallazgos ilustran cómo el nivel de ingresos y la actividad laboral pueden influir en la duración del matrimonio, y cómo diferentes situaciones laborales pueden afectar la tendencia de tener matrimonios más largos o más cortos."
      ],
      "metadata": {
        "id": "YUO4W-m80SWZ"
      }
    },
    {
      "cell_type": "code",
      "source": [
        "Divorcio.columns"
      ],
      "metadata": {
        "colab": {
          "base_uri": "https://localhost:8080/"
        },
        "id": "0cbdj-UPPfBZ",
        "outputId": "b6246232-b97a-4dc3-a99a-2db6ce39f6a6"
      },
      "execution_count": null,
      "outputs": [
        {
          "output_type": "execute_result",
          "data": {
            "text/plain": [
              "Index(['Fecha de Registro', 'Tipo', 'Nacionalidad', 'F_Naci_Do', 'LocNaci_Do',\n",
              "       'MpioNaci_Do', 'EFedNaci_Do', 'PaisNaci_Do', 'Edad', 'MpioHab_Do',\n",
              "       'EFedHab_Do', 'PaisHab_Do', 'ElIngreso', 'Ocupaci√≥n_Do', 'LocHabi_Do',\n",
              "       'Nacionalidad2', 'F_Naci_Da', 'Fecha de Registro 2', 'LocNaci_Da',\n",
              "       'MpioNaci_Da', 'EFedNaci_Da', 'PaisNaci_Da', 'Edad2', 'LocHabi_Da',\n",
              "       'MpioHab_Da', 'EFedHab_Da', 'PaisHab_Da', 'Ocupaci√≥n_Da',\n",
              "       'EllaIngreso', 'Fecha', 'Localidad', 'Municipio', 'Entidad Federativa',\n",
              "       'ElEscolaridad', 'ElTrabajo', 'EllaEscolaridad', 'EllaTrabajo',\n",
              "       'Matri_A√±os', 'Matri_Meses', 'Num_Hijos', 'Custodia',\n",
              "       'Fecha de Divorcio', 'Fecha de Matrimonio'],\n",
              "      dtype='object')"
            ]
          },
          "metadata": {},
          "execution_count": 34
        }
      ]
    },
    {
      "cell_type": "code",
      "source": [
        "plt.figure(figsize=(10, 6))\n",
        "sns.scatterplot(data=Divorcio, x=\"ElIngreso\", y=\"Matri_A√±os\", hue=\"ElTrabajo\")\n",
        "plt.ylabel('Años de matrimonio')\n",
        "plt.xlabel('Ingreso de él')\n",
        "plt.title('Gráfico de dispersión: Ingreso de él vs. Años de matrimonio')"
      ],
      "metadata": {
        "colab": {
          "base_uri": "https://localhost:8080/",
          "height": 583
        },
        "id": "NoEWfWs-0eZV",
        "outputId": "bb8a9592-123f-422f-b7f5-1ca3a4664f26"
      },
      "execution_count": null,
      "outputs": [
        {
          "output_type": "execute_result",
          "data": {
            "text/plain": [
              "Text(0.5, 1.0, 'Gráfico de dispersión: Ingreso de él vs. Años de matrimonio')"
            ]
          },
          "metadata": {},
          "execution_count": 35
        },
        {
          "output_type": "display_data",
          "data": {
            "text/plain": [
              "<Figure size 1000x600 with 1 Axes>"
            ],
            "image/png": "[encoded data removed]"
          },
          "metadata": {}
        }
      ]
    },
    {
      "cell_type": "markdown",
      "source": [
        "\n",
        "Al analizar el gráfico de dispersión enfocado en los hombres, se observan patrones interesantes. Primero, se puede notar que aquellos hombres con ingresos más bajos tienden a tener matrimonios más duraderos cuando son empleados. Esto puede indicar que la estabilidad financiera y la seguridad laboral influyen en la duración del matrimonio en esta categoría.\n",
        "\n",
        "Sin embargo, también se pueden observar casos atípicos donde algunos hombres tienen ingresos altos como empleados, pero mantienen una duración de matrimonio constante de 20 a 30 años. Estos casos podrían sugerir que otros factores, aparte del nivel de ingresos, están influyendo en la duración del matrimonio, como la calidad de la relación o los compromisos personales de cada individuo.\n",
        "\n",
        "Estos hallazgos resaltan cómo el nivel de ingresos y el tipo de empleo pueden tener un impacto en la duración del matrimonio en hombres. Además, nos muestran que existen situaciones excepcionales donde factores adicionales pueden ser determinantes en la estabilidad matrimonial."
      ],
      "metadata": {
        "id": "l5SzhLgg8dRI"
      }
    },
    {
      "cell_type": "code",
      "source": [
        "plt.figure(figsize=(10, 6))\n",
        "sns.histplot(data=Divorcio, x=\"Matri_A√±os\", hue=\"ElEscolaridad\", bins=10, palette='Set2')\n",
        "plt.xlabel('Años de matrimonio')\n",
        "plt.ylabel('Cantidad de divorcios')\n",
        "plt.title('Distribución de años de matrimonio de él según el nivel de escolaridad')"
      ],
      "metadata": {
        "colab": {
          "base_uri": "https://localhost:8080/",
          "height": 583
        },
        "id": "XYwmd3lM8ekg",
        "outputId": "8efe33f9-7340-4164-fb81-a22fe64c3e8f"
      },
      "execution_count": null,
      "outputs": [
        {
          "output_type": "execute_result",
          "data": {
            "text/plain": [
              "Text(0.5, 1.0, 'Distribución de años de matrimonio de él según el nivel de escolaridad')"
            ]
          },
          "metadata": {},
          "execution_count": 36
        },
        {
          "output_type": "display_data",
          "data": {
            "text/plain": [
              "<Figure size 1000x600 with 1 Axes>"
            ],
            "image/png": "[encoded data removed]"
          },
          "metadata": {}
        }
      ]
    },
    {
      "cell_type": "markdown",
      "source": [
        "Al analizar el histograma, podemos identificar una tendencia interesante. En el caso de los hombres, se observa que la mayoría de divorcios se concentra en el grupo de profesionales. Este grupo muestra una mayor propensión a divorciarse en comparación con otros niveles de escolaridad.\n",
        "\n",
        "Además, el primer grupo en el histograma, donde los años de matrimonio son más reducidos, está compuesto principalmente por profesionales, seguido de aquellos que completaron preparatoria y luego secundaria. En este grupo, se observa una cantidad de divorcios que supera los 800 casos. A medida que aumentan los años de matrimonio, se puede apreciar una disminución gradual en el número de divorcios entre los profesionales.\n",
        "\n",
        "Estos hallazgos resaltan la posible influencia del nivel de escolaridad en la duración del matrimonio, indicando que los profesionales pueden estar más propensos a experimentar divorcios en comparación con otros grupos. Sin embargo, es importante tener en cuenta que el análisis de las causas de los divorcios y otros factores involucrados requiere una investigación más detallada."
      ],
      "metadata": {
        "id": "3F7irbO8-5vI"
      }
    },
    {
      "cell_type": "code",
      "source": [
        "plt.figure(figsize=(10, 6))\n",
        "sns.histplot(data=Divorcio, x=\"Matri_A√±os\", hue=\"EllaEscolaridad\", bins=10, palette='Set2')\n",
        "plt.xlabel('Años de matrimonio')\n",
        "plt.ylabel('Cantidad de divorcios')\n",
        "plt.title('Distribución de años de matrimonio de ella según el nivel de escolaridad')"
      ],
      "metadata": {
        "colab": {
          "base_uri": "https://localhost:8080/",
          "height": 583
        },
        "id": "KK6rIvdw-org",
        "outputId": "397f7662-e5ab-4ef1-8a18-86a49c77a520"
      },
      "execution_count": null,
      "outputs": [
        {
          "output_type": "execute_result",
          "data": {
            "text/plain": [
              "Text(0.5, 1.0, 'Distribución de años de matrimonio de ella según el nivel de escolaridad')"
            ]
          },
          "metadata": {},
          "execution_count": 37
        },
        {
          "output_type": "display_data",
          "data": {
            "text/plain": [
              "<Figure size 1000x600 with 1 Axes>"
            ],
            "image/png": "[encoded data removed]"
          },
          "metadata": {}
        }
      ]
    },
    {
      "cell_type": "markdown",
      "source": [
        "Al analizar el histograma de las mujeres, se puede observar una tendencia similar a la de los hombres. Las mujeres profesionales también presentan una mayor cantidad de divorcios en comparación con otras categorías de escolaridad.\n",
        "\n",
        "En el grupo con la mayor cantidad de divorcios, se registran más de 900 casos, y aproximadamente 600 de estos corresponden a mujeres profesionales. Es interesante notar que esta alta cantidad de divorcios se concentra en mujeres con un número de años de matrimonio bastante reducido.\n",
        "\n",
        "En segundo lugar, se encuentran las mujeres que completaron la preparatoria, quienes también presentan una cantidad significativa de divorcios en el histograma. Por último, en menor medida, se observan mujeres que asistieron a la secundaria.\n",
        "\n",
        "Estos hallazgos indican que la categoría de escolaridad, particularmente la de profesionales, puede tener una influencia importante en la tendencia de divorcio en mujeres. Sin embargo, es importante realizar un análisis más exhaustivo para comprender mejor los factores que contribuyen a estos resultados y tener en cuenta que existen múltiples variables y contextos que pueden influir en la estabilidad matrimonial."
      ],
      "metadata": {
        "id": "gT5BX-F6Awbg"
      }
    },
    {
      "cell_type": "code",
      "source": [
        "sns.histplot(data=Divorcio, x=\"Edad\", bins=20, stat=\"density\", color=\"salmon\")\n",
        "plt.ylabel('Frecuencia')\n",
        "plt.show()\n",
        "#yaxis.axis_label = \"Frecuencia\"\n",
        "\n"
      ],
      "metadata": {
        "colab": {
          "base_uri": "https://localhost:8080/",
          "height": 449
        },
        "id": "QN-mLM0FTgAD",
        "outputId": "e78a7564-d222-4154-ef94-6be6bd14a85b"
      },
      "execution_count": null,
      "outputs": [
        {
          "output_type": "display_data",
          "data": {
            "text/plain": [
              "<Figure size 640x480 with 1 Axes>"
            ],
            "image/png": "[encoded data removed]"
          },
          "metadata": {}
        }
      ]
    },
    {
      "cell_type": "markdown",
      "source": [
        "En el histograma se observa una notable concentración en dos grupos de edades, específicamente en torno a los 30 y los 40 años. Esta tendencia sugiere que la mayoría de las personas se divorcian durante estas etapas de la vida. Podemos inferir que estas edades marcan el comienzo de una nueva década en la vida de las personas, donde se busca un cambio en la forma de vida y se experimenta un cambio en la perspectiva. Este factor podría ser relevante al considerar las causas del divorcio."
      ],
      "metadata": {
        "id": "j38GO9FnWzRL"
      }
    },
    {
      "cell_type": "code",
      "source": [
        "\n",
        "sns.histplot(data=Divorcio, x=\"Num_Hijos\", bins=20, stat=\"density\", color=\"olive\")\n",
        "plt.ylabel('Frecuencia')\n",
        "plt.show()"
      ],
      "metadata": {
        "colab": {
          "base_uri": "https://localhost:8080/",
          "height": 450
        },
        "id": "SAIJNTSRUzBl",
        "outputId": "51dd831c-2a59-4572-8358-354c6819333b"
      },
      "execution_count": null,
      "outputs": [
        {
          "output_type": "display_data",
          "data": {
            "text/plain": [
              "<Figure size 640x480 with 1 Axes>"
            ],
            "image/png": "[encoded data removed]"
          },
          "metadata": {}
        }
      ]
    },
    {
      "cell_type": "markdown",
      "source": [
        "Al analizar el histograma, se evidencia que el grupo más numeroso de divorcios se encuentra en parejas sin hijos o con un máximo de dos hijos. Esto podría estar relacionado con el nivel de compromiso que implica tener pocos hijos. Es posible que las parejas estén más propensas a separarse cuando no tienen una razón sólida que los una, como la responsabilidad de criar y cuidar a un hijo. En contraste, la presencia de múltiples hijos puede generar una mayor conexión emocional y compromiso, lo que podría actuar como un factor de estabilidad en la relación de pareja."
      ],
      "metadata": {
        "id": "TEaGck4gZvg1"
      }
    },
    {
      "cell_type": "code",
      "source": [
        "Año = Divorcio['Fecha de Matrimonio'].dt.year"
      ],
      "metadata": {
        "id": "v08yn7JhZIoT"
      },
      "execution_count": null,
      "outputs": []
    },
    {
      "cell_type": "code",
      "source": [
        "\n",
        "plt.figure(figsize=(10, 6))\n",
        "\n",
        "# Extraer el año de la columna \"Fecha de Divorcio\"\n",
        "Divorcio[\"Año Divorcio\"] = pd.to_datetime(Divorcio[\"Fecha de Divorcio\"]).dt.year\n",
        "\n"
      ],
      "metadata": {
        "colab": {
          "base_uri": "https://localhost:8080/",
          "height": 35
        },
        "id": "CqzkRZ3OXBlC",
        "outputId": "e7c3feb3-3bc7-4946-9f13-89d6f170a145"
      },
      "execution_count": null,
      "outputs": [
        {
          "output_type": "display_data",
          "data": {
            "text/plain": [
              "<Figure size 1000x600 with 0 Axes>"
            ]
          },
          "metadata": {}
        }
      ]
    },
    {
      "cell_type": "code",
      "source": [
        "\n",
        "plt.figure(figsize=(10, 6))\n",
        "\n",
        "# Extraer el año de la columna \"Fecha de Divorcio\"\n",
        "Divorcio[\"Año Divorcio\"] = pd.to_datetime(Divorcio[\"Fecha de Divorcio\"]).dt.year\n",
        "\n",
        "# Utilizar una paleta de colores\n",
        "palette = sns.color_palette(\"viridis\", len(Divorcio[\"Año Divorcio\"].unique()))\n",
        "\n",
        "sns.scatterplot(data=Divorcio, x=\"Num_Hijos\", y=\"Matri_A√±os\", hue=\"Año Divorcio\", palette=palette)\n",
        "\n",
        "plt.ylabel('Años de matrimonio')\n",
        "plt.xlabel('Número de hijos')\n",
        "plt.title('Gráfico de dispersión: Número de hijos vs. Años de matrimonio')\n",
        "\n",
        "plt.show()"
      ],
      "metadata": {
        "colab": {
          "base_uri": "https://localhost:8080/",
          "height": 565
        },
        "id": "U_dQbtk4gnWl",
        "outputId": "c1251b14-b2be-4337-851f-dc543a54c642"
      },
      "execution_count": null,
      "outputs": [
        {
          "output_type": "display_data",
          "data": {
            "text/plain": [
              "<Figure size 1000x600 with 1 Axes>"
            ],
            "image/png": "[encoded data removed]"
          },
          "metadata": {}
        }
      ]
    },
    {
      "cell_type": "markdown",
      "source": [
        "Al observar el diagrama de dispersión, se puede apreciar una tendencia que sugiere que a medida que el número de hijos disminuye, los años de matrimonio también tienden a ser menores. Esto podría indicar una posible relación entre la cantidad de hijos y la duración del matrimonio.\n",
        "\n",
        "Además, se nota una menor cantidad de divorcios en los años comprendidos entre 2011 y 2012, lo cual se refleja en la presencia de menos puntos en tonalidades amarillas en el gráfico. En contraste, se observa una mayor concentración de puntos en tonalidades azules, lo cual puede indicar un aumento en la cantidad de divorcios en esos años.\n",
        "\n",
        "Estas observaciones preliminares sugieren que tanto el número de hijos como el año de divorcio pueden desempeñar un papel importante en la duración del matrimonio y la probabilidad de divorcio, aunque por otro lado se evidencian matrimonios con mas larga duracion sin ningun hijo en la familia."
      ],
      "metadata": {
        "id": "rGd6A1r3iN_b"
      }
    },
    {
      "cell_type": "code",
      "source": [
        "\n",
        "conteo_divorcios_por_año = Divorcio.groupby(Divorcio['Fecha de Divorcio'].dt.year).size()\n",
        "print(conteo_divorcios_por_año)"
      ],
      "metadata": {
        "colab": {
          "base_uri": "https://localhost:8080/"
        },
        "id": "B_ItiaQ-n6Hc",
        "outputId": "30b76d88-a212-4e57-8e60-0b54228c0018"
      },
      "execution_count": null,
      "outputs": [
        {
          "output_type": "stream",
          "name": "stdout",
          "text": [
            "Fecha de Divorcio\n",
            "2000    318\n",
            "2001    325\n",
            "2002    344\n",
            "2003    321\n",
            "2004    305\n",
            "2005    274\n",
            "2006    304\n",
            "2007    342\n",
            "2008    367\n",
            "2009    358\n",
            "2010    290\n",
            "2011    408\n",
            "2012    401\n",
            "2013    325\n",
            "2014    211\n",
            "2015     30\n",
            "dtype: int64\n"
          ]
        }
      ]
    },
    {
      "cell_type": "code",
      "source": [
        "filtro = (Divorcio[\"Año Divorcio\"].isin([2011, 2012]))\n",
        "datos_filtrados = Divorcio.loc[filtro]\n",
        "\n",
        "plt.figure(figsize=(10, 6))\n",
        "sns.boxplot(x=datos_filtrados[\"Año Divorcio\"], y=datos_filtrados[\"Edad\"], palette=\"Set3\")\n",
        "plt.title('Boxplot comparativo Años vs Edad (2011-2012)')\n",
        "plt.xlabel('Año')\n",
        "plt.ylabel('Edad')\n",
        "\n",
        "plt.show()"
      ],
      "metadata": {
        "colab": {
          "base_uri": "https://localhost:8080/",
          "height": 564
        },
        "id": "E79LfmNmaz0a",
        "outputId": "a534c91e-0084-48fd-c034-62922d22d6d8"
      },
      "execution_count": null,
      "outputs": [
        {
          "output_type": "display_data",
          "data": {
            "text/plain": [
              "<Figure size 1000x600 with 1 Axes>"
            ],
            "image/png": "[encoded data removed]"
          },
          "metadata": {}
        }
      ]
    },
    {
      "cell_type": "markdown",
      "source": [
        "Según el resumen numérico anterior, se observa que los años 2011 y 2012 registraron la mayor cantidad de divorcios. Al analizar un gráfico de caja y bigotes, se puede apreciar que la distribución de las edades de divorcio no fue muy amplia, ya que se concentraron principalmente entre los 35 y 47 años, lo cual se refleja en una caja de tamaño reducido. Sin embargo, también se observan edades mínimas de divorcio de 20 años y edades máximas cercanas a los 69-70 años. Por otro lado, se identifican varios valores atípicos en el año 2011, donde los divorcios se presentaron en edades avanzadas que superaban los 70 años."
      ],
      "metadata": {
        "id": "E5s_1Im2uweK"
      }
    },
    {
      "cell_type": "code",
      "source": [
        "plt.figure(figsize=(12, 8))  # Cambiar el tamaño de la figura\n",
        "\n",
        "sns.boxplot(x=Divorcio[\"Año Divorcio\"], y=Divorcio[\"Edad\"])\n",
        "plt.title('Boxplot comparativo Años vs Edad')\n",
        "plt.xlabel('Año')\n",
        "plt.ylabel('Edad')\n",
        "\n",
        "plt.show()"
      ],
      "metadata": {
        "colab": {
          "base_uri": "https://localhost:8080/",
          "height": 718
        },
        "id": "kknExCuDqN72",
        "outputId": "feb09f77-7954-4d34-f9ff-8f4327bd1f63"
      },
      "execution_count": null,
      "outputs": [
        {
          "output_type": "display_data",
          "data": {
            "text/plain": [
              "<Figure size 1200x800 with 1 Axes>"
            ],
            "image/png": "[encoded data removed]"
          },
          "metadata": {}
        }
      ]
    },
    {
      "cell_type": "markdown",
      "source": [
        "En el diagrama de caja y bigotes se puede observar que en la mayoría de los años los divorcios ocurrieron a partir de los 30 años de edad. Algunos años presentaron una edad mínima de divorcio entre los 20 y 30 años. Además, la mayor acumulación de datos se concentra principalmente después de los 35 años, como se evidencia en los años 2000, 2007, 2012 y 2015. La edad máxima de divorcio varía entre los 57 y 75 años, y más allá de esos valores se encuentran los valores atípicos más alejados, registrados en los años 2006 y 2011, donde las edades superaban los 80 años.\n",
        "\n",
        "Podría inferirse que a medida que los hijos abandonan el hogar y los padres llegan a edades avanzadas, existe una tendencia a convivir más en pareja y considerar la opción del divorcio. Esto se tiene en cuenta considerando que los divorcios disminuyen a medida que aumenta el número de hijos."
      ],
      "metadata": {
        "id": "xG4yIQLgwfni"
      }
    },
    {
      "cell_type": "markdown",
      "source": [
        "## Recomendaciones"
      ],
      "metadata": {
        "id": "iTXJxY9Qk9eJ"
      }
    },
    {
      "cell_type": "markdown",
      "source": [
        "\n",
        "\n",
        "\n",
        "1.   Promoción de la igualdad salarial: Dado que se observa una brecha salarial\n",
        "entre hombres y mujeres en los años de divorcio, se podría implementar\n",
        "políticas que fomenten la igualdad salarial y reduzcan la disparidad de ingresos de género. Esto podría incluir leyes que promuevan la transparencia salarial, programas de capacitación y educación en igualdad de género en el lugar de trabajo, y apoyo a la participación equitativa de las mujeres en puestos de liderazgo y alta remuneración.\n",
        "\n",
        "2.   Apoyo a la estabilidad económica: La crisis económica que afectó los años de divorcio sugiere que es importante brindar apoyo económico y programas de asistencia a las parejas que enfrentan dificultades financieras. Esto puede incluir programas de asesoramiento financiero, subsidios para el acceso a vivienda asequible y programas de capacitación laboral para mejorar las perspectivas de empleo.\n",
        "\n",
        "3.   Promoción de la educación y la formación profesional: Dado que la educación y la ocupación pueden influir en la duración del matrimonio, se podrían implementar políticas que fomenten la educación de calidad y la capacitación laboral. Esto podría incluir programas de becas, incentivos fiscales para la educación continua y asociaciones entre empresas y universidades para promover la adquisición de habilidades relevantes en el mercado laboral.\n",
        "\n",
        "4.   Apoyo a la conciliación trabajo-familia: Considerando que el número de hijos tiene relevancia en la duración del matrimonio, se podrían implementar políticas de apoyo a la conciliación trabajo-familia. Esto puede incluir licencias parentales remuneradas, horarios de trabajo flexibles, servicios de cuidado infantil asequibles y programas de apoyo a la crianza responsable.\n",
        "\n",
        "5.   Educación en habilidades de comunicación y resolución de conflictos: Dado que los patrones de divorcio se observan en ciertos grupos de edad, se podría promover la educación en habilidades de comunicación y resolución de conflictos desde etapas tempranas de la vida. Esto podría incluir programas escolares, talleres para parejas y programas comunitarios que fomenten la comunicación efectiva y la gestión saludable de conflictos.\n",
        "\n",
        "6.   Acceso a servicios de apoyo y asesoramiento: Para las parejas que enfrentan dificultades matrimoniales, se podría mejorar el acceso a servicios de asesoramiento matrimonial y familiar. Esto podría incluir la expansión de los servicios de salud mental, la creación de líneas telefónicas de ayuda y la capacitación de profesionales en terapia de pareja.\n",
        "\n",
        "\n",
        "\n",
        "\n",
        "\n",
        "\n",
        "\n",
        "\n",
        "\n",
        "\n",
        "\n",
        "\n",
        "\n",
        "\n",
        "\n",
        "\n"
      ],
      "metadata": {
        "id": "wkSw3wUwlV6h"
      }
    },
    {
      "cell_type": "markdown",
      "source": [
        "## Reducción de la dimensionalidad"
      ],
      "metadata": {
        "id": "7PMr7ZDuhTBg"
      }
    },
    {
      "cell_type": "code",
      "source": [
        "Divorcio['Matri_Anios'] = Divorcio['Matri_A√±os'].copy()"
      ],
      "metadata": {
        "id": "yaE0lIcbYl2J"
      },
      "execution_count": null,
      "outputs": []
    },
    {
      "cell_type": "code",
      "source": [
        "# Diccionario para homologar los valores\n",
        "homologacion = {\n",
        "    'EMPLEADO': 1,\n",
        "    'ESTABLECIMIENTO': 2,\n",
        "    'JORNALERO O PEON': 3,\n",
        "    'MIEMBRO DE COOPERATIVA': 4,\n",
        "    'NO TRABAJA': 5,\n",
        "    'OBRERO': 6,\n",
        "    'PATRON O EMPRESARIO': 7,\n",
        "    'TRABAJA EN SU VIVIENDA': 8,\n",
        "    'TRABAJADOR NO REMUNERADO': 9,\n",
        "    'TRABAJADOR POR SU PROPIA CUENTA O EN VIA PUBLICA': 10,\n",
        "}\n",
        "\n",
        "# Homologar los valores utilizando el diccionario\n",
        "Divorcio['El_Trabajo'] = Divorcio['ElTrabajo'].map(homologacion)\n",
        "\n",
        "# Homologar los valores utilizando el diccionario\n",
        "Divorcio['Ella_Trabajo'] = Divorcio['EllaTrabajo'].map(homologacion)"
      ],
      "metadata": {
        "id": "ybLTYfal5PGY"
      },
      "execution_count": null,
      "outputs": []
    },
    {
      "cell_type": "code",
      "source": [
        "# Diccionario para homologar los valores\n",
        "homologacion_escolaridad = {\n",
        "    'OTRO': 1,\n",
        "    'PREPARATORIA': 2,\n",
        "    'PRIMARIA': 3,\n",
        "    'PROFESIONAL': 4,\n",
        "    'SECUNDARIA': 5,\n",
        "    'SIN ESCOLARIDAD': 6,\n",
        "}\n",
        "\n",
        "# Homologar los valores utilizando el diccionario\n",
        "Divorcio['El_Escolaridad'] = Divorcio['ElEscolaridad'].map(homologacion_escolaridad)\n",
        "Divorcio['Ella_Escolaridad'] = Divorcio['EllaEscolaridad'].map(homologacion_escolaridad)"
      ],
      "metadata": {
        "id": "Hs1pi7RK5-x0"
      },
      "execution_count": null,
      "outputs": []
    },
    {
      "cell_type": "code",
      "source": [
        "#media de las variables\n",
        "prom_El_Trabajo= Divorcio[\"El_Trabajo\"].mean()\n",
        "prom_Ella_Trabajo= Divorcio[\"Ella_Trabajo\"].mean()\n",
        "prom_El_Escolaridad= Divorcio[\"El_Escolaridad\"].mean()\n",
        "prom_Ella_Escolaridad= Divorcio[\"Ella_Escolaridad\"].mean()"
      ],
      "metadata": {
        "id": "UpzYvgd662xF"
      },
      "execution_count": null,
      "outputs": []
    },
    {
      "cell_type": "code",
      "source": [
        "#cambiar nan por el promedio\n",
        "Divorcio[\"El_Trabajo\"]=Divorcio[\"El_Trabajo\"].replace(np.nan,prom_El_Trabajo)\n",
        "Divorcio[\"Ella_Trabajo\"]=Divorcio[\"Ella_Trabajo\"].replace(np.nan,prom_Ella_Trabajo)\n",
        "Divorcio[\"El_Escolaridad\"]=Divorcio[\"El_Escolaridad\"].replace(np.nan,prom_El_Escolaridad)\n",
        "Divorcio[\"Ella_Escolaridad\"]=Divorcio[\"Ella_Escolaridad\"].replace(np.nan,prom_Ella_Escolaridad)"
      ],
      "metadata": {
        "id": "MUGgPH0i7adv"
      },
      "execution_count": null,
      "outputs": []
    },
    {
      "cell_type": "markdown",
      "source": [
        "## Metodo PCA"
      ],
      "metadata": {
        "id": "ZFod7cGn9SxH"
      }
    },
    {
      "cell_type": "code",
      "source": [
        "\n",
        "# Extraer las variables independientes\n",
        "X = Divorcio[['EllaIngreso', 'ElIngreso', 'Edad', 'Num_Hijos','El_Trabajo', 'Ella_Trabajo', 'Ella_Escolaridad', 'El_Escolaridad']]\n",
        "\n",
        "# Realizar PCA y obtener los componentes principales\n",
        "pca = PCA()\n",
        "components = pca.fit_transform(X)\n",
        "\n",
        "# Seleccionar los componentes principales más importantes\n",
        "n_components = 8\n",
        "selected_components = components[:, :n_components]\n",
        "\n",
        "# Crear un nuevo DataFrame con los componentes principales seleccionados y la variable dependiente\n",
        "pca_df = pd.DataFrame(selected_components, columns=[f'PC{i+1}' for i in range(n_components)])\n",
        "pca_df['Matri_Anios'] = Divorcio['Matri_Anios']\n",
        "\n",
        "# Modelo de regresión lineal con los componentes principales\n",
        "model_pca = 'Matri_Anios ~ ' + ' + '.join([f'PC{i+1}' for i in range(n_components)])\n",
        "lm_pca = smf.ols(formula=model_pca, data=pca_df).fit()\n",
        "print(lm_pca.summary())"
      ],
      "metadata": {
        "colab": {
          "base_uri": "https://localhost:8080/"
        },
        "id": "om6l-Bcu1fvM",
        "outputId": "0015b7b0-6ebb-4bed-fa87-65ea1c0d21dd"
      },
      "execution_count": null,
      "outputs": [
        {
          "output_type": "stream",
          "name": "stdout",
          "text": [
            "                            OLS Regression Results                            \n",
            "==============================================================================\n",
            "Dep. Variable:            Matri_Anios   R-squared:                       0.556\n",
            "Model:                            OLS   Adj. R-squared:                  0.556\n",
            "Method:                 Least Squares   F-statistic:                     770.4\n",
            "Date:                Wed, 19 Jul 2023   Prob (F-statistic):               0.00\n",
            "Time:                        03:06:06   Log-Likelihood:                -15842.\n",
            "No. Observations:                4923   AIC:                         3.170e+04\n",
            "Df Residuals:                    4914   BIC:                         3.176e+04\n",
            "Df Model:                           8                                         \n",
            "Covariance Type:            nonrobust                                         \n",
            "==============================================================================\n",
            "                 coef    std err          t      P>|t|      [0.025      0.975]\n",
            "------------------------------------------------------------------------------\n",
            "Intercept     11.7235      0.086    135.993      0.000      11.555      11.893\n",
            "PC1         3.321e-06   1.45e-06      2.295      0.022    4.85e-07    6.16e-06\n",
            "PC2         3.827e-05   7.14e-06      5.362      0.000    2.43e-05    5.23e-05\n",
            "PC3            0.6049      0.008     72.066      0.000       0.588       0.621\n",
            "PC4            0.2880      0.044      6.566      0.000       0.202       0.374\n",
            "PC5           -0.1554      0.055     -2.830      0.005      -0.263      -0.048\n",
            "PC6            2.3532      0.080     29.367      0.000       2.196       2.510\n",
            "PC7            0.3783      0.082      4.613      0.000       0.218       0.539\n",
            "PC8           -0.1052      0.099     -1.060      0.289      -0.300       0.089\n",
            "==============================================================================\n",
            "Omnibus:                      374.356   Durbin-Watson:                   1.997\n",
            "Prob(Omnibus):                  0.000   Jarque-Bera (JB):             1769.754\n",
            "Skew:                           0.202   Prob(JB):                         0.00\n",
            "Kurtosis:                       5.909   Cond. No.                     6.86e+04\n",
            "==============================================================================\n",
            "\n",
            "Notes:\n",
            "[1] Standard Errors assume that the covariance matrix of the errors is correctly specified.\n",
            "[2] The condition number is large, 6.86e+04. This might indicate that there are\n",
            "strong multicollinearity or other numerical problems.\n"
          ]
        }
      ]
    },
    {
      "cell_type": "markdown",
      "source": [
        "## Regresión"
      ],
      "metadata": {
        "id": "yXwzemR4Yv3A"
      }
    },
    {
      "cell_type": "code",
      "source": [
        "model1 = 'Matri_Anios~ElIngreso +  EllaIngreso + Edad  + El_Trabajo + Num_Hijos + Ella_Trabajo + Ella_Escolaridad + El_Escolaridad'\n",
        "lm1   = smf.ols(formula = model1, data = Divorcio).fit()\n",
        "print(lm1.summary())"
      ],
      "metadata": {
        "colab": {
          "base_uri": "https://localhost:8080/"
        },
        "id": "Y7pnQA3hq5JR",
        "outputId": "523edd36-2077-42aa-9d34-3f5e0e6e557e"
      },
      "execution_count": null,
      "outputs": [
        {
          "output_type": "stream",
          "name": "stdout",
          "text": [
            "                            OLS Regression Results                            \n",
            "==============================================================================\n",
            "Dep. Variable:            Matri_Anios   R-squared:                       0.556\n",
            "Model:                            OLS   Adj. R-squared:                  0.556\n",
            "Method:                 Least Squares   F-statistic:                     770.4\n",
            "Date:                Wed, 19 Jul 2023   Prob (F-statistic):               0.00\n",
            "Time:                        03:06:06   Log-Likelihood:                -15842.\n",
            "No. Observations:                4923   AIC:                         3.170e+04\n",
            "Df Residuals:                    4914   BIC:                         3.176e+04\n",
            "Df Model:                           8                                         \n",
            "Covariance Type:            nonrobust                                         \n",
            "====================================================================================\n",
            "                       coef    std err          t      P>|t|      [0.025      0.975]\n",
            "------------------------------------------------------------------------------------\n",
            "Intercept          -11.3111      0.536    -21.117      0.000     -12.361     -10.261\n",
            "ElIngreso         2.091e-07   1.48e-06      0.142      0.887   -2.69e-06     3.1e-06\n",
            "EllaIngreso        1.16e-05   7.15e-06      1.623      0.105   -2.41e-06    2.56e-05\n",
            "Edad                 0.5139      0.009     57.412      0.000       0.496       0.531\n",
            "El_Trabajo           0.0044      0.053      0.083      0.934      -0.099       0.108\n",
            "Num_Hijos            2.4211      0.080     30.271      0.000       2.264       2.578\n",
            "Ella_Trabajo         0.1481      0.047      3.146      0.002       0.056       0.240\n",
            "Ella_Escolaridad    -0.1251      0.092     -1.364      0.173      -0.305       0.055\n",
            "El_Escolaridad       0.0314      0.090      0.348      0.728      -0.145       0.208\n",
            "==============================================================================\n",
            "Omnibus:                      374.356   Durbin-Watson:                   1.997\n",
            "Prob(Omnibus):                  0.000   Jarque-Bera (JB):             1769.754\n",
            "Skew:                           0.202   Prob(JB):                         0.00\n",
            "Kurtosis:                       5.909   Cond. No.                     3.79e+05\n",
            "==============================================================================\n",
            "\n",
            "Notes:\n",
            "[1] Standard Errors assume that the covariance matrix of the errors is correctly specified.\n",
            "[2] The condition number is large, 3.79e+05. This might indicate that there are\n",
            "strong multicollinearity or other numerical problems.\n"
          ]
        }
      ]
    },
    {
      "cell_type": "markdown",
      "source": [
        "Al ver las graficas de dispersión pude identificar una relación lineal entre las variables y los años de matrimonio por eso utilice para este analisis la regresión linea multiple.\n",
        "\n",
        "En el análisis del modelo, se observa que el coeficiente de determinación (R-cuadrado) es mayor a 0.566, lo cual indica que los datos explican de manera satisfactoria el modelo.\n",
        "\n",
        "Al examinar los valores de p asociados a las variables independientes, se observa que algunos de ellos son mayores a 0.5. Esto indica que, al ejecutar nuevamente el modelo, es poco probable que estos coeficientes se vean afectados significativamente. Por otro lado, también se observa que algunos intervalos de confianza no incluyen el valor cero, lo cual sugiere que ciertas variables independientes pueden tener un efecto significativo en los años de matrimonio de una pareja.\n",
        "\n",
        "Por ejemplo, al considerar la variable \"El trabajo\" que indica la profesión del hombre, se observa que si no trabaja, esto puede explicar los años de matrimonio de la pareja, al igual que ocurre con la mujer. En relación a la variable \"ingreso de él\", se encuentra relevante en el modelo para determinar los años de matrimonio, mientras que el ingreso de la mujer no parece tener la misma relevancia. Asimismo, el número de hijos también muestra importancia en el modelo para determinar los años de matrimonio.\n"
      ],
      "metadata": {
        "id": "qHbJ2cweeASd"
      }
    },
    {
      "cell_type": "code",
      "source": [
        "correlation_matrix = Divorcio[['EllaIngreso', 'ElIngreso', 'Edad'  , 'Num_Hijos', 'Ella_Escolaridad', 'El_Escolaridad','El_Trabajo','Ella_Trabajo',]].corr()\n",
        "print(correlation_matrix)"
      ],
      "metadata": {
        "colab": {
          "base_uri": "https://localhost:8080/"
        },
        "id": "xB_7u5aEm8n7",
        "outputId": "b750ea70-6080-4beb-d1a9-62739ed62675"
      },
      "execution_count": null,
      "outputs": [
        {
          "output_type": "stream",
          "name": "stdout",
          "text": [
            "                  EllaIngreso  ElIngreso      Edad  Num_Hijos  \\\n",
            "EllaIngreso          1.000000   0.195737  0.062766   0.007154   \n",
            "ElIngreso            0.195737   1.000000  0.027412   0.004678   \n",
            "Edad                 0.062766   0.027412  1.000000   0.327157   \n",
            "Num_Hijos            0.007154   0.004678  0.327157   1.000000   \n",
            "Ella_Escolaridad     0.033781   0.009186  0.072142   0.009536   \n",
            "El_Escolaridad       0.018207   0.013647  0.044422   0.005361   \n",
            "El_Trabajo          -0.003691  -0.006245  0.080048   0.053062   \n",
            "Ella_Trabajo        -0.001995  -0.013016  0.091674   0.115949   \n",
            "\n",
            "                  Ella_Escolaridad  El_Escolaridad  El_Trabajo  Ella_Trabajo  \n",
            "EllaIngreso               0.033781        0.018207   -0.003691     -0.001995  \n",
            "ElIngreso                 0.009186        0.013647   -0.006245     -0.013016  \n",
            "Edad                      0.072142        0.044422    0.080048      0.091674  \n",
            "Num_Hijos                 0.009536        0.005361    0.053062      0.115949  \n",
            "Ella_Escolaridad          1.000000        0.192816   -0.018557     -0.055651  \n",
            "El_Escolaridad            0.192816        1.000000   -0.057759     -0.017477  \n",
            "El_Trabajo               -0.018557       -0.057759    1.000000      0.194264  \n",
            "Ella_Trabajo             -0.055651       -0.017477    0.194264      1.000000  \n"
          ]
        }
      ]
    },
    {
      "cell_type": "code",
      "source": [
        "# R-cuadrado (R²)\n",
        "r_squared = lm1.rsquared\n",
        "\n",
        "\n",
        "# F-statistic y p-value\n",
        "f_statistic = lm1.fvalue\n",
        "p_value = lm1.f_pvalue\n",
        "\n",
        "print(\"R-cuadrado (R²):\", r_squared)\n",
        "\n",
        "\n",
        "print(\"F-statistic:\", f_statistic)\n",
        "print(\"p-value:\", p_value)"
      ],
      "metadata": {
        "colab": {
          "base_uri": "https://localhost:8080/"
        },
        "id": "U5ZP7VI-ujOt",
        "outputId": "d5fca0d0-b5eb-4e38-fbdf-f68233e50bc3"
      },
      "execution_count": null,
      "outputs": [
        {
          "output_type": "stream",
          "name": "stdout",
          "text": [
            "R-cuadrado (R²): 0.5563977653932213\n",
            "F-statistic: 770.4364422233765\n",
            "p-value: 0.0\n"
          ]
        }
      ]
    },
    {
      "cell_type": "markdown",
      "source": [
        "El valor de R² es aproximadamente 0.57, lo que significa que aproximadamente el 57% de la variabilidad de la variable 'Matri_Anios' es explicada por las variables independientes incluidas en el modelo ademas un p-value tan bajo indica que el modelo en general es estadísticamente significativo."
      ],
      "metadata": {
        "id": "ulmRkFV3vvGV"
      }
    },
    {
      "cell_type": "markdown",
      "source": [
        "Basado en esta información, podemos ver que las correlaciones entre las variables no son extremadamente altas, lo cual es una buena noticia para abordar la multicolinealidad y podemos mantener el modelo planteado.\n"
      ],
      "metadata": {
        "id": "3_eMgdgouAQv"
      }
    },
    {
      "cell_type": "markdown",
      "source": [
        "## Conclusiones"
      ],
      "metadata": {
        "id": "TRHvgzkFyWa-"
      }
    },
    {
      "cell_type": "markdown",
      "source": [
        "\n",
        "1.  La variable \"El trabajo\" (profesión del hombre) y si el hombre no trabaja, puede explicar los años de matrimonio, lo mismo ocurre con la mujer.\n",
        "2.   El ingreso del hombre (\"ingreso de él\") parece ser más relevante que el de la mujer para determinar los años de matrimonio.\n",
        "3.   El número de hijos también muestra importancia en el modelo para determinar los años de matrimonio.\n",
        "\n",
        "\n",
        "\n",
        "\n"
      ],
      "metadata": {
        "id": "fdl6QGJ-yYh5"
      }
    },
    {
      "cell_type": "markdown",
      "source": [
        "## Evaluación de Modelo"
      ],
      "metadata": {
        "id": "yCSwP8D_GBij"
      }
    },
    {
      "cell_type": "code",
      "source": [
        "# Extraer las variables independientes\n",
        "X = Divorcio[['EllaIngreso', 'ElIngreso', 'Edad', 'Num_Hijos','El_Trabajo', 'Ella_Trabajo', 'Ella_Escolaridad', 'El_Escolaridad']]\n",
        "y = Divorcio['Matri_Anios']"
      ],
      "metadata": {
        "id": "ZUjDLtNlF6CU"
      },
      "execution_count": null,
      "outputs": []
    },
    {
      "cell_type": "code",
      "source": [
        "X_train, X_test, y_train, y_test = train_test_split(X, y, test_size=0.2, random_state=42)"
      ],
      "metadata": {
        "id": "IsHLYsDKG0kc"
      },
      "execution_count": null,
      "outputs": []
    },
    {
      "cell_type": "code",
      "source": [
        "model = LinearRegression()\n",
        "model.fit(X_train, y_train)"
      ],
      "metadata": {
        "colab": {
          "base_uri": "https://localhost:8080/",
          "height": 75
        },
        "id": "WjwEKwaOHl_q",
        "outputId": "051d294f-d358-47c0-d437-30fafa6c28b1"
      },
      "execution_count": null,
      "outputs": [
        {
          "output_type": "execute_result",
          "data": {
            "text/plain": [
              "LinearRegression()"
            ],
            "text/html": [
              "<style>#sk-container-id-1 {color: black;background-color: white;}#sk-container-id-1 pre{padding: 0;}#sk-container-id-1 div.sk-toggleable {background-color: white;}#sk-container-id-1 label.sk-toggleable__label {cursor: pointer;display: block;width: 100%;margin-bottom: 0;padding: 0.3em;box-sizing: border-box;text-align: center;}#sk-container-id-1 label.sk-toggleable__label-arrow:before {content: \"▸\";float: left;margin-right: 0.25em;color: #696969;}#sk-container-id-1 label.sk-toggleable__label-arrow:hover:before {color: black;}#sk-container-id-1 div.sk-estimator:hover label.sk-toggleable__label-arrow:before {color: black;}#sk-container-id-1 div.sk-toggleable__content {max-height: 0;max-width: 0;overflow: hidden;text-align: left;background-color: #f0f8ff;}#sk-container-id-1 div.sk-toggleable__content pre {margin: 0.2em;color: black;border-radius: 0.25em;background-color: #f0f8ff;}#sk-container-id-1 input.sk-toggleable__control:checked~div.sk-toggleable__content {max-height: 200px;max-width: 100%;overflow: auto;}#sk-container-id-1 input.sk-toggleable__control:checked~label.sk-toggleable__label-arrow:before {content: \"▾\";}#sk-container-id-1 div.sk-estimator input.sk-toggleable__control:checked~label.sk-toggleable__label {background-color: #d4ebff;}#sk-container-id-1 div.sk-label input.sk-toggleable__control:checked~label.sk-toggleable__label {background-color: #d4ebff;}#sk-container-id-1 input.sk-hidden--visually {border: 0;clip: rect(1px 1px 1px 1px);clip: rect(1px, 1px, 1px, 1px);height: 1px;margin: -1px;overflow: hidden;padding: 0;position: absolute;width: 1px;}#sk-container-id-1 div.sk-estimator {font-family: monospace;background-color: #f0f8ff;border: 1px dotted black;border-radius: 0.25em;box-sizing: border-box;margin-bottom: 0.5em;}#sk-container-id-1 div.sk-estimator:hover {background-color: #d4ebff;}#sk-container-id-1 div.sk-parallel-item::after {content: \"\";width: 100%;border-bottom: 1px solid gray;flex-grow: 1;}#sk-container-id-1 div.sk-label:hover label.sk-toggleable__label {background-color: #d4ebff;}#sk-container-id-1 div.sk-serial::before {content: \"\";position: absolute;border-left: 1px solid gray;box-sizing: border-box;top: 0;bottom: 0;left: 50%;z-index: 0;}#sk-container-id-1 div.sk-serial {display: flex;flex-direction: column;align-items: center;background-color: white;padding-right: 0.2em;padding-left: 0.2em;position: relative;}#sk-container-id-1 div.sk-item {position: relative;z-index: 1;}#sk-container-id-1 div.sk-parallel {display: flex;align-items: stretch;justify-content: center;background-color: white;position: relative;}#sk-container-id-1 div.sk-item::before, #sk-container-id-1 div.sk-parallel-item::before {content: \"\";position: absolute;border-left: 1px solid gray;box-sizing: border-box;top: 0;bottom: 0;left: 50%;z-index: -1;}#sk-container-id-1 div.sk-parallel-item {display: flex;flex-direction: column;z-index: 1;position: relative;background-color: white;}#sk-container-id-1 div.sk-parallel-item:first-child::after {align-self: flex-end;width: 50%;}#sk-container-id-1 div.sk-parallel-item:last-child::after {align-self: flex-start;width: 50%;}#sk-container-id-1 div.sk-parallel-item:only-child::after {width: 0;}#sk-container-id-1 div.sk-dashed-wrapped {border: 1px dashed gray;margin: 0 0.4em 0.5em 0.4em;box-sizing: border-box;padding-bottom: 0.4em;background-color: white;}#sk-container-id-1 div.sk-label label {font-family: monospace;font-weight: bold;display: inline-block;line-height: 1.2em;}#sk-container-id-1 div.sk-label-container {text-align: center;}#sk-container-id-1 div.sk-container {/* jupyter's `normalize.less` sets `[hidden] { display: none; }` but bootstrap.min.css set `[hidden] { display: none !important; }` so we also need the `!important` here to be able to override the default hidden behavior on the sphinx rendered scikit-learn.org. See: https://github.com/scikit-learn/scikit-learn/issues/21755 */display: inline-block !important;position: relative;}#sk-container-id-1 div.sk-text-repr-fallback {display: none;}</style><div id=\"sk-container-id-1\" class=\"sk-top-container\"><div class=\"sk-text-repr-fallback\"><pre>LinearRegression()</pre><b>In a Jupyter environment, please rerun this cell to show the HTML representation or trust the notebook. <br />On GitHub, the HTML representation is unable to render, please try loading this page with nbviewer.org.</b></div><div class=\"sk-container\" hidden><div class=\"sk-item\"><div class=\"sk-estimator sk-toggleable\"><input class=\"sk-toggleable__control sk-hidden--visually\" id=\"sk-estimator-id-1\" type=\"checkbox\" checked><label for=\"sk-estimator-id-1\" class=\"sk-toggleable__label sk-toggleable__label-arrow\">LinearRegression</label><div class=\"sk-toggleable__content\"><pre>LinearRegression()</pre></div></div></div></div></div>"
            ]
          },
          "metadata": {},
          "execution_count": 58
        }
      ]
    },
    {
      "cell_type": "code",
      "source": [
        "y_train_pred = model.predict(X_train)\n",
        "train_error = mean_squared_error(y_train, y_train_pred)\n",
        "print(f\"Error en el conjunto de entrenamiento: {train_error}\")"
      ],
      "metadata": {
        "colab": {
          "base_uri": "https://localhost:8080/"
        },
        "id": "TrZTTQSkHs_p",
        "outputId": "c655876a-1262-4bf0-d54e-fc65bb5f6e63"
      },
      "execution_count": null,
      "outputs": [
        {
          "output_type": "stream",
          "name": "stdout",
          "text": [
            "Error en el conjunto de entrenamiento: 35.54465582861222\n"
          ]
        }
      ]
    },
    {
      "cell_type": "code",
      "source": [
        "y_test_pred = model.predict(X_test)\n",
        "test_error = mean_squared_error(y_test, y_test_pred)\n",
        "print(f\"Error en el conjunto de prueba: {test_error}\")"
      ],
      "metadata": {
        "colab": {
          "base_uri": "https://localhost:8080/"
        },
        "id": "DJ-opg9KHxjh",
        "outputId": "89108cb5-464a-417d-e8a4-a0b105fae710"
      },
      "execution_count": null,
      "outputs": [
        {
          "output_type": "stream",
          "name": "stdout",
          "text": [
            "Error en el conjunto de prueba: 40.4859857028272\n"
          ]
        }
      ]
    },
    {
      "cell_type": "markdown",
      "source": [
        "Dado que el error en el conjunto de prueba no es significativamente mayor que el error en el conjunto de entrenamiento, es posible que el modelo no esté experimentando un overfitting evidente  lo que indica que el modelo podría beneficiarse de mejoras en su capacidad.\n",
        "Por otro lado podríamos decir que el modelo está más cerca de sufrir de underfitting que de overfitting."
      ],
      "metadata": {
        "id": "iqR-iQecIaoc"
      }
    },
    {
      "cell_type": "markdown",
      "source": [
        "**Opciones de mejora**"
      ],
      "metadata": {
        "id": "cjuIKoqMJ7ED"
      }
    },
    {
      "cell_type": "markdown",
      "source": [
        "Primero, necesito asegurarme de que mis datos estén limpios y bien preparados. Debo revisar si existen datos inconsistentes o ruidosos que puedan afectar el rendimiento del modelo y eliminarlos adecuadamente. Además, será importante verificar si hay valores faltantes y tomar decisiones sobre cómo manejarlos de la mejor manera posible.\n",
        "\n",
        "Luego, es fundamental experimentar con diferentes valores para los hiperparámetros de mi modelo. Estos parámetros influyen en su rendimiento y podrían optimizarse para mejorar la predicción en el conjunto de prueba.\n",
        "\n",
        "También, debo considerar la implementación de técnicas de regularización, como Ridge o Lasso. Estas técnicas ayudarán a evitar el sobreajuste, ya que penalizan coeficientes grandes y fomentan modelos más simples y generalizables.\n",
        "\n",
        "En general, siguiendo estos pasos y ajustando mi modelo de manera adecuada, espero obtener una predicción más precisa y efectiva de la duración del matrimonio."
      ],
      "metadata": {
        "id": "zYSTL9UvJ40b"
      }
    }
  ]
}